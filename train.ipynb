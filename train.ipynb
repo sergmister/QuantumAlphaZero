{
 "cells": [
  {
   "cell_type": "code",
   "execution_count": 1,
   "metadata": {},
   "outputs": [
    {
     "name": "stdout",
     "output_type": "stream",
     "text": [
      "Using GPU with lightning.gpu\n"
     ]
    }
   ],
   "source": [
    "import random\n",
    "import copy\n",
    "import numpy as np\n",
    "import pyspiel\n",
    "from open_spiel.python.algorithms import mcts, random_agent, minimax\n",
    "from othello_game import OthelloGame, OthelloState\n",
    "from MCTS import MCTS\n",
    "from BasicModel import BasicModel\n",
    "from NNet import NNetWrapper\n",
    "from QNet import QNetWrapper\n",
    "from HybridQNet import HybridQNetWrapper\n",
    "from Arena import Arena\n",
    "from Coach import Coach"
   ]
  },
  {
   "cell_type": "code",
   "execution_count": 2,
   "metadata": {},
   "outputs": [],
   "source": [
    "game = pyspiel.load_game(\"othello_nxn\")\n",
    "# nnet = NNetWrapper(game)\n",
    "nnet = QNetWrapper(game)\n",
    "# nnet.load_checkpoint()"
   ]
  },
  {
   "cell_type": "code",
   "execution_count": 3,
   "metadata": {},
   "outputs": [
    {
     "name": "stdout",
     "output_type": "stream",
     "text": [
      "Iter 1\n"
     ]
    },
    {
     "name": "stderr",
     "output_type": "stream",
     "text": [
      "Self Play: 100%|██████████| 5/5 [03:05<00:00, 37.18s/it]\n"
     ]
    },
    {
     "name": "stdout",
     "output_type": "stream",
     "text": [
      "Epoch 0\n"
     ]
    },
    {
     "name": "stderr",
     "output_type": "stream",
     "text": [
      "Training Net: 100%|██████████| 3/3 [00:46<00:00, 15.46s/it, Loss_v=7.80e-01]\n"
     ]
    },
    {
     "name": "stdout",
     "output_type": "stream",
     "text": [
      "Epoch 1\n"
     ]
    },
    {
     "name": "stderr",
     "output_type": "stream",
     "text": [
      "Training Net: 100%|██████████| 3/3 [00:46<00:00, 15.42s/it, Loss_v=7.52e-01]\n"
     ]
    },
    {
     "name": "stdout",
     "output_type": "stream",
     "text": [
      "Epoch 2\n"
     ]
    },
    {
     "name": "stderr",
     "output_type": "stream",
     "text": [
      "Training Net: 100%|██████████| 3/3 [00:46<00:00, 15.40s/it, Loss_v=7.28e-01]\n"
     ]
    },
    {
     "name": "stdout",
     "output_type": "stream",
     "text": [
      "Pitting against previous version\n",
      "Iter 2\n"
     ]
    },
    {
     "name": "stderr",
     "output_type": "stream",
     "text": [
      "Self Play: 100%|██████████| 5/5 [03:03<00:00, 36.65s/it]\n"
     ]
    },
    {
     "name": "stdout",
     "output_type": "stream",
     "text": [
      "Epoch 0\n"
     ]
    },
    {
     "name": "stderr",
     "output_type": "stream",
     "text": [
      "Training Net: 100%|██████████| 7/7 [01:48<00:00, 15.52s/it, Loss_v=8.64e-01]\n"
     ]
    },
    {
     "name": "stdout",
     "output_type": "stream",
     "text": [
      "Epoch 1\n"
     ]
    },
    {
     "name": "stderr",
     "output_type": "stream",
     "text": [
      "Training Net: 100%|██████████| 7/7 [01:48<00:00, 15.45s/it, Loss_v=8.34e-01]\n"
     ]
    },
    {
     "name": "stdout",
     "output_type": "stream",
     "text": [
      "Epoch 2\n"
     ]
    },
    {
     "name": "stderr",
     "output_type": "stream",
     "text": [
      "Training Net: 100%|██████████| 7/7 [01:48<00:00, 15.49s/it, Loss_v=8.21e-01]\n"
     ]
    },
    {
     "name": "stdout",
     "output_type": "stream",
     "text": [
      "Pitting against previous version\n",
      "Iter 3\n"
     ]
    },
    {
     "name": "stderr",
     "output_type": "stream",
     "text": [
      "Self Play: 100%|██████████| 5/5 [03:15<00:00, 39.11s/it]\n"
     ]
    },
    {
     "name": "stdout",
     "output_type": "stream",
     "text": [
      "Epoch 0\n"
     ]
    },
    {
     "name": "stderr",
     "output_type": "stream",
     "text": [
      "Training Net: 100%|██████████| 10/10 [02:36<00:00, 15.68s/it, Loss_v=8.82e-01]\n"
     ]
    },
    {
     "name": "stdout",
     "output_type": "stream",
     "text": [
      "Epoch 1\n"
     ]
    },
    {
     "name": "stderr",
     "output_type": "stream",
     "text": [
      "Training Net: 100%|██████████| 10/10 [02:36<00:00, 15.69s/it, Loss_v=8.61e-01]\n"
     ]
    },
    {
     "name": "stdout",
     "output_type": "stream",
     "text": [
      "Epoch 2\n"
     ]
    },
    {
     "name": "stderr",
     "output_type": "stream",
     "text": [
      "Training Net: 100%|██████████| 10/10 [02:36<00:00, 15.63s/it, Loss_v=8.52e-01]\n"
     ]
    },
    {
     "name": "stdout",
     "output_type": "stream",
     "text": [
      "Pitting against previous version\n",
      "Iter 4\n"
     ]
    },
    {
     "name": "stderr",
     "output_type": "stream",
     "text": [
      "Self Play: 100%|██████████| 5/5 [02:55<00:00, 35.00s/it]\n"
     ]
    },
    {
     "name": "stdout",
     "output_type": "stream",
     "text": [
      "Epoch 0\n"
     ]
    },
    {
     "name": "stderr",
     "output_type": "stream",
     "text": [
      "Training Net: 100%|██████████| 14/14 [03:38<00:00, 15.59s/it, Loss_v=8.62e-01]\n"
     ]
    },
    {
     "name": "stdout",
     "output_type": "stream",
     "text": [
      "Epoch 1\n"
     ]
    },
    {
     "name": "stderr",
     "output_type": "stream",
     "text": [
      "Training Net: 100%|██████████| 14/14 [03:36<00:00, 15.46s/it, Loss_v=8.43e-01]\n"
     ]
    },
    {
     "name": "stdout",
     "output_type": "stream",
     "text": [
      "Epoch 2\n"
     ]
    },
    {
     "name": "stderr",
     "output_type": "stream",
     "text": [
      "Training Net: 100%|██████████| 14/14 [03:35<00:00, 15.39s/it, Loss_v=8.49e-01]\n"
     ]
    },
    {
     "name": "stdout",
     "output_type": "stream",
     "text": [
      "Pitting against previous version\n",
      "Iter 5\n"
     ]
    },
    {
     "name": "stderr",
     "output_type": "stream",
     "text": [
      "Self Play: 100%|██████████| 5/5 [02:36<00:00, 31.21s/it]\n"
     ]
    },
    {
     "name": "stdout",
     "output_type": "stream",
     "text": [
      "Epoch 0\n"
     ]
    },
    {
     "name": "stderr",
     "output_type": "stream",
     "text": [
      "Training Net: 100%|██████████| 17/17 [04:23<00:00, 15.51s/it, Loss_v=8.19e-01]\n"
     ]
    },
    {
     "name": "stdout",
     "output_type": "stream",
     "text": [
      "Epoch 1\n"
     ]
    },
    {
     "name": "stderr",
     "output_type": "stream",
     "text": [
      "Training Net: 100%|██████████| 17/17 [04:26<00:00, 15.66s/it, Loss_v=8.28e-01]\n"
     ]
    },
    {
     "name": "stdout",
     "output_type": "stream",
     "text": [
      "Epoch 2\n"
     ]
    },
    {
     "name": "stderr",
     "output_type": "stream",
     "text": [
      "Training Net: 100%|██████████| 17/17 [04:26<00:00, 15.66s/it, Loss_v=8.12e-01]\n"
     ]
    },
    {
     "name": "stdout",
     "output_type": "stream",
     "text": [
      "Pitting against previous version\n",
      "Iter 6\n"
     ]
    },
    {
     "name": "stderr",
     "output_type": "stream",
     "text": [
      "Self Play: 100%|██████████| 5/5 [03:06<00:00, 37.24s/it]\n"
     ]
    },
    {
     "name": "stdout",
     "output_type": "stream",
     "text": [
      "Epoch 0\n"
     ]
    },
    {
     "name": "stderr",
     "output_type": "stream",
     "text": [
      "Training Net: 100%|██████████| 20/20 [05:10<00:00, 15.52s/it, Loss_v=8.28e-01]\n"
     ]
    },
    {
     "name": "stdout",
     "output_type": "stream",
     "text": [
      "Epoch 1\n"
     ]
    },
    {
     "name": "stderr",
     "output_type": "stream",
     "text": [
      "Training Net: 100%|██████████| 20/20 [05:09<00:00, 15.45s/it, Loss_v=8.30e-01]\n"
     ]
    },
    {
     "name": "stdout",
     "output_type": "stream",
     "text": [
      "Epoch 2\n"
     ]
    },
    {
     "name": "stderr",
     "output_type": "stream",
     "text": [
      "Training Net: 100%|██████████| 20/20 [05:08<00:00, 15.42s/it, Loss_v=8.20e-01]\n"
     ]
    },
    {
     "name": "stdout",
     "output_type": "stream",
     "text": [
      "Pitting against previous version\n",
      "Iter 7\n"
     ]
    },
    {
     "name": "stderr",
     "output_type": "stream",
     "text": [
      "Self Play: 100%|██████████| 5/5 [03:02<00:00, 36.42s/it]\n"
     ]
    },
    {
     "name": "stdout",
     "output_type": "stream",
     "text": [
      "Epoch 0\n"
     ]
    },
    {
     "name": "stderr",
     "output_type": "stream",
     "text": [
      "Training Net: 100%|██████████| 24/24 [06:11<00:00, 15.47s/it, Loss_v=8.41e-01]\n"
     ]
    },
    {
     "name": "stdout",
     "output_type": "stream",
     "text": [
      "Epoch 1\n"
     ]
    },
    {
     "name": "stderr",
     "output_type": "stream",
     "text": [
      "Training Net: 100%|██████████| 24/24 [06:10<00:00, 15.44s/it, Loss_v=8.35e-01]\n"
     ]
    },
    {
     "name": "stdout",
     "output_type": "stream",
     "text": [
      "Epoch 2\n"
     ]
    },
    {
     "name": "stderr",
     "output_type": "stream",
     "text": [
      "Training Net: 100%|██████████| 24/24 [06:10<00:00, 15.44s/it, Loss_v=8.29e-01]\n"
     ]
    },
    {
     "name": "stdout",
     "output_type": "stream",
     "text": [
      "Pitting against previous version\n",
      "Iter 8\n"
     ]
    },
    {
     "name": "stderr",
     "output_type": "stream",
     "text": [
      "Self Play: 100%|██████████| 5/5 [03:12<00:00, 38.43s/it]\n"
     ]
    },
    {
     "name": "stdout",
     "output_type": "stream",
     "text": [
      "Epoch 0\n"
     ]
    },
    {
     "name": "stderr",
     "output_type": "stream",
     "text": [
      "Training Net: 100%|██████████| 27/27 [07:01<00:00, 15.60s/it, Loss_v=8.58e-01]\n"
     ]
    },
    {
     "name": "stdout",
     "output_type": "stream",
     "text": [
      "Epoch 1\n"
     ]
    },
    {
     "name": "stderr",
     "output_type": "stream",
     "text": [
      "Training Net:   4%|▎         | 1/27 [00:15<06:49, 15.73s/it, Loss_v=8.66e-01]"
     ]
    }
   ],
   "source": [
    "# nnet.load_checkpoint(\"./temp\", \"checkpoint_61.pth.tar\")\n",
    "coach = Coach(game, nnet)\n",
    "coach.learn()\n",
    "\n",
    "\"\"\"\n",
    "ArenaIter 1\n",
    "Self Play: 100%|██████████| 5/5 [02:07<00:00, 25.41s/it]\n",
    "Epoch 0\n",
    "Training Net: 100%|██████████| 13/13 [00:32<00:00,  2.52s/it, Loss_v=1.00e+00]\n",
    "Epoch 1\n",
    "Training Net: 100%|██████████| 13/13 [00:32<00:00,  2.51s/it, Loss_v=9.92e-01]\n",
    "Epoch 2\n",
    "Training Net: 100%|██████████| 13/13 [00:32<00:00,  2.51s/it, Loss_v=9.75e-01]\n",
    "Epoch 3\n",
    "Training Net: 100%|██████████| 13/13 [00:32<00:00,  2.52s/it, Loss_v=9.41e-01]\n",
    "Epoch 4\n",
    "Training Net:  23%|██▎       | 3/13 [00:09<00:32,  3.29s/it, Loss_v=9.16e-01]\n",
    "\"\"\"\n",
    "\n",
    "# NesterovMomentumOptimizer\n",
    "\"\"\"\n",
    "Iter 1\n",
    "Self Play: 100%|██████████| 5/5 [02:54<00:00, 34.85s/it]\n",
    "Epoch 0\n",
    "Training Net: 100%|██████████| 14/14 [00:47<00:00,  3.39s/it, Loss_v=9.96e-01]\n",
    "Epoch 1\n",
    "Training Net: 100%|██████████| 14/14 [00:47<00:00,  3.39s/it, Loss_v=9.65e-01]\n",
    "Epoch 2\n",
    "Training Net: 100%|██████████| 14/14 [00:47<00:00,  3.38s/it, Loss_v=9.22e-01]\n",
    "Epoch 3\n",
    "Training Net: 100%|██████████| 14/14 [00:47<00:00,  3.40s/it, Loss_v=9.10e-01]\n",
    "Epoch 4\n",
    "Training Net: 100%|██████████| 14/14 [00:47<00:00,  3.38s/it, Loss_v=8.73e-01]\n",
    "\"\"\"\n",
    "\n",
    "# AdamOptimizer\n",
    "\"\"\"\n",
    "Iter 1\n",
    "Self Play: 100%|██████████| 5/5 [02:44<00:00, 32.84s/it]\n",
    "Epoch 0\n",
    "Training Net: 100%|██████████| 14/14 [00:46<00:00,  3.32s/it, Loss_v=9.60e-01]\n",
    "Epoch 1\n",
    "Training Net: 100%|██████████| 14/14 [00:46<00:00,  3.31s/it, Loss_v=9.12e-01]\n",
    "Epoch 2\n",
    "Training Net: 100%|██████████| 14/14 [00:46<00:00,  3.32s/it, Loss_v=8.85e-01]\n",
    "Epoch 3\n",
    "Training Net: 100%|██████████| 14/14 [00:46<00:00,  3.32s/it, Loss_v=8.63e-01]\n",
    "Epoch 4\n",
    "Training Net: 100%|██████████| 14/14 [00:46<00:00,  3.32s/it, Loss_v=8.50e-01]\n",
    "\"\"\""
   ]
  },
  {
   "cell_type": "code",
   "execution_count": 7,
   "metadata": {},
   "outputs": [
    {
     "data": {
      "text/plain": [
       "tensor([[[[ 4.95328345e-01,  1.89994680e+00,  2.62954632e-01],\n",
       "          [ 6.44778423e-02, -8.22153237e-01,  1.68551756e-01],\n",
       "          [-1.39518480e+00, -2.74467974e-01,  8.20406165e-01],\n",
       "          [-1.07912551e+00,  6.22062801e-01,  1.29503407e-01],\n",
       "          [-1.61998407e+00, -9.86788046e-01, -1.23146613e+00],\n",
       "          [ 1.44264965e+00,  6.42005537e-01, -7.61531962e-01],\n",
       "          [-7.82334236e-01, -1.15481023e+00,  1.63457021e+00]]],\n",
       "\n",
       "\n",
       "        [[[ 8.13004135e-01, -6.62747236e-02, -6.16689494e-01],\n",
       "          [ 5.68358662e-01,  2.94669755e-01, -1.47490331e+00],\n",
       "          [-1.86602354e-01,  1.28450454e+00,  3.15331511e-01],\n",
       "          [-9.59770203e-02, -9.83143379e-01, -1.38785423e+00],\n",
       "          [-8.51156787e-01,  3.76881803e-01,  7.52820741e-01],\n",
       "          [-4.13507113e-01,  1.34734352e+00, -3.39240637e-01],\n",
       "          [ 3.96632815e-01,  8.63767527e-01, -1.44973049e+00]]],\n",
       "\n",
       "\n",
       "        [[[-8.61444149e-02, -1.11594632e+00,  1.67603547e+00],\n",
       "          [ 5.48513283e-01,  1.18131233e+00,  1.11664081e+00],\n",
       "          [ 1.01091735e+00, -1.10826691e+00,  1.16342192e+00],\n",
       "          [ 3.09802234e-01, -1.50014283e+00, -5.77942343e-01],\n",
       "          [ 1.06413341e+00, -1.23881602e+00, -4.46900682e-02],\n",
       "          [ 8.31207220e-01,  5.23054622e-01,  1.26315334e+00],\n",
       "          [ 9.74472633e-01, -1.88299275e+00, -7.55668954e-01]]],\n",
       "\n",
       "\n",
       "        [[[-4.21498012e-01,  3.98659539e-01, -2.82025284e-01],\n",
       "          [-1.34693279e-01, -4.85933089e-01,  1.24597665e+00],\n",
       "          [ 1.04556254e+00,  1.29092414e-03,  6.35339948e-01],\n",
       "          [-1.21219977e-01,  5.93506353e-01, -1.05103599e+00],\n",
       "          [ 1.49314766e-01,  8.22197869e-01,  2.15468782e-01],\n",
       "          [ 1.69397911e+00,  6.41974412e-01,  1.41825509e+00],\n",
       "          [ 1.64756396e+00,  2.49580169e-01,  3.55983113e-01]]],\n",
       "\n",
       "\n",
       "        [[[-7.86693353e-01,  1.05254809e+00,  8.05261880e-01],\n",
       "          [-4.89480209e-01, -1.78452334e+00,  4.45648914e-01],\n",
       "          [ 7.10189998e-01,  5.07399895e-01,  2.15038776e-01],\n",
       "          [ 2.70593490e-01,  1.12731251e+00,  5.62350964e-01],\n",
       "          [-7.06660125e-03, -1.56870738e-01, -1.55167474e+00],\n",
       "          [ 9.35951789e-01,  1.60808133e+00, -5.36030901e-01],\n",
       "          [ 1.27536872e+00, -5.60199148e-01, -1.39348746e+00]]],\n",
       "\n",
       "\n",
       "        [[[ 1.00079164e-01, -3.34768137e-01,  1.79686265e+00],\n",
       "          [ 1.60436367e+00, -2.32554223e-01,  7.06270771e-01],\n",
       "          [-1.12267866e+00, -2.41777189e-01, -1.09963073e+00],\n",
       "          [-1.66438177e+00,  1.23169053e+00,  6.46056859e-01],\n",
       "          [ 1.10088769e+00, -1.18028285e+00,  4.38670480e-01],\n",
       "          [ 1.13020192e+00,  1.58629453e+00,  4.57102043e-02],\n",
       "          [-3.18499969e-01,  1.11474120e-01, -8.17289306e-01]]],\n",
       "\n",
       "\n",
       "        [[[-1.22793773e+00, -5.55906119e-01,  1.63379054e+00],\n",
       "          [-6.54882692e-01,  5.60588511e-01, -1.42999718e+00],\n",
       "          [ 3.69359698e-01, -2.75018827e-01,  1.28737050e+00],\n",
       "          [-1.53954817e+00,  1.09933829e+00, -1.92780868e-01],\n",
       "          [-7.27997133e-01, -1.30497522e+00, -1.00031453e+00],\n",
       "          [-1.51744963e+00,  2.46492253e-01, -1.31094752e+00],\n",
       "          [-2.53313592e-01, -2.83586697e-01,  1.11727615e+00]]],\n",
       "\n",
       "\n",
       "        [[[-9.55185995e-01,  1.24885120e+00, -1.37653579e+00],\n",
       "          [-5.69450285e-01,  1.38984350e+00,  7.01246269e-01],\n",
       "          [-1.10761449e+00, -2.65414681e-01,  1.01891715e+00],\n",
       "          [-6.50095004e-02, -1.50016198e+00, -1.18207092e+00],\n",
       "          [-1.32554151e+00,  3.23918580e-01,  1.30738517e+00],\n",
       "          [ 1.07484842e+00,  1.23296068e+00,  1.56598090e+00],\n",
       "          [ 6.79371320e-01, -1.23988534e+00,  4.67732941e-01]]]], requires_grad=True)"
      ]
     },
     "execution_count": 7,
     "metadata": {},
     "output_type": "execute_result"
    }
   ],
   "source": [
    "nnet.weights"
   ]
  },
  {
   "cell_type": "code",
   "execution_count": 1,
   "metadata": {},
   "outputs": [
    {
     "ename": "NameError",
     "evalue": "name 'Arena' is not defined",
     "output_type": "error",
     "traceback": [
      "\u001b[0;31m---------------------------------------------------------------------------\u001b[0m",
      "\u001b[0;31mNameError\u001b[0m                                 Traceback (most recent call last)",
      "Cell \u001b[0;32mIn[1], line 51\u001b[0m\n\u001b[1;32m     47\u001b[0m             \u001b[38;5;28;01mreturn\u001b[39;00m action\n\u001b[1;32m     49\u001b[0m     \u001b[38;5;28;01mreturn\u001b[39;00m MinimaxPlayer(game)\n\u001b[0;32m---> 51\u001b[0m arena \u001b[38;5;241m=\u001b[39m \u001b[43mArena\u001b[49m(game, get_alpha_zero_player, get_random_player)\n\u001b[1;32m     52\u001b[0m \u001b[38;5;66;03m# arena = Arena(game, get_alpha_zero_player, get_mcts_player)\u001b[39;00m\n\u001b[1;32m     53\u001b[0m \u001b[38;5;66;03m# arena = Arena(game, get_alpha_zero_player, get_minimax_player)\u001b[39;00m\n\u001b[1;32m     54\u001b[0m \u001b[38;5;66;03m# arena = Arena(game, get_minimax_player, get_minimax_player)\u001b[39;00m\n\u001b[1;32m     55\u001b[0m \u001b[38;5;66;03m# arena = Arena(game, get_mcts_player, get_random_player)\u001b[39;00m\n\u001b[1;32m     56\u001b[0m arena\u001b[38;5;241m.\u001b[39mplayGames(\u001b[38;5;241m10\u001b[39m, verbose\u001b[38;5;241m=\u001b[39m\u001b[38;5;28;01mTrue\u001b[39;00m)\n",
      "\u001b[0;31mNameError\u001b[0m: name 'Arena' is not defined"
     ]
    }
   ],
   "source": [
    "def get_alpha_zero_player():\n",
    "    class AlphaZeroPlayer:\n",
    "        def __init__(self, game):\n",
    "            self.game = game\n",
    "            self.mcts = MCTS(game, nnet, numMCTSSims=25)\n",
    "\n",
    "        def step(self, state):\n",
    "            probs = self.mcts.getActionProb(state, temp=1)\n",
    "            action = np.argmax(probs)\n",
    "            return action\n",
    "\n",
    "    return AlphaZeroPlayer(game)\n",
    "\n",
    "def get_random_player():\n",
    "    class RandomPlayer:\n",
    "        def __init__(self, game):\n",
    "            self.game = game\n",
    "\n",
    "        def step(self, state):\n",
    "            legal_actions = state.legal_actions()\n",
    "            action = random.choice(legal_actions)\n",
    "            return action\n",
    "\n",
    "    return RandomPlayer(game)\n",
    "\n",
    "def get_mcts_player():\n",
    "    class MCTSPlayer:\n",
    "        def __init__(self, game):\n",
    "            self.game = game\n",
    "            evaluator = mcts.RandomRolloutEvaluator(n_rollouts=3)\n",
    "            self.mcts = mcts.MCTSBot(game, uct_c=2, max_simulations=10, evaluator=evaluator)\n",
    "\n",
    "        def step(self, state):\n",
    "            action = self.mcts.step(state)\n",
    "            return action\n",
    "\n",
    "    return MCTSPlayer(game)\n",
    "\n",
    "\n",
    "def get_minimax_player():\n",
    "    class MinimaxPlayer:\n",
    "        def __init__(self, game):\n",
    "            self.game = game\n",
    "\n",
    "        def step(self, state):\n",
    "            value, action = minimax.alpha_beta_search(self.game, state)\n",
    "            return action\n",
    "\n",
    "    return MinimaxPlayer(game)\n",
    "\n",
    "arena = Arena(game, get_alpha_zero_player, get_random_player)\n",
    "# arena = Arena(game, get_alpha_zero_player, get_mcts_player)\n",
    "# arena = Arena(game, get_alpha_zero_player, get_minimax_player)\n",
    "# arena = Arena(game, get_minimax_player, get_minimax_player)\n",
    "# arena = Arena(game, get_mcts_player, get_random_player)\n",
    "arena.playGames(10, verbose=True)\n",
    "\n",
    "# (31, 65, 4)\n",
    "# (31, 62, 7)"
   ]
  }
 ],
 "metadata": {
  "kernelspec": {
   "display_name": "venv",
   "language": "python",
   "name": "python3"
  },
  "language_info": {
   "codemirror_mode": {
    "name": "ipython",
    "version": 3
   },
   "file_extension": ".py",
   "mimetype": "text/x-python",
   "name": "python",
   "nbconvert_exporter": "python",
   "pygments_lexer": "ipython3",
   "version": "3.10.12"
  }
 },
 "nbformat": 4,
 "nbformat_minor": 2
}
