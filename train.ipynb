{
 "cells": [
  {
   "cell_type": "code",
   "execution_count": 7,
   "metadata": {},
   "outputs": [],
   "source": [
    "import random\n",
    "import copy\n",
    "import numpy as np\n",
    "import pyspiel\n",
    "from open_spiel.python.algorithms import mcts, random_agent\n",
    "from othello_game import OthelloGame, OthelloState\n",
    "from MCTS import MCTS\n",
    "from BasicModel import BasicModel\n",
    "from NNet import NNetWrapper\n",
    "from Arena import Arena\n",
    "from Coach import Coach"
   ]
  },
  {
   "cell_type": "code",
   "execution_count": 8,
   "metadata": {},
   "outputs": [],
   "source": [
    "game = pyspiel.load_game(\"othello_nxn\")\n",
    "nnet = NNetWrapper(game)"
   ]
  },
  {
   "cell_type": "code",
   "execution_count": 7,
   "metadata": {},
   "outputs": [],
   "source": [
    "nnet.load_checkpoint()"
   ]
  },
  {
   "cell_type": "code",
   "execution_count": 9,
   "metadata": {},
   "outputs": [
    {
     "name": "stdout",
     "output_type": "stream",
     "text": [
      "Iter 1\n"
     ]
    },
    {
     "name": "stderr",
     "output_type": "stream",
     "text": [
      "Self Play:   0%|          | 0/10 [00:00<?, ?it/s]"
     ]
    },
    {
     "name": "stderr",
     "output_type": "stream",
     "text": [
      "Self Play: 100%|██████████| 10/10 [00:07<00:00,  1.35it/s]\n",
      "Training Net: 100%|██████████| 10/10 [00:00<00:00, 134.17it/s, Loss_pi=3.28e+00, Loss_v=6.72e-01]\n"
     ]
    },
    {
     "name": "stdout",
     "output_type": "stream",
     "text": [
      "Pitting against previous version\n",
      "Iter 2\n"
     ]
    },
    {
     "name": "stderr",
     "output_type": "stream",
     "text": [
      "Self Play: 100%|██████████| 10/10 [00:10<00:00,  1.01s/it]\n",
      "Training Net: 100%|██████████| 10/10 [00:00<00:00, 60.03it/s, Loss_pi=2.72e+00, Loss_v=4.52e-01]\n"
     ]
    },
    {
     "name": "stdout",
     "output_type": "stream",
     "text": [
      "Pitting against previous version\n",
      "Iter 3\n"
     ]
    },
    {
     "name": "stderr",
     "output_type": "stream",
     "text": [
      "Self Play: 100%|██████████| 10/10 [00:10<00:00,  1.01s/it]\n",
      "Training Net: 100%|██████████| 10/10 [00:00<00:00, 35.85it/s, Loss_pi=2.20e+00, Loss_v=2.75e-01]\n"
     ]
    },
    {
     "name": "stdout",
     "output_type": "stream",
     "text": [
      "Pitting against previous version\n",
      "Iter 4\n"
     ]
    },
    {
     "name": "stderr",
     "output_type": "stream",
     "text": [
      "Self Play: 100%|██████████| 10/10 [00:10<00:00,  1.03s/it]\n",
      "Training Net: 100%|██████████| 10/10 [00:00<00:00, 30.00it/s, Loss_pi=1.93e+00, Loss_v=2.71e-01]\n"
     ]
    },
    {
     "name": "stdout",
     "output_type": "stream",
     "text": [
      "Pitting against previous version\n",
      "Iter 5\n"
     ]
    },
    {
     "name": "stderr",
     "output_type": "stream",
     "text": [
      "Self Play: 100%|██████████| 10/10 [00:09<00:00,  1.01it/s]\n",
      "Training Net: 100%|██████████| 10/10 [00:00<00:00, 23.03it/s, Loss_pi=1.74e+00, Loss_v=2.35e-01]\n"
     ]
    },
    {
     "name": "stdout",
     "output_type": "stream",
     "text": [
      "Pitting against previous version\n",
      "Iter 6\n"
     ]
    },
    {
     "name": "stderr",
     "output_type": "stream",
     "text": [
      "Self Play: 100%|██████████| 10/10 [00:10<00:00,  1.05s/it]\n",
      "Training Net: 100%|██████████| 10/10 [00:00<00:00, 18.38it/s, Loss_pi=1.64e+00, Loss_v=2.20e-01]\n"
     ]
    },
    {
     "name": "stdout",
     "output_type": "stream",
     "text": [
      "Pitting against previous version\n",
      "Iter 7\n"
     ]
    },
    {
     "name": "stderr",
     "output_type": "stream",
     "text": [
      "Self Play: 100%|██████████| 10/10 [00:10<00:00,  1.06s/it]\n",
      "Training Net: 100%|██████████| 10/10 [00:00<00:00, 15.96it/s, Loss_pi=1.56e+00, Loss_v=2.17e-01]\n"
     ]
    },
    {
     "name": "stdout",
     "output_type": "stream",
     "text": [
      "Pitting against previous version\n",
      "Iter 8\n"
     ]
    },
    {
     "name": "stderr",
     "output_type": "stream",
     "text": [
      "Self Play: 100%|██████████| 10/10 [00:10<00:00,  1.07s/it]\n",
      "Training Net: 100%|██████████| 10/10 [00:00<00:00, 13.54it/s, Loss_pi=1.52e+00, Loss_v=2.35e-01]\n"
     ]
    },
    {
     "name": "stdout",
     "output_type": "stream",
     "text": [
      "Pitting against previous version\n",
      "Iter 9\n"
     ]
    },
    {
     "name": "stderr",
     "output_type": "stream",
     "text": [
      "Self Play: 100%|██████████| 10/10 [00:10<00:00,  1.08s/it]\n",
      "Training Net: 100%|██████████| 10/10 [00:00<00:00, 11.73it/s, Loss_pi=1.49e+00, Loss_v=2.25e-01]\n"
     ]
    },
    {
     "name": "stdout",
     "output_type": "stream",
     "text": [
      "Pitting against previous version\n",
      "Iter 10\n"
     ]
    },
    {
     "name": "stderr",
     "output_type": "stream",
     "text": [
      "Self Play: 100%|██████████| 10/10 [00:10<00:00,  1.02s/it]\n",
      "Training Net: 100%|██████████| 10/10 [00:00<00:00, 10.89it/s, Loss_pi=1.47e+00, Loss_v=2.35e-01]\n"
     ]
    },
    {
     "name": "stdout",
     "output_type": "stream",
     "text": [
      "Pitting against previous version\n",
      "Iter 11\n"
     ]
    },
    {
     "name": "stderr",
     "output_type": "stream",
     "text": [
      "Self Play: 100%|██████████| 10/10 [00:10<00:00,  1.06s/it]\n",
      "Training Net: 100%|██████████| 10/10 [00:01<00:00,  9.74it/s, Loss_pi=1.45e+00, Loss_v=2.34e-01]\n"
     ]
    },
    {
     "name": "stdout",
     "output_type": "stream",
     "text": [
      "Pitting against previous version\n",
      "Iter 12\n"
     ]
    },
    {
     "name": "stderr",
     "output_type": "stream",
     "text": [
      "Self Play: 100%|██████████| 10/10 [00:10<00:00,  1.05s/it]\n",
      "Training Net: 100%|██████████| 10/10 [00:01<00:00,  8.63it/s, Loss_pi=1.44e+00, Loss_v=2.21e-01]\n"
     ]
    },
    {
     "name": "stdout",
     "output_type": "stream",
     "text": [
      "Pitting against previous version\n",
      "Iter 13\n"
     ]
    },
    {
     "name": "stderr",
     "output_type": "stream",
     "text": [
      "Self Play: 100%|██████████| 10/10 [00:10<00:00,  1.04s/it]\n",
      "Training Net: 100%|██████████| 10/10 [00:01<00:00,  8.05it/s, Loss_pi=1.44e+00, Loss_v=2.30e-01]\n"
     ]
    },
    {
     "name": "stdout",
     "output_type": "stream",
     "text": [
      "Pitting against previous version\n",
      "Iter 14\n"
     ]
    },
    {
     "name": "stderr",
     "output_type": "stream",
     "text": [
      "Self Play: 100%|██████████| 10/10 [00:09<00:00,  1.01it/s]\n",
      "Training Net: 100%|██████████| 10/10 [00:01<00:00,  6.73it/s, Loss_pi=1.43e+00, Loss_v=2.29e-01]\n"
     ]
    },
    {
     "name": "stdout",
     "output_type": "stream",
     "text": [
      "Pitting against previous version\n",
      "Iter 15\n"
     ]
    },
    {
     "name": "stderr",
     "output_type": "stream",
     "text": [
      "Self Play: 100%|██████████| 10/10 [00:10<00:00,  1.05s/it]\n",
      "Training Net: 100%|██████████| 10/10 [00:01<00:00,  6.89it/s, Loss_pi=1.43e+00, Loss_v=2.49e-01]\n"
     ]
    },
    {
     "name": "stdout",
     "output_type": "stream",
     "text": [
      "Pitting against previous version\n",
      "Iter 16\n"
     ]
    },
    {
     "name": "stderr",
     "output_type": "stream",
     "text": [
      "Self Play: 100%|██████████| 10/10 [00:10<00:00,  1.04s/it]\n",
      "Training Net: 100%|██████████| 10/10 [00:01<00:00,  6.15it/s, Loss_pi=1.43e+00, Loss_v=2.42e-01]\n"
     ]
    },
    {
     "name": "stdout",
     "output_type": "stream",
     "text": [
      "Pitting against previous version\n",
      "Iter 17\n"
     ]
    },
    {
     "name": "stderr",
     "output_type": "stream",
     "text": [
      "Self Play: 100%|██████████| 10/10 [00:10<00:00,  1.03s/it]\n",
      "Training Net: 100%|██████████| 10/10 [00:01<00:00,  5.69it/s, Loss_pi=1.43e+00, Loss_v=2.40e-01]\n"
     ]
    },
    {
     "name": "stdout",
     "output_type": "stream",
     "text": [
      "Pitting against previous version\n",
      "Iter 18\n"
     ]
    },
    {
     "name": "stderr",
     "output_type": "stream",
     "text": [
      "Self Play: 100%|██████████| 10/10 [00:10<00:00,  1.06s/it]\n",
      "Training Net: 100%|██████████| 10/10 [00:01<00:00,  5.55it/s, Loss_pi=1.43e+00, Loss_v=2.41e-01]\n"
     ]
    },
    {
     "name": "stdout",
     "output_type": "stream",
     "text": [
      "Pitting against previous version\n",
      "Iter 19\n"
     ]
    },
    {
     "name": "stderr",
     "output_type": "stream",
     "text": [
      "Self Play: 100%|██████████| 10/10 [00:10<00:00,  1.04s/it]\n",
      "Training Net: 100%|██████████| 10/10 [00:02<00:00,  4.98it/s, Loss_pi=1.43e+00, Loss_v=2.43e-01]\n"
     ]
    },
    {
     "name": "stdout",
     "output_type": "stream",
     "text": [
      "Pitting against previous version\n",
      "Iter 20\n"
     ]
    },
    {
     "name": "stderr",
     "output_type": "stream",
     "text": [
      "Self Play: 100%|██████████| 10/10 [00:10<00:00,  1.03s/it]\n",
      "Training Net: 100%|██████████| 10/10 [00:02<00:00,  4.74it/s, Loss_pi=1.43e+00, Loss_v=2.38e-01]\n"
     ]
    },
    {
     "name": "stdout",
     "output_type": "stream",
     "text": [
      "Pitting against previous version\n",
      "Iter 21\n"
     ]
    },
    {
     "name": "stderr",
     "output_type": "stream",
     "text": [
      "Self Play: 100%|██████████| 10/10 [00:10<00:00,  1.04s/it]\n",
      "Training Net: 100%|██████████| 10/10 [00:02<00:00,  4.70it/s, Loss_pi=1.43e+00, Loss_v=2.44e-01]\n"
     ]
    },
    {
     "name": "stdout",
     "output_type": "stream",
     "text": [
      "Pitting against previous version\n",
      "Iter 22\n"
     ]
    },
    {
     "name": "stderr",
     "output_type": "stream",
     "text": [
      "Self Play: 100%|██████████| 10/10 [00:10<00:00,  1.06s/it]\n",
      "Training Net: 100%|██████████| 10/10 [00:02<00:00,  4.35it/s, Loss_pi=1.44e+00, Loss_v=2.44e-01]\n"
     ]
    },
    {
     "name": "stdout",
     "output_type": "stream",
     "text": [
      "Pitting against previous version\n",
      "Iter 23\n"
     ]
    },
    {
     "name": "stderr",
     "output_type": "stream",
     "text": [
      "Self Play: 100%|██████████| 10/10 [00:10<00:00,  1.03s/it]\n",
      "Training Net: 100%|██████████| 10/10 [00:02<00:00,  4.05it/s, Loss_pi=1.43e+00, Loss_v=2.46e-01]\n"
     ]
    },
    {
     "name": "stdout",
     "output_type": "stream",
     "text": [
      "Pitting against previous version\n",
      "Iter 24\n"
     ]
    },
    {
     "name": "stderr",
     "output_type": "stream",
     "text": [
      "Self Play: 100%|██████████| 10/10 [00:10<00:00,  1.01s/it]\n",
      "Training Net: 100%|██████████| 10/10 [00:02<00:00,  4.02it/s, Loss_pi=1.44e+00, Loss_v=2.52e-01]\n"
     ]
    },
    {
     "name": "stdout",
     "output_type": "stream",
     "text": [
      "Pitting against previous version\n",
      "Iter 25\n"
     ]
    },
    {
     "name": "stderr",
     "output_type": "stream",
     "text": [
      "Self Play: 100%|██████████| 10/10 [00:09<00:00,  1.00it/s]\n",
      "Training Net: 100%|██████████| 10/10 [00:02<00:00,  3.96it/s, Loss_pi=1.44e+00, Loss_v=2.46e-01]\n"
     ]
    },
    {
     "name": "stdout",
     "output_type": "stream",
     "text": [
      "Pitting against previous version\n",
      "Iter 26\n"
     ]
    },
    {
     "name": "stderr",
     "output_type": "stream",
     "text": [
      "Self Play: 100%|██████████| 10/10 [00:09<00:00,  1.03it/s]\n",
      "Training Net: 100%|██████████| 10/10 [00:02<00:00,  3.64it/s, Loss_pi=1.44e+00, Loss_v=2.46e-01]\n"
     ]
    },
    {
     "name": "stdout",
     "output_type": "stream",
     "text": [
      "Pitting against previous version\n",
      "Iter 27\n"
     ]
    },
    {
     "name": "stderr",
     "output_type": "stream",
     "text": [
      "Self Play: 100%|██████████| 10/10 [00:10<00:00,  1.06s/it]\n",
      "Training Net: 100%|██████████| 10/10 [00:02<00:00,  3.49it/s, Loss_pi=1.45e+00, Loss_v=2.47e-01]\n"
     ]
    },
    {
     "name": "stdout",
     "output_type": "stream",
     "text": [
      "Pitting against previous version\n",
      "Iter 28\n"
     ]
    },
    {
     "name": "stderr",
     "output_type": "stream",
     "text": [
      "Self Play: 100%|██████████| 10/10 [00:10<00:00,  1.05s/it]\n",
      "Training Net: 100%|██████████| 10/10 [00:03<00:00,  3.27it/s, Loss_pi=1.44e+00, Loss_v=2.55e-01]\n"
     ]
    },
    {
     "name": "stdout",
     "output_type": "stream",
     "text": [
      "Pitting against previous version\n",
      "Iter 29\n"
     ]
    },
    {
     "name": "stderr",
     "output_type": "stream",
     "text": [
      "Self Play: 100%|██████████| 10/10 [00:10<00:00,  1.02s/it]\n",
      "Training Net: 100%|██████████| 10/10 [00:02<00:00,  3.36it/s, Loss_pi=1.43e+00, Loss_v=2.53e-01]\n"
     ]
    },
    {
     "name": "stdout",
     "output_type": "stream",
     "text": [
      "Pitting against previous version\n",
      "Iter 30\n"
     ]
    },
    {
     "name": "stderr",
     "output_type": "stream",
     "text": [
      "Self Play: 100%|██████████| 10/10 [00:09<00:00,  1.00it/s]\n",
      "Training Net: 100%|██████████| 10/10 [00:02<00:00,  3.49it/s, Loss_pi=1.42e+00, Loss_v=2.49e-01]\n"
     ]
    },
    {
     "name": "stdout",
     "output_type": "stream",
     "text": [
      "Pitting against previous version\n",
      "Iter 31\n"
     ]
    },
    {
     "name": "stderr",
     "output_type": "stream",
     "text": [
      "Self Play: 100%|██████████| 10/10 [00:10<00:00,  1.04s/it]\n",
      "Training Net: 100%|██████████| 10/10 [00:02<00:00,  3.35it/s, Loss_pi=1.42e+00, Loss_v=2.45e-01]\n"
     ]
    },
    {
     "name": "stdout",
     "output_type": "stream",
     "text": [
      "Pitting against previous version\n",
      "Iter 32\n"
     ]
    },
    {
     "name": "stderr",
     "output_type": "stream",
     "text": [
      "Self Play: 100%|██████████| 10/10 [00:10<00:00,  1.03s/it]\n",
      "Training Net: 100%|██████████| 10/10 [00:02<00:00,  3.44it/s, Loss_pi=1.42e+00, Loss_v=2.45e-01]\n"
     ]
    },
    {
     "name": "stdout",
     "output_type": "stream",
     "text": [
      "Pitting against previous version\n",
      "Iter 33\n"
     ]
    },
    {
     "name": "stderr",
     "output_type": "stream",
     "text": [
      "Self Play: 100%|██████████| 10/10 [00:10<00:00,  1.02s/it]\n",
      "Training Net: 100%|██████████| 10/10 [00:02<00:00,  3.41it/s, Loss_pi=1.42e+00, Loss_v=2.51e-01]\n"
     ]
    },
    {
     "name": "stdout",
     "output_type": "stream",
     "text": [
      "Pitting against previous version\n",
      "Iter 34\n"
     ]
    },
    {
     "name": "stderr",
     "output_type": "stream",
     "text": [
      "Self Play: 100%|██████████| 10/10 [00:10<00:00,  1.04s/it]\n",
      "Training Net: 100%|██████████| 10/10 [00:02<00:00,  3.47it/s, Loss_pi=1.43e+00, Loss_v=2.50e-01]\n"
     ]
    },
    {
     "name": "stdout",
     "output_type": "stream",
     "text": [
      "Pitting against previous version\n",
      "Iter 35\n"
     ]
    },
    {
     "name": "stderr",
     "output_type": "stream",
     "text": [
      "Self Play: 100%|██████████| 10/10 [00:10<00:00,  1.04s/it]\n",
      "Training Net: 100%|██████████| 10/10 [00:02<00:00,  3.47it/s, Loss_pi=1.43e+00, Loss_v=2.56e-01]\n"
     ]
    },
    {
     "name": "stdout",
     "output_type": "stream",
     "text": [
      "Pitting against previous version\n",
      "Iter 36\n"
     ]
    },
    {
     "name": "stderr",
     "output_type": "stream",
     "text": [
      "Self Play: 100%|██████████| 10/10 [00:10<00:00,  1.02s/it]\n",
      "Training Net: 100%|██████████| 10/10 [00:02<00:00,  3.43it/s, Loss_pi=1.43e+00, Loss_v=2.53e-01]\n"
     ]
    },
    {
     "name": "stdout",
     "output_type": "stream",
     "text": [
      "Pitting against previous version\n",
      "Iter 37\n"
     ]
    },
    {
     "name": "stderr",
     "output_type": "stream",
     "text": [
      "Self Play: 100%|██████████| 10/10 [00:09<00:00,  1.06it/s]\n",
      "Training Net: 100%|██████████| 10/10 [00:02<00:00,  3.44it/s, Loss_pi=1.42e+00, Loss_v=2.51e-01]\n"
     ]
    },
    {
     "name": "stdout",
     "output_type": "stream",
     "text": [
      "Pitting against previous version\n",
      "Iter 38\n"
     ]
    },
    {
     "name": "stderr",
     "output_type": "stream",
     "text": [
      "Self Play: 100%|██████████| 10/10 [00:10<00:00,  1.05s/it]\n",
      "Training Net: 100%|██████████| 10/10 [00:03<00:00,  3.29it/s, Loss_pi=1.42e+00, Loss_v=2.50e-01]\n"
     ]
    },
    {
     "name": "stdout",
     "output_type": "stream",
     "text": [
      "Pitting against previous version\n",
      "Iter 39\n"
     ]
    },
    {
     "name": "stderr",
     "output_type": "stream",
     "text": [
      "Self Play: 100%|██████████| 10/10 [00:10<00:00,  1.08s/it]\n",
      "Training Net: 100%|██████████| 10/10 [00:02<00:00,  3.36it/s, Loss_pi=1.42e+00, Loss_v=2.47e-01]\n"
     ]
    },
    {
     "name": "stdout",
     "output_type": "stream",
     "text": [
      "Pitting against previous version\n",
      "Iter 40\n"
     ]
    },
    {
     "name": "stderr",
     "output_type": "stream",
     "text": [
      "Self Play: 100%|██████████| 10/10 [00:10<00:00,  1.02s/it]\n",
      "Training Net: 100%|██████████| 10/10 [00:02<00:00,  3.47it/s, Loss_pi=1.42e+00, Loss_v=2.41e-01]\n"
     ]
    },
    {
     "name": "stdout",
     "output_type": "stream",
     "text": [
      "Pitting against previous version\n",
      "Iter 41\n"
     ]
    },
    {
     "name": "stderr",
     "output_type": "stream",
     "text": [
      "Self Play: 100%|██████████| 10/10 [00:10<00:00,  1.04s/it]\n",
      "Training Net: 100%|██████████| 10/10 [00:02<00:00,  3.46it/s, Loss_pi=1.41e+00, Loss_v=2.45e-01]\n"
     ]
    },
    {
     "name": "stdout",
     "output_type": "stream",
     "text": [
      "Pitting against previous version\n",
      "Iter 42\n"
     ]
    },
    {
     "name": "stderr",
     "output_type": "stream",
     "text": [
      "Self Play: 100%|██████████| 10/10 [00:10<00:00,  1.05s/it]\n",
      "Training Net: 100%|██████████| 10/10 [00:02<00:00,  3.43it/s, Loss_pi=1.41e+00, Loss_v=2.38e-01]\n"
     ]
    },
    {
     "name": "stdout",
     "output_type": "stream",
     "text": [
      "Pitting against previous version\n",
      "Iter 43\n"
     ]
    },
    {
     "name": "stderr",
     "output_type": "stream",
     "text": [
      "Self Play: 100%|██████████| 10/10 [00:10<00:00,  1.04s/it]\n",
      "Training Net: 100%|██████████| 10/10 [00:02<00:00,  3.39it/s, Loss_pi=1.42e+00, Loss_v=2.38e-01]\n"
     ]
    },
    {
     "name": "stdout",
     "output_type": "stream",
     "text": [
      "Pitting against previous version\n",
      "Iter 44\n"
     ]
    },
    {
     "name": "stderr",
     "output_type": "stream",
     "text": [
      "Self Play: 100%|██████████| 10/10 [00:10<00:00,  1.03s/it]\n",
      "Training Net: 100%|██████████| 10/10 [00:02<00:00,  3.49it/s, Loss_pi=1.42e+00, Loss_v=2.42e-01]\n"
     ]
    },
    {
     "name": "stdout",
     "output_type": "stream",
     "text": [
      "Pitting against previous version\n",
      "Iter 45\n"
     ]
    },
    {
     "name": "stderr",
     "output_type": "stream",
     "text": [
      "Self Play: 100%|██████████| 10/10 [00:10<00:00,  1.04s/it]\n",
      "Training Net: 100%|██████████| 10/10 [00:02<00:00,  3.47it/s, Loss_pi=1.41e+00, Loss_v=2.42e-01]\n"
     ]
    },
    {
     "name": "stdout",
     "output_type": "stream",
     "text": [
      "Pitting against previous version\n",
      "Iter 46\n"
     ]
    },
    {
     "name": "stderr",
     "output_type": "stream",
     "text": [
      "Self Play: 100%|██████████| 10/10 [00:10<00:00,  1.02s/it]\n",
      "Training Net: 100%|██████████| 10/10 [00:02<00:00,  3.46it/s, Loss_pi=1.42e+00, Loss_v=2.40e-01]\n"
     ]
    },
    {
     "name": "stdout",
     "output_type": "stream",
     "text": [
      "Pitting against previous version\n",
      "Iter 47\n"
     ]
    },
    {
     "name": "stderr",
     "output_type": "stream",
     "text": [
      "Self Play: 100%|██████████| 10/10 [00:09<00:00,  1.01it/s]\n",
      "Training Net: 100%|██████████| 10/10 [00:02<00:00,  3.38it/s, Loss_pi=1.42e+00, Loss_v=2.40e-01]\n"
     ]
    },
    {
     "name": "stdout",
     "output_type": "stream",
     "text": [
      "Pitting against previous version\n",
      "Iter 48\n"
     ]
    },
    {
     "name": "stderr",
     "output_type": "stream",
     "text": [
      "Self Play: 100%|██████████| 10/10 [00:10<00:00,  1.03s/it]\n",
      "Training Net: 100%|██████████| 10/10 [00:02<00:00,  3.47it/s, Loss_pi=1.41e+00, Loss_v=2.45e-01]\n"
     ]
    },
    {
     "name": "stdout",
     "output_type": "stream",
     "text": [
      "Pitting against previous version\n",
      "Iter 49\n"
     ]
    },
    {
     "name": "stderr",
     "output_type": "stream",
     "text": [
      "Self Play: 100%|██████████| 10/10 [00:10<00:00,  1.02s/it]\n",
      "Training Net: 100%|██████████| 10/10 [00:02<00:00,  3.45it/s, Loss_pi=1.42e+00, Loss_v=2.41e-01]\n"
     ]
    },
    {
     "name": "stdout",
     "output_type": "stream",
     "text": [
      "Pitting against previous version\n",
      "Iter 50\n"
     ]
    },
    {
     "name": "stderr",
     "output_type": "stream",
     "text": [
      "Self Play: 100%|██████████| 10/10 [00:10<00:00,  1.01s/it]\n",
      "Training Net: 100%|██████████| 10/10 [00:02<00:00,  3.46it/s, Loss_pi=1.41e+00, Loss_v=2.37e-01]"
     ]
    },
    {
     "name": "stdout",
     "output_type": "stream",
     "text": [
      "Pitting against previous version\n"
     ]
    },
    {
     "name": "stderr",
     "output_type": "stream",
     "text": [
      "\n"
     ]
    }
   ],
   "source": [
    "# nnet.load_checkpoint(\"./temp\", \"checkpoint_61.pth.tar\")\n",
    "coach = Coach(game, nnet)\n",
    "coach.learn()"
   ]
  },
  {
   "cell_type": "code",
   "execution_count": 11,
   "metadata": {},
   "outputs": [
    {
     "name": "stderr",
     "output_type": "stream",
     "text": [
      "Arena.playGames (1):   0%|          | 0/50 [00:00<?, ?it/s]\n"
     ]
    },
    {
     "ename": "AttributeError",
     "evalue": "'NoneType' object has no attribute 'step'",
     "output_type": "error",
     "traceback": [
      "\u001b[0;31m---------------------------------------------------------------------------\u001b[0m",
      "\u001b[0;31mAttributeError\u001b[0m                            Traceback (most recent call last)",
      "Cell \u001b[0;32mIn[11], line 39\u001b[0m\n\u001b[1;32m     37\u001b[0m \u001b[38;5;66;03m# arena = Arena(game, get_alpha_zero_player, get_random_player)\u001b[39;00m\n\u001b[1;32m     38\u001b[0m arena \u001b[38;5;241m=\u001b[39m Arena(game, get_alpha_zero_player, get_mcts_player)\n\u001b[0;32m---> 39\u001b[0m \u001b[43marena\u001b[49m\u001b[38;5;241;43m.\u001b[39;49m\u001b[43mplayGames\u001b[49m\u001b[43m(\u001b[49m\u001b[38;5;241;43m100\u001b[39;49m\u001b[43m,\u001b[49m\u001b[43m \u001b[49m\u001b[43mverbose\u001b[49m\u001b[38;5;241;43m=\u001b[39;49m\u001b[38;5;28;43;01mTrue\u001b[39;49;00m\u001b[43m)\u001b[49m\n",
      "File \u001b[0;32m/workspaces/QuantumAlphaZero/Arena.py:58\u001b[0m, in \u001b[0;36mArena.playGames\u001b[0;34m(self, num, verbose)\u001b[0m\n\u001b[1;32m     56\u001b[0m draws \u001b[38;5;241m=\u001b[39m \u001b[38;5;241m0\u001b[39m\n\u001b[1;32m     57\u001b[0m \u001b[38;5;28;01mfor\u001b[39;00m _ \u001b[38;5;129;01min\u001b[39;00m tqdm(\u001b[38;5;28mrange\u001b[39m(num), desc\u001b[38;5;241m=\u001b[39m\u001b[38;5;124m\"\u001b[39m\u001b[38;5;124mArena.playGames (1)\u001b[39m\u001b[38;5;124m\"\u001b[39m):\n\u001b[0;32m---> 58\u001b[0m     gameResult \u001b[38;5;241m=\u001b[39m \u001b[38;5;28;43mself\u001b[39;49m\u001b[38;5;241;43m.\u001b[39;49m\u001b[43mplayGame\u001b[49m\u001b[43m(\u001b[49m\u001b[43mverbose\u001b[49m\u001b[38;5;241;43m=\u001b[39;49m\u001b[43mverbose\u001b[49m\u001b[43m)\u001b[49m\n\u001b[1;32m     59\u001b[0m     \u001b[38;5;28;01mif\u001b[39;00m gameResult \u001b[38;5;241m==\u001b[39m \u001b[38;5;241m1\u001b[39m:\n\u001b[1;32m     60\u001b[0m         oneWon \u001b[38;5;241m+\u001b[39m\u001b[38;5;241m=\u001b[39m \u001b[38;5;241m1\u001b[39m\n",
      "File \u001b[0;32m/workspaces/QuantumAlphaZero/Arena.py:38\u001b[0m, in \u001b[0;36mArena.playGame\u001b[0;34m(self, verbose)\u001b[0m\n\u001b[1;32m     36\u001b[0m         action \u001b[38;5;241m=\u001b[39m player1\u001b[38;5;241m.\u001b[39mstep(state)\n\u001b[1;32m     37\u001b[0m     \u001b[38;5;28;01melse\u001b[39;00m:\n\u001b[0;32m---> 38\u001b[0m         action \u001b[38;5;241m=\u001b[39m \u001b[43mplayer2\u001b[49m\u001b[38;5;241;43m.\u001b[39;49m\u001b[43mstep\u001b[49m(state)\n\u001b[1;32m     39\u001b[0m     state\u001b[38;5;241m.\u001b[39mapply_action(action)\n\u001b[1;32m     40\u001b[0m \u001b[38;5;28;01mreturn\u001b[39;00m state\u001b[38;5;241m.\u001b[39mreturns()[\u001b[38;5;241m0\u001b[39m]\n",
      "\u001b[0;31mAttributeError\u001b[0m: 'NoneType' object has no attribute 'step'"
     ]
    }
   ],
   "source": [
    "def get_alpha_zero_player():\n",
    "    class AlphaZeroPlayer:\n",
    "        def __init__(self, game):\n",
    "            self.game = game\n",
    "            self.mcts = MCTS(game, nnet, numMCTSSims=25)\n",
    "\n",
    "        def step(self, state):\n",
    "            probs = self.mcts.getActionProb(state, temp=1)\n",
    "            action = np.argmax(probs)\n",
    "            return action\n",
    "\n",
    "    return AlphaZeroPlayer(game)\n",
    "\n",
    "def get_random_player():\n",
    "    class RandomPlayer:\n",
    "        def __init__(self, game):\n",
    "            self.game = game\n",
    "\n",
    "        def step(self, state):\n",
    "            legal_actions = state.legal_actions()\n",
    "            action = random.choice(legal_actions)\n",
    "            return action\n",
    "\n",
    "    return RandomPlayer(game)\n",
    "\n",
    "def get_mcts_player():\n",
    "    class MCTSPlayer:\n",
    "        def __init__(self, game):\n",
    "            self.game = game\n",
    "            evaluator = mcts.RandomRolloutEvaluator(n_rollouts=3)\n",
    "            self.mcts = mcts.MCTSBot(game, uct_c=2, max_simulations=50, evaluator=evaluator)\n",
    "\n",
    "        def step(self, state):\n",
    "            action = self.mcts.step(state)\n",
    "            return action\n",
    "\n",
    "    return MCTSPlayer(game)\n",
    "\n",
    "# arena = Arena(game, get_alpha_zero_player, get_random_player)\n",
    "arena = Arena(game, get_alpha_zero_player, get_mcts_player)\n",
    "arena.playGames(100, verbose=True)"
   ]
  }
 ],
 "metadata": {
  "kernelspec": {
   "display_name": "venv",
   "language": "python",
   "name": "python3"
  },
  "language_info": {
   "codemirror_mode": {
    "name": "ipython",
    "version": 3
   },
   "file_extension": ".py",
   "mimetype": "text/x-python",
   "name": "python",
   "nbconvert_exporter": "python",
   "pygments_lexer": "ipython3",
   "version": "3.10.12"
  }
 },
 "nbformat": 4,
 "nbformat_minor": 2
}
