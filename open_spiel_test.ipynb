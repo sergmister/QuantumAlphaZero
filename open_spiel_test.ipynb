{
 "cells": [
  {
   "cell_type": "code",
   "execution_count": 2,
   "metadata": {},
   "outputs": [],
   "source": [
    "import random\n",
    "import pyspiel\n",
    "import numpy as np"
   ]
  },
  {
   "cell_type": "code",
   "execution_count": 27,
   "metadata": {},
   "outputs": [],
   "source": [
    "game = pyspiel.load_game(\"othello\")\n",
    "state = game.new_initial_state()\n",
    "while not state.is_terminal():\n",
    "  legal_actions = state.legal_actions()\n",
    "  if state.is_chance_node():\n",
    "    # Sample a chance event outcome.\n",
    "    outcomes_with_probs = state.chance_outcomes()\n",
    "    action_list, prob_list = zip(*outcomes_with_probs)\n",
    "    action = np.random.choice(action_list, p=prob_list)\n",
    "    state.apply_action(action)\n",
    "  else:\n",
    "    # The algorithm can pick an action based on an observation (fully observable\n",
    "    # games) or an information state (information available for that player)\n",
    "    # We arbitrarily select the first available action as an example.\n",
    "    action = legal_actions[0]\n",
    "    state.apply_action(action)"
   ]
  },
  {
   "cell_type": "code",
   "execution_count": 74,
   "metadata": {},
   "outputs": [
    {
     "name": "stdout",
     "output_type": "stream",
     "text": [
      "[19, 26, 37, 44]\n",
      "[[[1. 1. 1. 1. 1. 1. 1. 1.]\n",
      "  [1. 1. 1. 1. 1. 1. 1. 1.]\n",
      "  [1. 1. 1. 1. 1. 1. 1. 1.]\n",
      "  [1. 1. 1. 0. 0. 1. 1. 1.]\n",
      "  [1. 1. 1. 0. 0. 1. 1. 1.]\n",
      "  [1. 1. 1. 1. 1. 1. 1. 1.]\n",
      "  [1. 1. 1. 1. 1. 1. 1. 1.]\n",
      "  [1. 1. 1. 1. 1. 1. 1. 1.]]\n",
      "\n",
      " [[0. 0. 0. 0. 0. 0. 0. 0.]\n",
      "  [0. 0. 0. 0. 0. 0. 0. 0.]\n",
      "  [0. 0. 0. 0. 0. 0. 0. 0.]\n",
      "  [0. 0. 0. 0. 1. 0. 0. 0.]\n",
      "  [0. 0. 0. 1. 0. 0. 0. 0.]\n",
      "  [0. 0. 0. 0. 0. 0. 0. 0.]\n",
      "  [0. 0. 0. 0. 0. 0. 0. 0.]\n",
      "  [0. 0. 0. 0. 0. 0. 0. 0.]]\n",
      "\n",
      " [[0. 0. 0. 0. 0. 0. 0. 0.]\n",
      "  [0. 0. 0. 0. 0. 0. 0. 0.]\n",
      "  [0. 0. 0. 0. 0. 0. 0. 0.]\n",
      "  [0. 0. 0. 1. 0. 0. 0. 0.]\n",
      "  [0. 0. 0. 0. 1. 0. 0. 0.]\n",
      "  [0. 0. 0. 0. 0. 0. 0. 0.]\n",
      "  [0. 0. 0. 0. 0. 0. 0. 0.]\n",
      "  [0. 0. 0. 0. 0. 0. 0. 0.]]]\n",
      "[[0 0 0 0 0 0 0 0]\n",
      " [0 0 0 0 0 0 0 0]\n",
      " [0 0 0 1 0 0 0 0]\n",
      " [0 0 1 0 0 0 0 0]\n",
      " [0 0 0 0 0 1 0 0]\n",
      " [0 0 0 0 1 0 0 0]\n",
      " [0 0 0 0 0 0 0 0]\n",
      " [0 0 0 0 0 0 0 0]]\n"
     ]
    },
    {
     "data": {
      "text/plain": [
       "0"
      ]
     },
     "execution_count": 74,
     "metadata": {},
     "output_type": "execute_result"
    }
   ],
   "source": [
    "game = pyspiel.load_game(\"othello\")\n",
    "state = game.new_initial_state()\n",
    "print(state.legal_actions())\n",
    "print(np.array(state.observation_tensor(1)).reshape(3, 8, 8))\n",
    "# print(np.array(state.observation_tensor(0)).reshape(3, 8, 8)[1] - np.array(state.observation_tensor(0)).reshape(3, 8, 8)[2])\n",
    "mboard = np.zeros(64, dtype=np.int8)\n",
    "mboard[state.legal_actions()] = 1\n",
    "print(mboard.reshape(8, 8))\n",
    "state.current_player()"
   ]
  },
  {
   "cell_type": "code",
   "execution_count": 20,
   "metadata": {},
   "outputs": [
    {
     "data": {
      "text/plain": [
       "[19,\n",
       " 18,\n",
       " 17,\n",
       " 9,\n",
       " 1,\n",
       " 0,\n",
       " 26,\n",
       " 2,\n",
       " 10,\n",
       " 11,\n",
       " 3,\n",
       " 4,\n",
       " 8,\n",
       " 16,\n",
       " 37,\n",
       " 12,\n",
       " 5,\n",
       " 6,\n",
       " 64,\n",
       " 13,\n",
       " 64,\n",
       " 20,\n",
       " 64,\n",
       " 33,\n",
       " 25,\n",
       " 32,\n",
       " 24,\n",
       " 34,\n",
       " 40,\n",
       " 29,\n",
       " 21,\n",
       " 22,\n",
       " 14,\n",
       " 15,\n",
       " 7,\n",
       " 23,\n",
       " 31,\n",
       " 30,\n",
       " 42,\n",
       " 38,\n",
       " 39,\n",
       " 41,\n",
       " 50,\n",
       " 43,\n",
       " 44,\n",
       " 45,\n",
       " 46,\n",
       " 47,\n",
       " 55,\n",
       " 48,\n",
       " 64,\n",
       " 49,\n",
       " 56,\n",
       " 51,\n",
       " 52,\n",
       " 53,\n",
       " 54,\n",
       " 62,\n",
       " 57,\n",
       " 58,\n",
       " 59,\n",
       " 60,\n",
       " 61,\n",
       " 63]"
      ]
     },
     "execution_count": 20,
     "metadata": {},
     "output_type": "execute_result"
    }
   ],
   "source": [
    "list(map(lambda move: move.action, state.full_history()))"
   ]
  }
 ],
 "metadata": {
  "kernelspec": {
   "display_name": "venv",
   "language": "python",
   "name": "python3"
  },
  "language_info": {
   "codemirror_mode": {
    "name": "ipython",
    "version": 3
   },
   "file_extension": ".py",
   "mimetype": "text/x-python",
   "name": "python",
   "nbconvert_exporter": "python",
   "pygments_lexer": "ipython3",
   "version": "3.12.2"
  }
 },
 "nbformat": 4,
 "nbformat_minor": 2
}
