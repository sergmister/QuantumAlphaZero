{
 "cells": [
  {
   "cell_type": "code",
   "execution_count": 1,
   "metadata": {},
   "outputs": [],
   "source": [
    "import random\n",
    "import copy\n",
    "import numpy as np\n",
    "import pyspiel\n",
    "from open_spiel.python.algorithms import mcts, random_agent, minimax\n",
    "from othello_game import OthelloGame, OthelloState\n",
    "from MCTS import MCTS\n",
    "from Arena import Arena\n",
    "from Coach import Coach\n",
    "from BasicModel import BasicModel\n",
    "from NNet import NNetWrapper\n",
    "from QNet import QNetWrapper\n",
    "from HybridQNet import HybridQNetWrapper\n",
    "import matplotlib.pyplot as plt\n",
    "import pennylane as qml\n",
    "from pennylane import numpy as p_np\n",
    "import torch"
   ]
  },
  {
   "cell_type": "code",
   "execution_count": 2,
   "metadata": {},
   "outputs": [],
   "source": [
    "def plot_performance_history(history, name):\n",
    "    x = [i for i, _ in history]\n",
    "    random_wins = [results[\"random\"][0] for _, results in history]\n",
    "    random_draws = [results[\"random\"][2] for _, results in history]\n",
    "    random_losses = [results[\"random\"][1] for _, results in history]\n",
    "    mcts_wins = [results[\"mcts\"][0] for _, results in history]\n",
    "    mcts_draws = [results[\"mcts\"][2] for _, results in history]\n",
    "    mcts_losses = [results[\"mcts\"][1] for _, results in history]\n",
    "\n",
    "    fig, axs = plt.subplots(1, 2, figsize=(8, 3))\n",
    "\n",
    "    axs[0].bar(x, random_wins, color='g', width=2, label='random wins')\n",
    "    axs[0].bar(x, random_draws, color='b', width=2, bottom=random_wins, label='random draws')\n",
    "    axs[0].bar(x, random_losses, color='r', width=2, bottom=np.array(random_wins)+np.array(random_draws), label='random losses')\n",
    "\n",
    "    axs[0].set_xticks(x)\n",
    "\n",
    "    axs[0].set_xlabel('Iteration')\n",
    "    axs[0].set_ylabel('Number of games')\n",
    "    axs[0].set_title(f\"{name} vs Random Agent\")\n",
    "\n",
    "    axs[1].bar(x, mcts_wins, color='g', width=2, label='mcts wins')\n",
    "    axs[1].bar(x, mcts_draws, color='b', width=2, bottom=mcts_wins, label='mcts draws')\n",
    "    axs[1].bar(x, mcts_losses, color='r', width=2, bottom=np.array(mcts_wins)+np.array(mcts_draws), label='mcts losses')\n",
    "\n",
    "    axs[1].set_xticks(x)\n",
    "\n",
    "    axs[1].set_xlabel('Iteration')\n",
    "    axs[1].set_ylabel('Number of games')\n",
    "    axs[1].set_title(f\"{name} vs MCTS Agent\")"
   ]
  },
  {
   "cell_type": "code",
   "execution_count": 3,
   "metadata": {},
   "outputs": [
    {
     "name": "stdout",
     "output_type": "stream",
     "text": [
      "Using CPU with lightning.qubit\n",
      "hybrid_qnet params: 799\n"
     ]
    }
   ],
   "source": [
    "game = pyspiel.load_game(\"othello_nxn\", {\"n\": 6})\n",
    "hybrid_qnet = HybridQNetWrapper(game, lr=0.0025, use_gpu=False)\n",
    "print(f\"hybrid_qnet params: {hybrid_qnet.total_params}\")"
   ]
  },
  {
   "cell_type": "code",
   "execution_count": 7,
   "metadata": {},
   "outputs": [
    {
     "name": "stdout",
     "output_type": "stream",
     "text": [
      "0: ──RX(M0)──RY(M0)──RZ(M0)──Rot(3.86,0.32,3.43)─╭●─────────────╭X──Rot(2.04,5.11,5.86)─╭●──────────╭X──Rot(3.69,5.48,4.39)──────────────────────╭●───────╭X──Rot(1.05,2.57,2.88)───────────────────────────────────────────╭●────╭X──Rot(2.73,2.58,1.39)────────────────────────────────────────────────────────────────╭●─╭X──Rot(5.94,5.09,5.76)──────────────────────╭●───────────────────────────────────────────────────────────────────╭X─┤  <Z>\n",
      "1: ──RX(M0)──RY(M0)──RZ(M0)──Rot(5.90,1.52,4.11)─╰X─╭●──────────│───Rot(0.50,0.77,5.66)─│──╭●───────│──╭X────────────────────Rot(5.90,2.06,4.90)─│──╭●────│──╭X────────────────────Rot(2.40,4.01,3.56)──────────────────────│──╭●─│──╭X────────────────────Rot(4.59,0.43,4.02)───────────────────────────────────────────│──╰●─╭X────────────────────Rot(5.01,3.03,0.73)─╰X───────────────────╭●──────────────────────────────────────────────│──┤  <Z>\n",
      "2: ──RX(M0)──RY(M0)──RZ(M0)──Rot(4.67,5.13,0.82)────╰X─╭●───────│───Rot(4.04,0.16,4.93)─╰X─│──╭●────│──│─────────────────────Rot(5.54,1.58,5.40)─│──│──╭●─│──│────────────────────╭X────────────────────Rot(1.79,5.55,1.32)─│──│──╰●─│────────────────────╭X────────────────────Rot(1.95,2.97,6.20)──────────────────────│─────╰●───────────────────╭X────────────────────Rot(2.02,1.71,5.31)─╰X───────────────────╭●─────────────────────────│──┤  <Z>\n",
      "3: ──RX(M0)──RY(M0)──RZ(M0)──Rot(5.35,0.67,0.04)───────╰X─╭●────│───Rot(4.80,3.45,2.79)────╰X─│──╭●─│──│─────────────────────Rot(5.21,5.11,5.56)─╰X─│──│──╰●─│────────────────────│─────────────────────Rot(3.25,0.26,3.61)─│──│─────╰●───────────────────│────────────────────╭X────────────────────Rot(1.51,2.14,3.38)─│──────────────────────────╰●───────────────────╭X────────────────────Rot(6.18,2.91,0.90)─╰X───────────────────╭●────│──┤  <Z>\n",
      "4: ──RX(M0)──RY(M0)──RZ(M0)──Rot(1.33,5.50,1.00)──────────╰X─╭●─│───Rot(5.13,6.24,5.56)───────╰X─│──╰●─│─────────────────────Rot(0.43,0.10,0.12)────╰X─│─────╰●───────────────────│─────────────────────Rot(0.60,2.99,3.23)─╰X─│──────────────────────────╰●───────────────────│─────────────────────Rot(3.67,2.31,5.37)─│───────────────────────────────────────────────╰●───────────────────╭X────────────────────Rot(4.43,1.24,1.97)─╰X─╭●─│──┤  <Z>\n",
      "5: ──RX(M0)──RY(M0)──RZ(M0)──Rot(2.52,2.30,5.54)─────────────╰X─╰●──Rot(3.92,2.65,0.87)──────────╰X────╰●────────────────────Rot(6.01,5.21,3.89)───────╰X─────────────────────────╰●────────────────────Rot(5.69,6.14,2.41)────╰X──────────────────────────────────────────────╰●────────────────────Rot(0.41,5.24,3.99)─╰X───────────────────────────────────────────────────────────────────╰●────────────────────Rot(1.01,4.63,2.39)────╰X─╰●─┤  <Z>\n",
      "\n",
      "M0 = \n",
      "tensor([1.])\n"
     ]
    }
   ],
   "source": [
    "drawer = qml.draw(hybrid_qnet.qlayer, expansion_strategy=\"device\", max_length=1000)\n",
    "print(drawer(torch.ones((1, 3, 6)), hybrid_qnet.qlayer.weights))"
   ]
  },
  {
   "cell_type": "code",
   "execution_count": 4,
   "metadata": {},
   "outputs": [
    {
     "name": "stdout",
     "output_type": "stream",
     "text": [
      "Iter 0\n",
      "Testing...\n"
     ]
    },
    {
     "name": "stderr",
     "output_type": "stream",
     "text": [
      "Arena.playGames (1): 100%|██████████| 25/25 [01:58<00:00,  4.74s/it]\n",
      "Arena.playGames (2): 100%|██████████| 25/25 [01:45<00:00,  4.24s/it]\n",
      "Arena.playGames (1): 100%|██████████| 25/25 [02:18<00:00,  5.55s/it]\n",
      "Arena.playGames (2): 100%|██████████| 25/25 [02:25<00:00,  5.80s/it]\n"
     ]
    },
    {
     "name": "stdout",
     "output_type": "stream",
     "text": [
      "{'random': (26, 23, 1), 'mcts': (5, 43, 2)}\n",
      "Iter 1\n"
     ]
    },
    {
     "name": "stderr",
     "output_type": "stream",
     "text": [
      "Self Play: 100%|██████████| 5/5 [00:43<00:00,  8.61s/it]\n"
     ]
    },
    {
     "name": "stdout",
     "output_type": "stream",
     "text": [
      "Epoch 0\n"
     ]
    },
    {
     "name": "stderr",
     "output_type": "stream",
     "text": [
      "Training Net: 100%|██████████| 3/3 [00:00<00:00, 23.82it/s, Loss_v=1.32e+00]\n"
     ]
    },
    {
     "name": "stdout",
     "output_type": "stream",
     "text": [
      "Epoch 1\n"
     ]
    },
    {
     "name": "stderr",
     "output_type": "stream",
     "text": [
      "Training Net: 100%|██████████| 3/3 [00:00<00:00, 27.08it/s, Loss_v=1.24e+00]\n"
     ]
    },
    {
     "name": "stdout",
     "output_type": "stream",
     "text": [
      "Epoch 2\n"
     ]
    },
    {
     "name": "stderr",
     "output_type": "stream",
     "text": [
      "Training Net: 100%|██████████| 3/3 [00:00<00:00, 27.48it/s, Loss_v=1.20e+00]\n"
     ]
    },
    {
     "name": "stdout",
     "output_type": "stream",
     "text": [
      "Epoch 3\n"
     ]
    },
    {
     "name": "stderr",
     "output_type": "stream",
     "text": [
      "Training Net: 100%|██████████| 3/3 [00:00<00:00, 22.09it/s, Loss_v=1.13e+00]\n"
     ]
    },
    {
     "name": "stdout",
     "output_type": "stream",
     "text": [
      "Epoch 4\n"
     ]
    },
    {
     "name": "stderr",
     "output_type": "stream",
     "text": [
      "Training Net: 100%|██████████| 3/3 [00:00<00:00, 26.35it/s, Loss_v=1.08e+00]\n"
     ]
    },
    {
     "name": "stdout",
     "output_type": "stream",
     "text": [
      "Epoch 5\n"
     ]
    },
    {
     "name": "stderr",
     "output_type": "stream",
     "text": [
      "Training Net: 100%|██████████| 3/3 [00:00<00:00, 24.53it/s, Loss_v=1.03e+00]\n"
     ]
    },
    {
     "name": "stdout",
     "output_type": "stream",
     "text": [
      "Epoch 6\n"
     ]
    },
    {
     "name": "stderr",
     "output_type": "stream",
     "text": [
      "Training Net: 100%|██████████| 3/3 [00:00<00:00, 23.89it/s, Loss_v=9.93e-01]\n"
     ]
    },
    {
     "name": "stdout",
     "output_type": "stream",
     "text": [
      "Epoch 7\n"
     ]
    },
    {
     "name": "stderr",
     "output_type": "stream",
     "text": [
      "Training Net: 100%|██████████| 3/3 [00:00<00:00, 27.48it/s, Loss_v=9.53e-01]\n"
     ]
    },
    {
     "name": "stdout",
     "output_type": "stream",
     "text": [
      "Epoch 8\n"
     ]
    },
    {
     "name": "stderr",
     "output_type": "stream",
     "text": [
      "Training Net: 100%|██████████| 3/3 [00:00<00:00, 27.46it/s, Loss_v=9.14e-01]\n"
     ]
    },
    {
     "name": "stdout",
     "output_type": "stream",
     "text": [
      "Epoch 9\n"
     ]
    },
    {
     "name": "stderr",
     "output_type": "stream",
     "text": [
      "Training Net: 100%|██████████| 3/3 [00:00<00:00, 27.48it/s, Loss_v=8.74e-01]\n"
     ]
    },
    {
     "name": "stdout",
     "output_type": "stream",
     "text": [
      "Iter 2\n"
     ]
    },
    {
     "name": "stderr",
     "output_type": "stream",
     "text": [
      "Self Play: 100%|██████████| 5/5 [00:46<00:00,  9.31s/it]\n"
     ]
    },
    {
     "name": "stdout",
     "output_type": "stream",
     "text": [
      "Epoch 0\n"
     ]
    },
    {
     "name": "stderr",
     "output_type": "stream",
     "text": [
      "Training Net: 100%|██████████| 7/7 [00:00<00:00, 25.54it/s, Loss_v=9.00e-01]\n"
     ]
    },
    {
     "name": "stdout",
     "output_type": "stream",
     "text": [
      "Epoch 1\n"
     ]
    },
    {
     "name": "stderr",
     "output_type": "stream",
     "text": [
      "Training Net: 100%|██████████| 7/7 [00:00<00:00, 27.32it/s, Loss_v=8.53e-01]\n"
     ]
    },
    {
     "name": "stdout",
     "output_type": "stream",
     "text": [
      "Epoch 2\n"
     ]
    },
    {
     "name": "stderr",
     "output_type": "stream",
     "text": [
      "Training Net: 100%|██████████| 7/7 [00:00<00:00, 27.23it/s, Loss_v=8.23e-01]\n"
     ]
    },
    {
     "name": "stdout",
     "output_type": "stream",
     "text": [
      "Epoch 3\n"
     ]
    },
    {
     "name": "stderr",
     "output_type": "stream",
     "text": [
      "Training Net: 100%|██████████| 7/7 [00:00<00:00, 27.73it/s, Loss_v=7.96e-01]\n"
     ]
    },
    {
     "name": "stdout",
     "output_type": "stream",
     "text": [
      "Epoch 4\n"
     ]
    },
    {
     "name": "stderr",
     "output_type": "stream",
     "text": [
      "Training Net: 100%|██████████| 7/7 [00:00<00:00, 25.78it/s, Loss_v=7.81e-01]\n"
     ]
    },
    {
     "name": "stdout",
     "output_type": "stream",
     "text": [
      "Epoch 5\n"
     ]
    },
    {
     "name": "stderr",
     "output_type": "stream",
     "text": [
      "Training Net: 100%|██████████| 7/7 [00:00<00:00, 25.34it/s, Loss_v=7.61e-01]\n"
     ]
    },
    {
     "name": "stdout",
     "output_type": "stream",
     "text": [
      "Epoch 6\n"
     ]
    },
    {
     "name": "stderr",
     "output_type": "stream",
     "text": [
      "Training Net: 100%|██████████| 7/7 [00:00<00:00, 27.01it/s, Loss_v=7.38e-01]\n"
     ]
    },
    {
     "name": "stdout",
     "output_type": "stream",
     "text": [
      "Epoch 7\n"
     ]
    },
    {
     "name": "stderr",
     "output_type": "stream",
     "text": [
      "Training Net: 100%|██████████| 7/7 [00:00<00:00, 26.89it/s, Loss_v=7.11e-01]\n"
     ]
    },
    {
     "name": "stdout",
     "output_type": "stream",
     "text": [
      "Epoch 8\n"
     ]
    },
    {
     "name": "stderr",
     "output_type": "stream",
     "text": [
      "Training Net: 100%|██████████| 7/7 [00:00<00:00, 26.83it/s, Loss_v=6.72e-01]\n"
     ]
    },
    {
     "name": "stdout",
     "output_type": "stream",
     "text": [
      "Epoch 9\n"
     ]
    },
    {
     "name": "stderr",
     "output_type": "stream",
     "text": [
      "Training Net: 100%|██████████| 7/7 [00:00<00:00, 24.40it/s, Loss_v=6.54e-01]\n"
     ]
    },
    {
     "name": "stdout",
     "output_type": "stream",
     "text": [
      "Iter 3\n"
     ]
    },
    {
     "name": "stderr",
     "output_type": "stream",
     "text": [
      "Self Play: 100%|██████████| 5/5 [00:44<00:00,  8.93s/it]\n"
     ]
    },
    {
     "name": "stdout",
     "output_type": "stream",
     "text": [
      "Epoch 0\n"
     ]
    },
    {
     "name": "stderr",
     "output_type": "stream",
     "text": [
      "Training Net: 100%|██████████| 10/10 [00:00<00:00, 25.88it/s, Loss_v=8.37e-01]\n"
     ]
    },
    {
     "name": "stdout",
     "output_type": "stream",
     "text": [
      "Epoch 1\n"
     ]
    },
    {
     "name": "stderr",
     "output_type": "stream",
     "text": [
      "Training Net: 100%|██████████| 10/10 [00:00<00:00, 25.65it/s, Loss_v=7.93e-01]\n"
     ]
    },
    {
     "name": "stdout",
     "output_type": "stream",
     "text": [
      "Epoch 2\n"
     ]
    },
    {
     "name": "stderr",
     "output_type": "stream",
     "text": [
      "Training Net: 100%|██████████| 10/10 [00:00<00:00, 27.26it/s, Loss_v=7.56e-01]\n"
     ]
    },
    {
     "name": "stdout",
     "output_type": "stream",
     "text": [
      "Epoch 3\n"
     ]
    },
    {
     "name": "stderr",
     "output_type": "stream",
     "text": [
      "Training Net: 100%|██████████| 10/10 [00:00<00:00, 26.45it/s, Loss_v=7.13e-01]\n"
     ]
    },
    {
     "name": "stdout",
     "output_type": "stream",
     "text": [
      "Epoch 4\n"
     ]
    },
    {
     "name": "stderr",
     "output_type": "stream",
     "text": [
      "Training Net: 100%|██████████| 10/10 [00:00<00:00, 26.54it/s, Loss_v=6.95e-01]\n"
     ]
    },
    {
     "name": "stdout",
     "output_type": "stream",
     "text": [
      "Epoch 5\n"
     ]
    },
    {
     "name": "stderr",
     "output_type": "stream",
     "text": [
      "Training Net: 100%|██████████| 10/10 [00:00<00:00, 26.01it/s, Loss_v=6.76e-01]\n"
     ]
    },
    {
     "name": "stdout",
     "output_type": "stream",
     "text": [
      "Epoch 6\n"
     ]
    },
    {
     "name": "stderr",
     "output_type": "stream",
     "text": [
      "Training Net: 100%|██████████| 10/10 [00:00<00:00, 27.05it/s, Loss_v=6.50e-01]\n"
     ]
    },
    {
     "name": "stdout",
     "output_type": "stream",
     "text": [
      "Epoch 7\n"
     ]
    },
    {
     "name": "stderr",
     "output_type": "stream",
     "text": [
      "Training Net: 100%|██████████| 10/10 [00:00<00:00, 26.85it/s, Loss_v=6.39e-01]\n"
     ]
    },
    {
     "name": "stdout",
     "output_type": "stream",
     "text": [
      "Epoch 8\n"
     ]
    },
    {
     "name": "stderr",
     "output_type": "stream",
     "text": [
      "Training Net: 100%|██████████| 10/10 [00:00<00:00, 24.73it/s, Loss_v=6.12e-01]\n"
     ]
    },
    {
     "name": "stdout",
     "output_type": "stream",
     "text": [
      "Epoch 9\n"
     ]
    },
    {
     "name": "stderr",
     "output_type": "stream",
     "text": [
      "Training Net: 100%|██████████| 10/10 [00:00<00:00, 25.75it/s, Loss_v=6.05e-01]\n"
     ]
    },
    {
     "name": "stdout",
     "output_type": "stream",
     "text": [
      "Iter 4\n"
     ]
    },
    {
     "name": "stderr",
     "output_type": "stream",
     "text": [
      "Self Play: 100%|██████████| 5/5 [00:45<00:00,  9.17s/it]\n"
     ]
    },
    {
     "name": "stdout",
     "output_type": "stream",
     "text": [
      "Epoch 0\n"
     ]
    },
    {
     "name": "stderr",
     "output_type": "stream",
     "text": [
      "Training Net: 100%|██████████| 14/14 [00:00<00:00, 24.80it/s, Loss_v=6.06e-01]\n"
     ]
    },
    {
     "name": "stdout",
     "output_type": "stream",
     "text": [
      "Epoch 1\n"
     ]
    },
    {
     "name": "stderr",
     "output_type": "stream",
     "text": [
      "Training Net: 100%|██████████| 14/14 [00:00<00:00, 26.82it/s, Loss_v=5.67e-01]\n"
     ]
    },
    {
     "name": "stdout",
     "output_type": "stream",
     "text": [
      "Epoch 2\n"
     ]
    },
    {
     "name": "stderr",
     "output_type": "stream",
     "text": [
      "Training Net: 100%|██████████| 14/14 [00:00<00:00, 26.90it/s, Loss_v=5.37e-01]\n"
     ]
    },
    {
     "name": "stdout",
     "output_type": "stream",
     "text": [
      "Epoch 3\n"
     ]
    },
    {
     "name": "stderr",
     "output_type": "stream",
     "text": [
      "Training Net: 100%|██████████| 14/14 [00:00<00:00, 26.59it/s, Loss_v=5.14e-01]\n"
     ]
    },
    {
     "name": "stdout",
     "output_type": "stream",
     "text": [
      "Epoch 4\n"
     ]
    },
    {
     "name": "stderr",
     "output_type": "stream",
     "text": [
      "Training Net: 100%|██████████| 14/14 [00:00<00:00, 25.58it/s, Loss_v=5.22e-01]\n"
     ]
    },
    {
     "name": "stdout",
     "output_type": "stream",
     "text": [
      "Epoch 5\n"
     ]
    },
    {
     "name": "stderr",
     "output_type": "stream",
     "text": [
      "Training Net: 100%|██████████| 14/14 [00:00<00:00, 26.13it/s, Loss_v=5.01e-01]\n"
     ]
    },
    {
     "name": "stdout",
     "output_type": "stream",
     "text": [
      "Epoch 6\n"
     ]
    },
    {
     "name": "stderr",
     "output_type": "stream",
     "text": [
      "Training Net: 100%|██████████| 14/14 [00:00<00:00, 24.77it/s, Loss_v=4.84e-01]\n"
     ]
    },
    {
     "name": "stdout",
     "output_type": "stream",
     "text": [
      "Epoch 7\n"
     ]
    },
    {
     "name": "stderr",
     "output_type": "stream",
     "text": [
      "Training Net: 100%|██████████| 14/14 [00:00<00:00, 26.94it/s, Loss_v=4.84e-01]\n"
     ]
    },
    {
     "name": "stdout",
     "output_type": "stream",
     "text": [
      "Epoch 8\n"
     ]
    },
    {
     "name": "stderr",
     "output_type": "stream",
     "text": [
      "Training Net: 100%|██████████| 14/14 [00:00<00:00, 26.32it/s, Loss_v=4.55e-01]\n"
     ]
    },
    {
     "name": "stdout",
     "output_type": "stream",
     "text": [
      "Epoch 9\n"
     ]
    },
    {
     "name": "stderr",
     "output_type": "stream",
     "text": [
      "Training Net: 100%|██████████| 14/14 [00:00<00:00, 24.82it/s, Loss_v=4.60e-01]\n"
     ]
    },
    {
     "name": "stdout",
     "output_type": "stream",
     "text": [
      "Testing...\n"
     ]
    },
    {
     "name": "stderr",
     "output_type": "stream",
     "text": [
      "Arena.playGames (1): 100%|██████████| 25/25 [01:47<00:00,  4.31s/it]\n",
      "Arena.playGames (2): 100%|██████████| 25/25 [01:49<00:00,  4.37s/it]\n",
      "Arena.playGames (1): 100%|██████████| 25/25 [02:24<00:00,  5.77s/it]\n",
      "Arena.playGames (2): 100%|██████████| 25/25 [02:29<00:00,  6.00s/it]\n"
     ]
    },
    {
     "name": "stdout",
     "output_type": "stream",
     "text": [
      "{'random': (41, 8, 1), 'mcts': (14, 33, 3)}\n",
      "Iter 5\n"
     ]
    },
    {
     "name": "stderr",
     "output_type": "stream",
     "text": [
      "Self Play: 100%|██████████| 5/5 [00:45<00:00,  9.17s/it]\n"
     ]
    },
    {
     "name": "stdout",
     "output_type": "stream",
     "text": [
      "Epoch 0\n"
     ]
    },
    {
     "name": "stderr",
     "output_type": "stream",
     "text": [
      "Training Net: 100%|██████████| 18/18 [00:00<00:00, 26.18it/s, Loss_v=6.00e-01]\n"
     ]
    },
    {
     "name": "stdout",
     "output_type": "stream",
     "text": [
      "Epoch 1\n"
     ]
    },
    {
     "name": "stderr",
     "output_type": "stream",
     "text": [
      "Training Net: 100%|██████████| 18/18 [00:00<00:00, 27.59it/s, Loss_v=5.54e-01]\n"
     ]
    },
    {
     "name": "stdout",
     "output_type": "stream",
     "text": [
      "Epoch 2\n"
     ]
    },
    {
     "name": "stderr",
     "output_type": "stream",
     "text": [
      "Training Net: 100%|██████████| 18/18 [00:00<00:00, 26.17it/s, Loss_v=5.42e-01]\n"
     ]
    },
    {
     "name": "stdout",
     "output_type": "stream",
     "text": [
      "Epoch 3\n"
     ]
    },
    {
     "name": "stderr",
     "output_type": "stream",
     "text": [
      "Training Net: 100%|██████████| 18/18 [00:00<00:00, 25.73it/s, Loss_v=5.27e-01]\n"
     ]
    },
    {
     "name": "stdout",
     "output_type": "stream",
     "text": [
      "Epoch 4\n"
     ]
    },
    {
     "name": "stderr",
     "output_type": "stream",
     "text": [
      "Training Net: 100%|██████████| 18/18 [00:00<00:00, 27.13it/s, Loss_v=5.14e-01]\n"
     ]
    },
    {
     "name": "stdout",
     "output_type": "stream",
     "text": [
      "Epoch 5\n"
     ]
    },
    {
     "name": "stderr",
     "output_type": "stream",
     "text": [
      "Training Net: 100%|██████████| 18/18 [00:00<00:00, 27.57it/s, Loss_v=4.94e-01]\n"
     ]
    },
    {
     "name": "stdout",
     "output_type": "stream",
     "text": [
      "Epoch 6\n"
     ]
    },
    {
     "name": "stderr",
     "output_type": "stream",
     "text": [
      "Training Net: 100%|██████████| 18/18 [00:00<00:00, 26.85it/s, Loss_v=4.62e-01]\n"
     ]
    },
    {
     "name": "stdout",
     "output_type": "stream",
     "text": [
      "Epoch 7\n"
     ]
    },
    {
     "name": "stderr",
     "output_type": "stream",
     "text": [
      "Training Net: 100%|██████████| 18/18 [00:00<00:00, 27.65it/s, Loss_v=4.73e-01]\n"
     ]
    },
    {
     "name": "stdout",
     "output_type": "stream",
     "text": [
      "Epoch 8\n"
     ]
    },
    {
     "name": "stderr",
     "output_type": "stream",
     "text": [
      "Training Net: 100%|██████████| 18/18 [00:00<00:00, 26.95it/s, Loss_v=4.73e-01]\n"
     ]
    },
    {
     "name": "stdout",
     "output_type": "stream",
     "text": [
      "Epoch 9\n"
     ]
    },
    {
     "name": "stderr",
     "output_type": "stream",
     "text": [
      "Training Net: 100%|██████████| 18/18 [00:00<00:00, 27.00it/s, Loss_v=4.53e-01]\n"
     ]
    },
    {
     "name": "stdout",
     "output_type": "stream",
     "text": [
      "Iter 6\n"
     ]
    },
    {
     "name": "stderr",
     "output_type": "stream",
     "text": [
      "Self Play: 100%|██████████| 5/5 [00:42<00:00,  8.53s/it]\n"
     ]
    },
    {
     "name": "stdout",
     "output_type": "stream",
     "text": [
      "Epoch 0\n"
     ]
    },
    {
     "name": "stderr",
     "output_type": "stream",
     "text": [
      "Training Net: 100%|██████████| 21/21 [00:00<00:00, 25.89it/s, Loss_v=5.00e-01]\n"
     ]
    },
    {
     "name": "stdout",
     "output_type": "stream",
     "text": [
      "Epoch 1\n"
     ]
    },
    {
     "name": "stderr",
     "output_type": "stream",
     "text": [
      "Training Net: 100%|██████████| 21/21 [00:00<00:00, 27.09it/s, Loss_v=4.74e-01]\n"
     ]
    },
    {
     "name": "stdout",
     "output_type": "stream",
     "text": [
      "Epoch 2\n"
     ]
    },
    {
     "name": "stderr",
     "output_type": "stream",
     "text": [
      "Training Net: 100%|██████████| 21/21 [00:00<00:00, 25.58it/s, Loss_v=4.59e-01]\n"
     ]
    },
    {
     "name": "stdout",
     "output_type": "stream",
     "text": [
      "Epoch 3\n"
     ]
    },
    {
     "name": "stderr",
     "output_type": "stream",
     "text": [
      "Training Net: 100%|██████████| 21/21 [00:00<00:00, 25.73it/s, Loss_v=4.78e-01]\n"
     ]
    },
    {
     "name": "stdout",
     "output_type": "stream",
     "text": [
      "Epoch 4\n"
     ]
    },
    {
     "name": "stderr",
     "output_type": "stream",
     "text": [
      "Training Net: 100%|██████████| 21/21 [00:00<00:00, 27.48it/s, Loss_v=4.55e-01]\n"
     ]
    },
    {
     "name": "stdout",
     "output_type": "stream",
     "text": [
      "Epoch 5\n"
     ]
    },
    {
     "name": "stderr",
     "output_type": "stream",
     "text": [
      "Training Net: 100%|██████████| 21/21 [00:00<00:00, 27.03it/s, Loss_v=4.52e-01]\n"
     ]
    },
    {
     "name": "stdout",
     "output_type": "stream",
     "text": [
      "Epoch 6\n"
     ]
    },
    {
     "name": "stderr",
     "output_type": "stream",
     "text": [
      "Training Net: 100%|██████████| 21/21 [00:00<00:00, 26.90it/s, Loss_v=4.30e-01]\n"
     ]
    },
    {
     "name": "stdout",
     "output_type": "stream",
     "text": [
      "Epoch 7\n"
     ]
    },
    {
     "name": "stderr",
     "output_type": "stream",
     "text": [
      "Training Net: 100%|██████████| 21/21 [00:00<00:00, 27.71it/s, Loss_v=4.37e-01]\n"
     ]
    },
    {
     "name": "stdout",
     "output_type": "stream",
     "text": [
      "Epoch 8\n"
     ]
    },
    {
     "name": "stderr",
     "output_type": "stream",
     "text": [
      "Training Net: 100%|██████████| 21/21 [00:00<00:00, 26.51it/s, Loss_v=4.26e-01]\n"
     ]
    },
    {
     "name": "stdout",
     "output_type": "stream",
     "text": [
      "Epoch 9\n"
     ]
    },
    {
     "name": "stderr",
     "output_type": "stream",
     "text": [
      "Training Net: 100%|██████████| 21/21 [00:00<00:00, 27.91it/s, Loss_v=4.25e-01]\n"
     ]
    },
    {
     "name": "stdout",
     "output_type": "stream",
     "text": [
      "Iter 7\n"
     ]
    },
    {
     "name": "stderr",
     "output_type": "stream",
     "text": [
      "Self Play: 100%|██████████| 5/5 [00:45<00:00,  9.07s/it]\n"
     ]
    },
    {
     "name": "stdout",
     "output_type": "stream",
     "text": [
      "Epoch 0\n"
     ]
    },
    {
     "name": "stderr",
     "output_type": "stream",
     "text": [
      "Training Net: 100%|██████████| 25/25 [00:00<00:00, 27.22it/s, Loss_v=4.82e-01]\n"
     ]
    },
    {
     "name": "stdout",
     "output_type": "stream",
     "text": [
      "Epoch 1\n"
     ]
    },
    {
     "name": "stderr",
     "output_type": "stream",
     "text": [
      "Training Net: 100%|██████████| 25/25 [00:00<00:00, 27.33it/s, Loss_v=4.64e-01]\n"
     ]
    },
    {
     "name": "stdout",
     "output_type": "stream",
     "text": [
      "Epoch 2\n"
     ]
    },
    {
     "name": "stderr",
     "output_type": "stream",
     "text": [
      "Training Net: 100%|██████████| 25/25 [00:00<00:00, 27.52it/s, Loss_v=4.69e-01]\n"
     ]
    },
    {
     "name": "stdout",
     "output_type": "stream",
     "text": [
      "Epoch 3\n"
     ]
    },
    {
     "name": "stderr",
     "output_type": "stream",
     "text": [
      "Training Net: 100%|██████████| 25/25 [00:00<00:00, 25.86it/s, Loss_v=4.46e-01]\n"
     ]
    },
    {
     "name": "stdout",
     "output_type": "stream",
     "text": [
      "Epoch 4\n"
     ]
    },
    {
     "name": "stderr",
     "output_type": "stream",
     "text": [
      "Training Net: 100%|██████████| 25/25 [00:00<00:00, 26.69it/s, Loss_v=4.46e-01]\n"
     ]
    },
    {
     "name": "stdout",
     "output_type": "stream",
     "text": [
      "Epoch 5\n"
     ]
    },
    {
     "name": "stderr",
     "output_type": "stream",
     "text": [
      "Training Net: 100%|██████████| 25/25 [00:00<00:00, 27.50it/s, Loss_v=4.35e-01]\n"
     ]
    },
    {
     "name": "stdout",
     "output_type": "stream",
     "text": [
      "Epoch 6\n"
     ]
    },
    {
     "name": "stderr",
     "output_type": "stream",
     "text": [
      "Training Net: 100%|██████████| 25/25 [00:00<00:00, 26.75it/s, Loss_v=4.40e-01]\n"
     ]
    },
    {
     "name": "stdout",
     "output_type": "stream",
     "text": [
      "Epoch 7\n"
     ]
    },
    {
     "name": "stderr",
     "output_type": "stream",
     "text": [
      "Training Net: 100%|██████████| 25/25 [00:00<00:00, 27.27it/s, Loss_v=4.30e-01]\n"
     ]
    },
    {
     "name": "stdout",
     "output_type": "stream",
     "text": [
      "Epoch 8\n"
     ]
    },
    {
     "name": "stderr",
     "output_type": "stream",
     "text": [
      "Training Net: 100%|██████████| 25/25 [00:00<00:00, 26.56it/s, Loss_v=4.09e-01]\n"
     ]
    },
    {
     "name": "stdout",
     "output_type": "stream",
     "text": [
      "Epoch 9\n"
     ]
    },
    {
     "name": "stderr",
     "output_type": "stream",
     "text": [
      "Training Net: 100%|██████████| 25/25 [00:00<00:00, 26.85it/s, Loss_v=4.28e-01]\n"
     ]
    },
    {
     "name": "stdout",
     "output_type": "stream",
     "text": [
      "Iter 8\n"
     ]
    },
    {
     "name": "stderr",
     "output_type": "stream",
     "text": [
      "Self Play: 100%|██████████| 5/5 [00:45<00:00,  9.04s/it]\n"
     ]
    },
    {
     "name": "stdout",
     "output_type": "stream",
     "text": [
      "Epoch 0\n"
     ]
    },
    {
     "name": "stderr",
     "output_type": "stream",
     "text": [
      "Training Net: 100%|██████████| 28/28 [00:01<00:00, 26.86it/s, Loss_v=4.34e-01]\n"
     ]
    },
    {
     "name": "stdout",
     "output_type": "stream",
     "text": [
      "Epoch 1\n"
     ]
    },
    {
     "name": "stderr",
     "output_type": "stream",
     "text": [
      "Training Net: 100%|██████████| 28/28 [00:01<00:00, 27.34it/s, Loss_v=4.16e-01]\n"
     ]
    },
    {
     "name": "stdout",
     "output_type": "stream",
     "text": [
      "Epoch 2\n"
     ]
    },
    {
     "name": "stderr",
     "output_type": "stream",
     "text": [
      "Training Net: 100%|██████████| 28/28 [00:01<00:00, 27.04it/s, Loss_v=4.11e-01]\n"
     ]
    },
    {
     "name": "stdout",
     "output_type": "stream",
     "text": [
      "Epoch 3\n"
     ]
    },
    {
     "name": "stderr",
     "output_type": "stream",
     "text": [
      "Training Net: 100%|██████████| 28/28 [00:01<00:00, 26.50it/s, Loss_v=4.08e-01]\n"
     ]
    },
    {
     "name": "stdout",
     "output_type": "stream",
     "text": [
      "Epoch 4\n"
     ]
    },
    {
     "name": "stderr",
     "output_type": "stream",
     "text": [
      "Training Net: 100%|██████████| 28/28 [00:01<00:00, 26.81it/s, Loss_v=4.02e-01]\n"
     ]
    },
    {
     "name": "stdout",
     "output_type": "stream",
     "text": [
      "Epoch 5\n"
     ]
    },
    {
     "name": "stderr",
     "output_type": "stream",
     "text": [
      "Training Net: 100%|██████████| 28/28 [00:01<00:00, 27.46it/s, Loss_v=4.12e-01]\n"
     ]
    },
    {
     "name": "stdout",
     "output_type": "stream",
     "text": [
      "Epoch 6\n"
     ]
    },
    {
     "name": "stderr",
     "output_type": "stream",
     "text": [
      "Training Net: 100%|██████████| 28/28 [00:01<00:00, 26.71it/s, Loss_v=4.12e-01]\n"
     ]
    },
    {
     "name": "stdout",
     "output_type": "stream",
     "text": [
      "Epoch 7\n"
     ]
    },
    {
     "name": "stderr",
     "output_type": "stream",
     "text": [
      "Training Net: 100%|██████████| 28/28 [00:01<00:00, 27.33it/s, Loss_v=3.97e-01]\n"
     ]
    },
    {
     "name": "stdout",
     "output_type": "stream",
     "text": [
      "Epoch 8\n"
     ]
    },
    {
     "name": "stderr",
     "output_type": "stream",
     "text": [
      "Training Net: 100%|██████████| 28/28 [00:01<00:00, 26.61it/s, Loss_v=4.08e-01]\n"
     ]
    },
    {
     "name": "stdout",
     "output_type": "stream",
     "text": [
      "Epoch 9\n"
     ]
    },
    {
     "name": "stderr",
     "output_type": "stream",
     "text": [
      "Training Net: 100%|██████████| 28/28 [00:01<00:00, 27.51it/s, Loss_v=3.93e-01]\n"
     ]
    },
    {
     "name": "stdout",
     "output_type": "stream",
     "text": [
      "Testing...\n"
     ]
    },
    {
     "name": "stderr",
     "output_type": "stream",
     "text": [
      "Arena.playGames (1): 100%|██████████| 25/25 [01:40<00:00,  4.00s/it]\n",
      "Arena.playGames (2): 100%|██████████| 25/25 [01:44<00:00,  4.18s/it]\n",
      "Arena.playGames (1): 100%|██████████| 25/25 [02:25<00:00,  5.82s/it]\n",
      "Arena.playGames (2): 100%|██████████| 25/25 [02:27<00:00,  5.89s/it]\n"
     ]
    },
    {
     "name": "stdout",
     "output_type": "stream",
     "text": [
      "{'random': (41, 8, 1), 'mcts': (19, 28, 3)}\n",
      "Iter 9\n"
     ]
    },
    {
     "name": "stderr",
     "output_type": "stream",
     "text": [
      "Self Play: 100%|██████████| 5/5 [00:42<00:00,  8.51s/it]\n"
     ]
    },
    {
     "name": "stdout",
     "output_type": "stream",
     "text": [
      "Epoch 0\n"
     ]
    },
    {
     "name": "stderr",
     "output_type": "stream",
     "text": [
      "Training Net: 100%|██████████| 32/32 [00:01<00:00, 26.42it/s, Loss_v=4.44e-01]\n"
     ]
    },
    {
     "name": "stdout",
     "output_type": "stream",
     "text": [
      "Epoch 1\n"
     ]
    },
    {
     "name": "stderr",
     "output_type": "stream",
     "text": [
      "Training Net: 100%|██████████| 32/32 [00:01<00:00, 26.66it/s, Loss_v=4.29e-01]\n"
     ]
    },
    {
     "name": "stdout",
     "output_type": "stream",
     "text": [
      "Epoch 2\n"
     ]
    },
    {
     "name": "stderr",
     "output_type": "stream",
     "text": [
      "Training Net: 100%|██████████| 32/32 [00:01<00:00, 25.83it/s, Loss_v=4.11e-01]\n"
     ]
    },
    {
     "name": "stdout",
     "output_type": "stream",
     "text": [
      "Epoch 3\n"
     ]
    },
    {
     "name": "stderr",
     "output_type": "stream",
     "text": [
      "Training Net: 100%|██████████| 32/32 [00:01<00:00, 27.57it/s, Loss_v=4.06e-01]\n"
     ]
    },
    {
     "name": "stdout",
     "output_type": "stream",
     "text": [
      "Epoch 4\n"
     ]
    },
    {
     "name": "stderr",
     "output_type": "stream",
     "text": [
      "Training Net: 100%|██████████| 32/32 [00:01<00:00, 26.86it/s, Loss_v=4.06e-01]\n"
     ]
    },
    {
     "name": "stdout",
     "output_type": "stream",
     "text": [
      "Epoch 5\n"
     ]
    },
    {
     "name": "stderr",
     "output_type": "stream",
     "text": [
      "Training Net: 100%|██████████| 32/32 [00:01<00:00, 26.91it/s, Loss_v=4.11e-01]\n"
     ]
    },
    {
     "name": "stdout",
     "output_type": "stream",
     "text": [
      "Epoch 6\n"
     ]
    },
    {
     "name": "stderr",
     "output_type": "stream",
     "text": [
      "Training Net: 100%|██████████| 32/32 [00:01<00:00, 27.36it/s, Loss_v=4.06e-01]\n"
     ]
    },
    {
     "name": "stdout",
     "output_type": "stream",
     "text": [
      "Epoch 7\n"
     ]
    },
    {
     "name": "stderr",
     "output_type": "stream",
     "text": [
      "Training Net: 100%|██████████| 32/32 [00:01<00:00, 27.07it/s, Loss_v=3.99e-01]\n"
     ]
    },
    {
     "name": "stdout",
     "output_type": "stream",
     "text": [
      "Epoch 8\n"
     ]
    },
    {
     "name": "stderr",
     "output_type": "stream",
     "text": [
      "Training Net: 100%|██████████| 32/32 [00:01<00:00, 26.89it/s, Loss_v=3.90e-01]\n"
     ]
    },
    {
     "name": "stdout",
     "output_type": "stream",
     "text": [
      "Epoch 9\n"
     ]
    },
    {
     "name": "stderr",
     "output_type": "stream",
     "text": [
      "Training Net: 100%|██████████| 32/32 [00:01<00:00, 26.48it/s, Loss_v=3.99e-01]\n"
     ]
    },
    {
     "name": "stdout",
     "output_type": "stream",
     "text": [
      "Iter 10\n"
     ]
    },
    {
     "name": "stderr",
     "output_type": "stream",
     "text": [
      "Self Play: 100%|██████████| 5/5 [00:45<00:00,  9.06s/it]\n"
     ]
    },
    {
     "name": "stdout",
     "output_type": "stream",
     "text": [
      "Epoch 0\n"
     ]
    },
    {
     "name": "stderr",
     "output_type": "stream",
     "text": [
      "Training Net: 100%|██████████| 32/32 [00:01<00:00, 27.10it/s, Loss_v=4.85e-01]\n"
     ]
    },
    {
     "name": "stdout",
     "output_type": "stream",
     "text": [
      "Epoch 1\n"
     ]
    },
    {
     "name": "stderr",
     "output_type": "stream",
     "text": [
      "Training Net: 100%|██████████| 32/32 [00:01<00:00, 27.69it/s, Loss_v=4.70e-01]\n"
     ]
    },
    {
     "name": "stdout",
     "output_type": "stream",
     "text": [
      "Epoch 2\n"
     ]
    },
    {
     "name": "stderr",
     "output_type": "stream",
     "text": [
      "Training Net: 100%|██████████| 32/32 [00:01<00:00, 27.57it/s, Loss_v=4.53e-01]\n"
     ]
    },
    {
     "name": "stdout",
     "output_type": "stream",
     "text": [
      "Epoch 3\n"
     ]
    },
    {
     "name": "stderr",
     "output_type": "stream",
     "text": [
      "Training Net: 100%|██████████| 32/32 [00:01<00:00, 27.49it/s, Loss_v=4.52e-01]\n"
     ]
    },
    {
     "name": "stdout",
     "output_type": "stream",
     "text": [
      "Epoch 4\n"
     ]
    },
    {
     "name": "stderr",
     "output_type": "stream",
     "text": [
      "Training Net: 100%|██████████| 32/32 [00:01<00:00, 27.61it/s, Loss_v=4.38e-01]\n"
     ]
    },
    {
     "name": "stdout",
     "output_type": "stream",
     "text": [
      "Epoch 5\n"
     ]
    },
    {
     "name": "stderr",
     "output_type": "stream",
     "text": [
      "Training Net: 100%|██████████| 32/32 [00:01<00:00, 26.64it/s, Loss_v=4.53e-01]\n"
     ]
    },
    {
     "name": "stdout",
     "output_type": "stream",
     "text": [
      "Epoch 6\n"
     ]
    },
    {
     "name": "stderr",
     "output_type": "stream",
     "text": [
      "Training Net: 100%|██████████| 32/32 [00:01<00:00, 27.60it/s, Loss_v=4.32e-01]\n"
     ]
    },
    {
     "name": "stdout",
     "output_type": "stream",
     "text": [
      "Epoch 7\n"
     ]
    },
    {
     "name": "stderr",
     "output_type": "stream",
     "text": [
      "Training Net: 100%|██████████| 32/32 [00:01<00:00, 26.80it/s, Loss_v=4.27e-01]\n"
     ]
    },
    {
     "name": "stdout",
     "output_type": "stream",
     "text": [
      "Epoch 8\n"
     ]
    },
    {
     "name": "stderr",
     "output_type": "stream",
     "text": [
      "Training Net: 100%|██████████| 32/32 [00:01<00:00, 26.75it/s, Loss_v=4.40e-01]\n"
     ]
    },
    {
     "name": "stdout",
     "output_type": "stream",
     "text": [
      "Epoch 9\n"
     ]
    },
    {
     "name": "stderr",
     "output_type": "stream",
     "text": [
      "Training Net: 100%|██████████| 32/32 [00:01<00:00, 27.10it/s, Loss_v=4.37e-01]\n"
     ]
    },
    {
     "name": "stdout",
     "output_type": "stream",
     "text": [
      "Iter 11\n"
     ]
    },
    {
     "name": "stderr",
     "output_type": "stream",
     "text": [
      "Self Play: 100%|██████████| 5/5 [00:43<00:00,  8.69s/it]\n"
     ]
    },
    {
     "name": "stdout",
     "output_type": "stream",
     "text": [
      "Epoch 0\n"
     ]
    },
    {
     "name": "stderr",
     "output_type": "stream",
     "text": [
      "Training Net: 100%|██████████| 32/32 [00:01<00:00, 26.26it/s, Loss_v=4.65e-01]\n"
     ]
    },
    {
     "name": "stdout",
     "output_type": "stream",
     "text": [
      "Epoch 1\n"
     ]
    },
    {
     "name": "stderr",
     "output_type": "stream",
     "text": [
      "Training Net: 100%|██████████| 32/32 [00:01<00:00, 27.09it/s, Loss_v=4.45e-01]\n"
     ]
    },
    {
     "name": "stdout",
     "output_type": "stream",
     "text": [
      "Epoch 2\n"
     ]
    },
    {
     "name": "stderr",
     "output_type": "stream",
     "text": [
      "Training Net: 100%|██████████| 32/32 [00:01<00:00, 27.57it/s, Loss_v=4.33e-01]\n"
     ]
    },
    {
     "name": "stdout",
     "output_type": "stream",
     "text": [
      "Epoch 3\n"
     ]
    },
    {
     "name": "stderr",
     "output_type": "stream",
     "text": [
      "Training Net: 100%|██████████| 32/32 [00:01<00:00, 26.21it/s, Loss_v=4.30e-01]\n"
     ]
    },
    {
     "name": "stdout",
     "output_type": "stream",
     "text": [
      "Epoch 4\n"
     ]
    },
    {
     "name": "stderr",
     "output_type": "stream",
     "text": [
      "Training Net: 100%|██████████| 32/32 [00:01<00:00, 27.20it/s, Loss_v=4.27e-01]\n"
     ]
    },
    {
     "name": "stdout",
     "output_type": "stream",
     "text": [
      "Epoch 5\n"
     ]
    },
    {
     "name": "stderr",
     "output_type": "stream",
     "text": [
      "Training Net: 100%|██████████| 32/32 [00:01<00:00, 27.23it/s, Loss_v=4.29e-01]\n"
     ]
    },
    {
     "name": "stdout",
     "output_type": "stream",
     "text": [
      "Epoch 6\n"
     ]
    },
    {
     "name": "stderr",
     "output_type": "stream",
     "text": [
      "Training Net: 100%|██████████| 32/32 [00:01<00:00, 27.11it/s, Loss_v=4.22e-01]\n"
     ]
    },
    {
     "name": "stdout",
     "output_type": "stream",
     "text": [
      "Epoch 7\n"
     ]
    },
    {
     "name": "stderr",
     "output_type": "stream",
     "text": [
      "Training Net: 100%|██████████| 32/32 [00:01<00:00, 27.47it/s, Loss_v=4.16e-01]\n"
     ]
    },
    {
     "name": "stdout",
     "output_type": "stream",
     "text": [
      "Epoch 8\n"
     ]
    },
    {
     "name": "stderr",
     "output_type": "stream",
     "text": [
      "Training Net: 100%|██████████| 32/32 [00:01<00:00, 26.02it/s, Loss_v=4.01e-01]\n"
     ]
    },
    {
     "name": "stdout",
     "output_type": "stream",
     "text": [
      "Epoch 9\n"
     ]
    },
    {
     "name": "stderr",
     "output_type": "stream",
     "text": [
      "Training Net: 100%|██████████| 32/32 [00:01<00:00, 27.90it/s, Loss_v=4.04e-01]\n"
     ]
    },
    {
     "name": "stdout",
     "output_type": "stream",
     "text": [
      "Iter 12\n"
     ]
    },
    {
     "name": "stderr",
     "output_type": "stream",
     "text": [
      "Self Play: 100%|██████████| 5/5 [00:44<00:00,  8.88s/it]\n"
     ]
    },
    {
     "name": "stdout",
     "output_type": "stream",
     "text": [
      "Epoch 0\n"
     ]
    },
    {
     "name": "stderr",
     "output_type": "stream",
     "text": [
      "Training Net: 100%|██████████| 32/32 [00:01<00:00, 27.26it/s, Loss_v=4.66e-01]\n"
     ]
    },
    {
     "name": "stdout",
     "output_type": "stream",
     "text": [
      "Epoch 1\n"
     ]
    },
    {
     "name": "stderr",
     "output_type": "stream",
     "text": [
      "Training Net: 100%|██████████| 32/32 [00:01<00:00, 27.61it/s, Loss_v=4.54e-01]\n"
     ]
    },
    {
     "name": "stdout",
     "output_type": "stream",
     "text": [
      "Epoch 2\n"
     ]
    },
    {
     "name": "stderr",
     "output_type": "stream",
     "text": [
      "Training Net: 100%|██████████| 32/32 [00:01<00:00, 26.38it/s, Loss_v=4.36e-01]\n"
     ]
    },
    {
     "name": "stdout",
     "output_type": "stream",
     "text": [
      "Epoch 3\n"
     ]
    },
    {
     "name": "stderr",
     "output_type": "stream",
     "text": [
      "Training Net: 100%|██████████| 32/32 [00:01<00:00, 26.02it/s, Loss_v=4.27e-01]\n"
     ]
    },
    {
     "name": "stdout",
     "output_type": "stream",
     "text": [
      "Epoch 4\n"
     ]
    },
    {
     "name": "stderr",
     "output_type": "stream",
     "text": [
      "Training Net: 100%|██████████| 32/32 [00:01<00:00, 27.54it/s, Loss_v=4.03e-01]\n"
     ]
    },
    {
     "name": "stdout",
     "output_type": "stream",
     "text": [
      "Epoch 5\n"
     ]
    },
    {
     "name": "stderr",
     "output_type": "stream",
     "text": [
      "Training Net: 100%|██████████| 32/32 [00:01<00:00, 27.39it/s, Loss_v=4.27e-01]\n"
     ]
    },
    {
     "name": "stdout",
     "output_type": "stream",
     "text": [
      "Epoch 6\n"
     ]
    },
    {
     "name": "stderr",
     "output_type": "stream",
     "text": [
      "Training Net: 100%|██████████| 32/32 [00:01<00:00, 27.23it/s, Loss_v=4.06e-01]\n"
     ]
    },
    {
     "name": "stdout",
     "output_type": "stream",
     "text": [
      "Epoch 7\n"
     ]
    },
    {
     "name": "stderr",
     "output_type": "stream",
     "text": [
      "Training Net: 100%|██████████| 32/32 [00:01<00:00, 27.15it/s, Loss_v=4.13e-01]\n"
     ]
    },
    {
     "name": "stdout",
     "output_type": "stream",
     "text": [
      "Epoch 8\n"
     ]
    },
    {
     "name": "stderr",
     "output_type": "stream",
     "text": [
      "Training Net: 100%|██████████| 32/32 [00:01<00:00, 27.52it/s, Loss_v=3.93e-01]\n"
     ]
    },
    {
     "name": "stdout",
     "output_type": "stream",
     "text": [
      "Epoch 9\n"
     ]
    },
    {
     "name": "stderr",
     "output_type": "stream",
     "text": [
      "Training Net: 100%|██████████| 32/32 [00:01<00:00, 27.14it/s, Loss_v=4.02e-01]\n"
     ]
    },
    {
     "name": "stdout",
     "output_type": "stream",
     "text": [
      "Testing...\n"
     ]
    },
    {
     "name": "stderr",
     "output_type": "stream",
     "text": [
      "Arena.playGames (1): 100%|██████████| 25/25 [01:47<00:00,  4.31s/it]\n",
      "Arena.playGames (2): 100%|██████████| 25/25 [01:46<00:00,  4.28s/it]\n",
      "Arena.playGames (1): 100%|██████████| 25/25 [02:21<00:00,  5.64s/it]\n",
      "Arena.playGames (2): 100%|██████████| 25/25 [02:19<00:00,  5.59s/it]\n"
     ]
    },
    {
     "name": "stdout",
     "output_type": "stream",
     "text": [
      "{'random': (42, 7, 1), 'mcts': (25, 23, 2)}\n",
      "Iter 13\n"
     ]
    },
    {
     "name": "stderr",
     "output_type": "stream",
     "text": [
      "Self Play: 100%|██████████| 5/5 [00:39<00:00,  7.97s/it]\n"
     ]
    },
    {
     "name": "stdout",
     "output_type": "stream",
     "text": [
      "Epoch 0\n"
     ]
    },
    {
     "name": "stderr",
     "output_type": "stream",
     "text": [
      "Training Net: 100%|██████████| 32/32 [00:01<00:00, 27.50it/s, Loss_v=3.89e-01]\n"
     ]
    },
    {
     "name": "stdout",
     "output_type": "stream",
     "text": [
      "Epoch 1\n"
     ]
    },
    {
     "name": "stderr",
     "output_type": "stream",
     "text": [
      "Training Net: 100%|██████████| 32/32 [00:01<00:00, 26.43it/s, Loss_v=3.74e-01]\n"
     ]
    },
    {
     "name": "stdout",
     "output_type": "stream",
     "text": [
      "Epoch 2\n"
     ]
    },
    {
     "name": "stderr",
     "output_type": "stream",
     "text": [
      "Training Net: 100%|██████████| 32/32 [00:01<00:00, 27.44it/s, Loss_v=3.83e-01]\n"
     ]
    },
    {
     "name": "stdout",
     "output_type": "stream",
     "text": [
      "Epoch 3\n"
     ]
    },
    {
     "name": "stderr",
     "output_type": "stream",
     "text": [
      "Training Net: 100%|██████████| 32/32 [00:01<00:00, 27.11it/s, Loss_v=3.65e-01]\n"
     ]
    },
    {
     "name": "stdout",
     "output_type": "stream",
     "text": [
      "Epoch 4\n"
     ]
    },
    {
     "name": "stderr",
     "output_type": "stream",
     "text": [
      "Training Net: 100%|██████████| 32/32 [00:01<00:00, 25.89it/s, Loss_v=3.52e-01]\n"
     ]
    },
    {
     "name": "stdout",
     "output_type": "stream",
     "text": [
      "Epoch 5\n"
     ]
    },
    {
     "name": "stderr",
     "output_type": "stream",
     "text": [
      "Training Net: 100%|██████████| 32/32 [00:01<00:00, 27.25it/s, Loss_v=3.56e-01]\n"
     ]
    },
    {
     "name": "stdout",
     "output_type": "stream",
     "text": [
      "Epoch 6\n"
     ]
    },
    {
     "name": "stderr",
     "output_type": "stream",
     "text": [
      "Training Net: 100%|██████████| 32/32 [00:01<00:00, 27.04it/s, Loss_v=3.54e-01]\n"
     ]
    },
    {
     "name": "stdout",
     "output_type": "stream",
     "text": [
      "Epoch 7\n"
     ]
    },
    {
     "name": "stderr",
     "output_type": "stream",
     "text": [
      "Training Net: 100%|██████████| 32/32 [00:01<00:00, 26.63it/s, Loss_v=3.54e-01]\n"
     ]
    },
    {
     "name": "stdout",
     "output_type": "stream",
     "text": [
      "Epoch 8\n"
     ]
    },
    {
     "name": "stderr",
     "output_type": "stream",
     "text": [
      "Training Net: 100%|██████████| 32/32 [00:01<00:00, 27.14it/s, Loss_v=3.50e-01]\n"
     ]
    },
    {
     "name": "stdout",
     "output_type": "stream",
     "text": [
      "Epoch 9\n"
     ]
    },
    {
     "name": "stderr",
     "output_type": "stream",
     "text": [
      "Training Net: 100%|██████████| 32/32 [00:01<00:00, 27.10it/s, Loss_v=3.54e-01]\n"
     ]
    },
    {
     "name": "stdout",
     "output_type": "stream",
     "text": [
      "Iter 14\n"
     ]
    },
    {
     "name": "stderr",
     "output_type": "stream",
     "text": [
      "Self Play: 100%|██████████| 5/5 [00:45<00:00,  9.02s/it]\n"
     ]
    },
    {
     "name": "stdout",
     "output_type": "stream",
     "text": [
      "Epoch 0\n"
     ]
    },
    {
     "name": "stderr",
     "output_type": "stream",
     "text": [
      "Training Net: 100%|██████████| 32/32 [00:01<00:00, 27.03it/s, Loss_v=4.47e-01]\n"
     ]
    },
    {
     "name": "stdout",
     "output_type": "stream",
     "text": [
      "Epoch 1\n"
     ]
    },
    {
     "name": "stderr",
     "output_type": "stream",
     "text": [
      "Training Net: 100%|██████████| 32/32 [00:01<00:00, 26.82it/s, Loss_v=4.24e-01]\n"
     ]
    },
    {
     "name": "stdout",
     "output_type": "stream",
     "text": [
      "Epoch 2\n"
     ]
    },
    {
     "name": "stderr",
     "output_type": "stream",
     "text": [
      "Training Net: 100%|██████████| 32/32 [00:01<00:00, 27.38it/s, Loss_v=3.99e-01]\n"
     ]
    },
    {
     "name": "stdout",
     "output_type": "stream",
     "text": [
      "Epoch 3\n"
     ]
    },
    {
     "name": "stderr",
     "output_type": "stream",
     "text": [
      "Training Net: 100%|██████████| 32/32 [00:01<00:00, 27.22it/s, Loss_v=4.18e-01]\n"
     ]
    },
    {
     "name": "stdout",
     "output_type": "stream",
     "text": [
      "Epoch 4\n"
     ]
    },
    {
     "name": "stderr",
     "output_type": "stream",
     "text": [
      "Training Net: 100%|██████████| 32/32 [00:01<00:00, 26.55it/s, Loss_v=4.15e-01]\n"
     ]
    },
    {
     "name": "stdout",
     "output_type": "stream",
     "text": [
      "Epoch 5\n"
     ]
    },
    {
     "name": "stderr",
     "output_type": "stream",
     "text": [
      "Training Net: 100%|██████████| 32/32 [00:01<00:00, 27.49it/s, Loss_v=4.09e-01]\n"
     ]
    },
    {
     "name": "stdout",
     "output_type": "stream",
     "text": [
      "Epoch 6\n"
     ]
    },
    {
     "name": "stderr",
     "output_type": "stream",
     "text": [
      "Training Net: 100%|██████████| 32/32 [00:01<00:00, 27.36it/s, Loss_v=3.94e-01]\n"
     ]
    },
    {
     "name": "stdout",
     "output_type": "stream",
     "text": [
      "Epoch 7\n"
     ]
    },
    {
     "name": "stderr",
     "output_type": "stream",
     "text": [
      "Training Net: 100%|██████████| 32/32 [00:01<00:00, 27.24it/s, Loss_v=4.01e-01]\n"
     ]
    },
    {
     "name": "stdout",
     "output_type": "stream",
     "text": [
      "Epoch 8\n"
     ]
    },
    {
     "name": "stderr",
     "output_type": "stream",
     "text": [
      "Training Net: 100%|██████████| 32/32 [00:01<00:00, 27.67it/s, Loss_v=3.84e-01]\n"
     ]
    },
    {
     "name": "stdout",
     "output_type": "stream",
     "text": [
      "Epoch 9\n"
     ]
    },
    {
     "name": "stderr",
     "output_type": "stream",
     "text": [
      "Training Net: 100%|██████████| 32/32 [00:01<00:00, 27.19it/s, Loss_v=4.00e-01]\n"
     ]
    },
    {
     "name": "stdout",
     "output_type": "stream",
     "text": [
      "Iter 15\n"
     ]
    },
    {
     "name": "stderr",
     "output_type": "stream",
     "text": [
      "Self Play: 100%|██████████| 5/5 [00:46<00:00,  9.31s/it]\n"
     ]
    },
    {
     "name": "stdout",
     "output_type": "stream",
     "text": [
      "Epoch 0\n"
     ]
    },
    {
     "name": "stderr",
     "output_type": "stream",
     "text": [
      "Training Net: 100%|██████████| 32/32 [00:01<00:00, 26.29it/s, Loss_v=4.07e-01]\n"
     ]
    },
    {
     "name": "stdout",
     "output_type": "stream",
     "text": [
      "Epoch 1\n"
     ]
    },
    {
     "name": "stderr",
     "output_type": "stream",
     "text": [
      "Training Net: 100%|██████████| 32/32 [00:01<00:00, 27.65it/s, Loss_v=3.67e-01]\n"
     ]
    },
    {
     "name": "stdout",
     "output_type": "stream",
     "text": [
      "Epoch 2\n"
     ]
    },
    {
     "name": "stderr",
     "output_type": "stream",
     "text": [
      "Training Net: 100%|██████████| 32/32 [00:01<00:00, 27.55it/s, Loss_v=3.72e-01]\n"
     ]
    },
    {
     "name": "stdout",
     "output_type": "stream",
     "text": [
      "Epoch 3\n"
     ]
    },
    {
     "name": "stderr",
     "output_type": "stream",
     "text": [
      "Training Net: 100%|██████████| 32/32 [00:01<00:00, 27.07it/s, Loss_v=3.63e-01]\n"
     ]
    },
    {
     "name": "stdout",
     "output_type": "stream",
     "text": [
      "Epoch 4\n"
     ]
    },
    {
     "name": "stderr",
     "output_type": "stream",
     "text": [
      "Training Net: 100%|██████████| 32/32 [00:01<00:00, 27.14it/s, Loss_v=3.53e-01]\n"
     ]
    },
    {
     "name": "stdout",
     "output_type": "stream",
     "text": [
      "Epoch 5\n"
     ]
    },
    {
     "name": "stderr",
     "output_type": "stream",
     "text": [
      "Training Net: 100%|██████████| 32/32 [00:01<00:00, 27.48it/s, Loss_v=3.43e-01]\n"
     ]
    },
    {
     "name": "stdout",
     "output_type": "stream",
     "text": [
      "Epoch 6\n"
     ]
    },
    {
     "name": "stderr",
     "output_type": "stream",
     "text": [
      "Training Net: 100%|██████████| 32/32 [00:01<00:00, 25.85it/s, Loss_v=3.43e-01]\n"
     ]
    },
    {
     "name": "stdout",
     "output_type": "stream",
     "text": [
      "Epoch 7\n"
     ]
    },
    {
     "name": "stderr",
     "output_type": "stream",
     "text": [
      "Training Net: 100%|██████████| 32/32 [00:01<00:00, 27.48it/s, Loss_v=3.40e-01]\n"
     ]
    },
    {
     "name": "stdout",
     "output_type": "stream",
     "text": [
      "Epoch 8\n"
     ]
    },
    {
     "name": "stderr",
     "output_type": "stream",
     "text": [
      "Training Net: 100%|██████████| 32/32 [00:01<00:00, 27.24it/s, Loss_v=3.37e-01]\n"
     ]
    },
    {
     "name": "stdout",
     "output_type": "stream",
     "text": [
      "Epoch 9\n"
     ]
    },
    {
     "name": "stderr",
     "output_type": "stream",
     "text": [
      "Training Net: 100%|██████████| 32/32 [00:01<00:00, 26.94it/s, Loss_v=3.38e-01]\n"
     ]
    },
    {
     "name": "stdout",
     "output_type": "stream",
     "text": [
      "Iter 16\n"
     ]
    },
    {
     "name": "stderr",
     "output_type": "stream",
     "text": [
      "Self Play: 100%|██████████| 5/5 [00:46<00:00,  9.23s/it]\n"
     ]
    },
    {
     "name": "stdout",
     "output_type": "stream",
     "text": [
      "Epoch 0\n"
     ]
    },
    {
     "name": "stderr",
     "output_type": "stream",
     "text": [
      "Training Net: 100%|██████████| 32/32 [00:01<00:00, 27.06it/s, Loss_v=3.32e-01]\n"
     ]
    },
    {
     "name": "stdout",
     "output_type": "stream",
     "text": [
      "Epoch 1\n"
     ]
    },
    {
     "name": "stderr",
     "output_type": "stream",
     "text": [
      "Training Net: 100%|██████████| 32/32 [00:01<00:00, 27.78it/s, Loss_v=3.03e-01]\n"
     ]
    },
    {
     "name": "stdout",
     "output_type": "stream",
     "text": [
      "Epoch 2\n"
     ]
    },
    {
     "name": "stderr",
     "output_type": "stream",
     "text": [
      "Training Net: 100%|██████████| 32/32 [00:01<00:00, 27.03it/s, Loss_v=2.93e-01]\n"
     ]
    },
    {
     "name": "stdout",
     "output_type": "stream",
     "text": [
      "Epoch 3\n"
     ]
    },
    {
     "name": "stderr",
     "output_type": "stream",
     "text": [
      "Training Net: 100%|██████████| 32/32 [00:01<00:00, 27.60it/s, Loss_v=2.91e-01]\n"
     ]
    },
    {
     "name": "stdout",
     "output_type": "stream",
     "text": [
      "Epoch 4\n"
     ]
    },
    {
     "name": "stderr",
     "output_type": "stream",
     "text": [
      "Training Net: 100%|██████████| 32/32 [00:01<00:00, 26.80it/s, Loss_v=2.80e-01]\n"
     ]
    },
    {
     "name": "stdout",
     "output_type": "stream",
     "text": [
      "Epoch 5\n"
     ]
    },
    {
     "name": "stderr",
     "output_type": "stream",
     "text": [
      "Training Net: 100%|██████████| 32/32 [00:01<00:00, 27.45it/s, Loss_v=2.83e-01]\n"
     ]
    },
    {
     "name": "stdout",
     "output_type": "stream",
     "text": [
      "Epoch 6\n"
     ]
    },
    {
     "name": "stderr",
     "output_type": "stream",
     "text": [
      "Training Net: 100%|██████████| 32/32 [00:01<00:00, 27.44it/s, Loss_v=2.69e-01]\n"
     ]
    },
    {
     "name": "stdout",
     "output_type": "stream",
     "text": [
      "Epoch 7\n"
     ]
    },
    {
     "name": "stderr",
     "output_type": "stream",
     "text": [
      "Training Net: 100%|██████████| 32/32 [00:01<00:00, 27.36it/s, Loss_v=2.87e-01]\n"
     ]
    },
    {
     "name": "stdout",
     "output_type": "stream",
     "text": [
      "Epoch 8\n"
     ]
    },
    {
     "name": "stderr",
     "output_type": "stream",
     "text": [
      "Training Net: 100%|██████████| 32/32 [00:01<00:00, 27.55it/s, Loss_v=2.70e-01]\n"
     ]
    },
    {
     "name": "stdout",
     "output_type": "stream",
     "text": [
      "Epoch 9\n"
     ]
    },
    {
     "name": "stderr",
     "output_type": "stream",
     "text": [
      "Training Net: 100%|██████████| 32/32 [00:01<00:00, 26.60it/s, Loss_v=2.70e-01]\n"
     ]
    },
    {
     "name": "stdout",
     "output_type": "stream",
     "text": [
      "Testing...\n"
     ]
    },
    {
     "name": "stderr",
     "output_type": "stream",
     "text": [
      "Arena.playGames (1): 100%|██████████| 25/25 [01:48<00:00,  4.33s/it]\n",
      "Arena.playGames (2): 100%|██████████| 25/25 [01:41<00:00,  4.05s/it]\n",
      "Arena.playGames (1): 100%|██████████| 25/25 [02:22<00:00,  5.70s/it]\n",
      "Arena.playGames (2): 100%|██████████| 25/25 [02:21<00:00,  5.66s/it]\n"
     ]
    },
    {
     "name": "stdout",
     "output_type": "stream",
     "text": [
      "{'random': (43, 5, 2), 'mcts': (23, 26, 1)}\n",
      "Iter 17\n"
     ]
    },
    {
     "name": "stderr",
     "output_type": "stream",
     "text": [
      "Self Play: 100%|██████████| 5/5 [00:41<00:00,  8.33s/it]\n"
     ]
    },
    {
     "name": "stdout",
     "output_type": "stream",
     "text": [
      "Epoch 0\n"
     ]
    },
    {
     "name": "stderr",
     "output_type": "stream",
     "text": [
      "Training Net: 100%|██████████| 32/32 [00:01<00:00, 27.69it/s, Loss_v=2.73e-01]\n"
     ]
    },
    {
     "name": "stdout",
     "output_type": "stream",
     "text": [
      "Epoch 1\n"
     ]
    },
    {
     "name": "stderr",
     "output_type": "stream",
     "text": [
      "Training Net: 100%|██████████| 32/32 [00:01<00:00, 27.27it/s, Loss_v=2.72e-01]\n"
     ]
    },
    {
     "name": "stdout",
     "output_type": "stream",
     "text": [
      "Epoch 2\n"
     ]
    },
    {
     "name": "stderr",
     "output_type": "stream",
     "text": [
      "Training Net: 100%|██████████| 32/32 [00:01<00:00, 26.76it/s, Loss_v=2.67e-01]\n"
     ]
    },
    {
     "name": "stdout",
     "output_type": "stream",
     "text": [
      "Epoch 3\n"
     ]
    },
    {
     "name": "stderr",
     "output_type": "stream",
     "text": [
      "Training Net: 100%|██████████| 32/32 [00:01<00:00, 27.35it/s, Loss_v=2.46e-01]\n"
     ]
    },
    {
     "name": "stdout",
     "output_type": "stream",
     "text": [
      "Epoch 4\n"
     ]
    },
    {
     "name": "stderr",
     "output_type": "stream",
     "text": [
      "Training Net: 100%|██████████| 32/32 [00:01<00:00, 26.89it/s, Loss_v=2.48e-01]\n"
     ]
    },
    {
     "name": "stdout",
     "output_type": "stream",
     "text": [
      "Epoch 5\n"
     ]
    },
    {
     "name": "stderr",
     "output_type": "stream",
     "text": [
      "Training Net: 100%|██████████| 32/32 [00:01<00:00, 27.09it/s, Loss_v=2.57e-01]\n"
     ]
    },
    {
     "name": "stdout",
     "output_type": "stream",
     "text": [
      "Epoch 6\n"
     ]
    },
    {
     "name": "stderr",
     "output_type": "stream",
     "text": [
      "Training Net: 100%|██████████| 32/32 [00:01<00:00, 27.80it/s, Loss_v=2.71e-01]\n"
     ]
    },
    {
     "name": "stdout",
     "output_type": "stream",
     "text": [
      "Epoch 7\n"
     ]
    },
    {
     "name": "stderr",
     "output_type": "stream",
     "text": [
      "Training Net: 100%|██████████| 32/32 [00:01<00:00, 27.43it/s, Loss_v=2.48e-01]\n"
     ]
    },
    {
     "name": "stdout",
     "output_type": "stream",
     "text": [
      "Epoch 8\n"
     ]
    },
    {
     "name": "stderr",
     "output_type": "stream",
     "text": [
      "Training Net: 100%|██████████| 32/32 [00:01<00:00, 27.14it/s, Loss_v=2.48e-01]\n"
     ]
    },
    {
     "name": "stdout",
     "output_type": "stream",
     "text": [
      "Epoch 9\n"
     ]
    },
    {
     "name": "stderr",
     "output_type": "stream",
     "text": [
      "Training Net: 100%|██████████| 32/32 [00:01<00:00, 27.32it/s, Loss_v=2.51e-01]\n"
     ]
    },
    {
     "name": "stdout",
     "output_type": "stream",
     "text": [
      "Iter 18\n"
     ]
    },
    {
     "name": "stderr",
     "output_type": "stream",
     "text": [
      "Self Play: 100%|██████████| 5/5 [00:43<00:00,  8.79s/it]\n"
     ]
    },
    {
     "name": "stdout",
     "output_type": "stream",
     "text": [
      "Epoch 0\n"
     ]
    },
    {
     "name": "stderr",
     "output_type": "stream",
     "text": [
      "Training Net: 100%|██████████| 32/32 [00:01<00:00, 27.55it/s, Loss_v=3.68e-01]\n"
     ]
    },
    {
     "name": "stdout",
     "output_type": "stream",
     "text": [
      "Epoch 1\n"
     ]
    },
    {
     "name": "stderr",
     "output_type": "stream",
     "text": [
      "Training Net: 100%|██████████| 32/32 [00:01<00:00, 28.20it/s, Loss_v=3.65e-01]\n"
     ]
    },
    {
     "name": "stdout",
     "output_type": "stream",
     "text": [
      "Epoch 2\n"
     ]
    },
    {
     "name": "stderr",
     "output_type": "stream",
     "text": [
      "Training Net: 100%|██████████| 32/32 [00:01<00:00, 27.30it/s, Loss_v=3.45e-01]\n"
     ]
    },
    {
     "name": "stdout",
     "output_type": "stream",
     "text": [
      "Epoch 3\n"
     ]
    },
    {
     "name": "stderr",
     "output_type": "stream",
     "text": [
      "Training Net: 100%|██████████| 32/32 [00:01<00:00, 27.75it/s, Loss_v=3.34e-01]\n"
     ]
    },
    {
     "name": "stdout",
     "output_type": "stream",
     "text": [
      "Epoch 4\n"
     ]
    },
    {
     "name": "stderr",
     "output_type": "stream",
     "text": [
      "Training Net: 100%|██████████| 32/32 [00:01<00:00, 26.55it/s, Loss_v=3.17e-01]\n"
     ]
    },
    {
     "name": "stdout",
     "output_type": "stream",
     "text": [
      "Epoch 5\n"
     ]
    },
    {
     "name": "stderr",
     "output_type": "stream",
     "text": [
      "Training Net: 100%|██████████| 32/32 [00:01<00:00, 28.04it/s, Loss_v=3.26e-01]\n"
     ]
    },
    {
     "name": "stdout",
     "output_type": "stream",
     "text": [
      "Epoch 6\n"
     ]
    },
    {
     "name": "stderr",
     "output_type": "stream",
     "text": [
      "Training Net: 100%|██████████| 32/32 [00:01<00:00, 27.59it/s, Loss_v=3.28e-01]\n"
     ]
    },
    {
     "name": "stdout",
     "output_type": "stream",
     "text": [
      "Epoch 7\n"
     ]
    },
    {
     "name": "stderr",
     "output_type": "stream",
     "text": [
      "Training Net: 100%|██████████| 32/32 [00:01<00:00, 28.09it/s, Loss_v=3.18e-01]\n"
     ]
    },
    {
     "name": "stdout",
     "output_type": "stream",
     "text": [
      "Epoch 8\n"
     ]
    },
    {
     "name": "stderr",
     "output_type": "stream",
     "text": [
      "Training Net: 100%|██████████| 32/32 [00:01<00:00, 27.44it/s, Loss_v=3.22e-01]\n"
     ]
    },
    {
     "name": "stdout",
     "output_type": "stream",
     "text": [
      "Epoch 9\n"
     ]
    },
    {
     "name": "stderr",
     "output_type": "stream",
     "text": [
      "Training Net: 100%|██████████| 32/32 [00:01<00:00, 27.11it/s, Loss_v=3.07e-01]\n"
     ]
    },
    {
     "name": "stdout",
     "output_type": "stream",
     "text": [
      "Iter 19\n"
     ]
    },
    {
     "name": "stderr",
     "output_type": "stream",
     "text": [
      "Self Play: 100%|██████████| 5/5 [00:44<00:00,  8.92s/it]\n"
     ]
    },
    {
     "name": "stdout",
     "output_type": "stream",
     "text": [
      "Epoch 0\n"
     ]
    },
    {
     "name": "stderr",
     "output_type": "stream",
     "text": [
      "Training Net: 100%|██████████| 32/32 [00:01<00:00, 27.15it/s, Loss_v=3.33e-01]\n"
     ]
    },
    {
     "name": "stdout",
     "output_type": "stream",
     "text": [
      "Epoch 1\n"
     ]
    },
    {
     "name": "stderr",
     "output_type": "stream",
     "text": [
      "Training Net: 100%|██████████| 32/32 [00:01<00:00, 27.14it/s, Loss_v=3.23e-01]\n"
     ]
    },
    {
     "name": "stdout",
     "output_type": "stream",
     "text": [
      "Epoch 2\n"
     ]
    },
    {
     "name": "stderr",
     "output_type": "stream",
     "text": [
      "Training Net: 100%|██████████| 32/32 [00:01<00:00, 25.29it/s, Loss_v=3.08e-01]\n"
     ]
    },
    {
     "name": "stdout",
     "output_type": "stream",
     "text": [
      "Epoch 3\n"
     ]
    },
    {
     "name": "stderr",
     "output_type": "stream",
     "text": [
      "Training Net: 100%|██████████| 32/32 [00:01<00:00, 27.60it/s, Loss_v=3.02e-01]\n"
     ]
    },
    {
     "name": "stdout",
     "output_type": "stream",
     "text": [
      "Epoch 4\n"
     ]
    },
    {
     "name": "stderr",
     "output_type": "stream",
     "text": [
      "Training Net: 100%|██████████| 32/32 [00:01<00:00, 26.72it/s, Loss_v=2.93e-01]\n"
     ]
    },
    {
     "name": "stdout",
     "output_type": "stream",
     "text": [
      "Epoch 5\n"
     ]
    },
    {
     "name": "stderr",
     "output_type": "stream",
     "text": [
      "Training Net: 100%|██████████| 32/32 [00:01<00:00, 27.49it/s, Loss_v=3.06e-01]\n"
     ]
    },
    {
     "name": "stdout",
     "output_type": "stream",
     "text": [
      "Epoch 6\n"
     ]
    },
    {
     "name": "stderr",
     "output_type": "stream",
     "text": [
      "Training Net: 100%|██████████| 32/32 [00:01<00:00, 27.17it/s, Loss_v=2.88e-01]\n"
     ]
    },
    {
     "name": "stdout",
     "output_type": "stream",
     "text": [
      "Epoch 7\n"
     ]
    },
    {
     "name": "stderr",
     "output_type": "stream",
     "text": [
      "Training Net: 100%|██████████| 32/32 [00:01<00:00, 27.06it/s, Loss_v=2.82e-01]\n"
     ]
    },
    {
     "name": "stdout",
     "output_type": "stream",
     "text": [
      "Epoch 8\n"
     ]
    },
    {
     "name": "stderr",
     "output_type": "stream",
     "text": [
      "Training Net: 100%|██████████| 32/32 [00:01<00:00, 26.95it/s, Loss_v=2.82e-01]\n"
     ]
    },
    {
     "name": "stdout",
     "output_type": "stream",
     "text": [
      "Epoch 9\n"
     ]
    },
    {
     "name": "stderr",
     "output_type": "stream",
     "text": [
      "Training Net: 100%|██████████| 32/32 [00:01<00:00, 27.57it/s, Loss_v=2.66e-01]\n"
     ]
    },
    {
     "name": "stdout",
     "output_type": "stream",
     "text": [
      "Iter 20\n"
     ]
    },
    {
     "name": "stderr",
     "output_type": "stream",
     "text": [
      "Self Play: 100%|██████████| 5/5 [00:44<00:00,  8.95s/it]\n"
     ]
    },
    {
     "name": "stdout",
     "output_type": "stream",
     "text": [
      "Epoch 0\n"
     ]
    },
    {
     "name": "stderr",
     "output_type": "stream",
     "text": [
      "Training Net: 100%|██████████| 32/32 [00:01<00:00, 27.12it/s, Loss_v=3.54e-01]\n"
     ]
    },
    {
     "name": "stdout",
     "output_type": "stream",
     "text": [
      "Epoch 1\n"
     ]
    },
    {
     "name": "stderr",
     "output_type": "stream",
     "text": [
      "Training Net: 100%|██████████| 32/32 [00:01<00:00, 27.23it/s, Loss_v=3.33e-01]\n"
     ]
    },
    {
     "name": "stdout",
     "output_type": "stream",
     "text": [
      "Epoch 2\n"
     ]
    },
    {
     "name": "stderr",
     "output_type": "stream",
     "text": [
      "Training Net: 100%|██████████| 32/32 [00:01<00:00, 24.98it/s, Loss_v=3.12e-01]\n"
     ]
    },
    {
     "name": "stdout",
     "output_type": "stream",
     "text": [
      "Epoch 3\n"
     ]
    },
    {
     "name": "stderr",
     "output_type": "stream",
     "text": [
      "Training Net: 100%|██████████| 32/32 [00:01<00:00, 26.99it/s, Loss_v=3.00e-01]\n"
     ]
    },
    {
     "name": "stdout",
     "output_type": "stream",
     "text": [
      "Epoch 4\n"
     ]
    },
    {
     "name": "stderr",
     "output_type": "stream",
     "text": [
      "Training Net: 100%|██████████| 32/32 [00:01<00:00, 27.55it/s, Loss_v=3.01e-01]\n"
     ]
    },
    {
     "name": "stdout",
     "output_type": "stream",
     "text": [
      "Epoch 5\n"
     ]
    },
    {
     "name": "stderr",
     "output_type": "stream",
     "text": [
      "Training Net: 100%|██████████| 32/32 [00:01<00:00, 27.48it/s, Loss_v=3.03e-01]\n"
     ]
    },
    {
     "name": "stdout",
     "output_type": "stream",
     "text": [
      "Epoch 6\n"
     ]
    },
    {
     "name": "stderr",
     "output_type": "stream",
     "text": [
      "Training Net: 100%|██████████| 32/32 [00:01<00:00, 26.19it/s, Loss_v=2.94e-01]\n"
     ]
    },
    {
     "name": "stdout",
     "output_type": "stream",
     "text": [
      "Epoch 7\n"
     ]
    },
    {
     "name": "stderr",
     "output_type": "stream",
     "text": [
      "Training Net: 100%|██████████| 32/32 [00:01<00:00, 27.11it/s, Loss_v=3.01e-01]\n"
     ]
    },
    {
     "name": "stdout",
     "output_type": "stream",
     "text": [
      "Epoch 8\n"
     ]
    },
    {
     "name": "stderr",
     "output_type": "stream",
     "text": [
      "Training Net: 100%|██████████| 32/32 [00:01<00:00, 27.60it/s, Loss_v=2.84e-01]\n"
     ]
    },
    {
     "name": "stdout",
     "output_type": "stream",
     "text": [
      "Epoch 9\n"
     ]
    },
    {
     "name": "stderr",
     "output_type": "stream",
     "text": [
      "Training Net: 100%|██████████| 32/32 [00:01<00:00, 27.34it/s, Loss_v=2.97e-01]\n"
     ]
    },
    {
     "name": "stdout",
     "output_type": "stream",
     "text": [
      "Testing...\n"
     ]
    },
    {
     "name": "stderr",
     "output_type": "stream",
     "text": [
      "Arena.playGames (1): 100%|██████████| 25/25 [01:54<00:00,  4.56s/it]\n",
      "Arena.playGames (2): 100%|██████████| 25/25 [01:48<00:00,  4.33s/it]\n",
      "Arena.playGames (1): 100%|██████████| 25/25 [02:21<00:00,  5.64s/it]\n",
      "Arena.playGames (2): 100%|██████████| 25/25 [02:25<00:00,  5.82s/it]"
     ]
    },
    {
     "name": "stdout",
     "output_type": "stream",
     "text": [
      "{'random': (39, 7, 4), 'mcts': (16, 33, 1)}\n"
     ]
    },
    {
     "name": "stderr",
     "output_type": "stream",
     "text": [
      "\n"
     ]
    }
   ],
   "source": [
    "hybrid_qnet_coach = Coach(game, hybrid_qnet, numMCTSSims=25, max_history_len=8192, compare_games=50)\n",
    "hybrid_qnet_coach.learn()"
   ]
  },
  {
   "cell_type": "code",
   "execution_count": 6,
   "metadata": {},
   "outputs": [
    {
     "data": {
      "image/png": "[encoded data removed]",
      "text/plain": [
       "<Figure size 800x300 with 2 Axes>"
      ]
     },
     "metadata": {},
     "output_type": "display_data"
    }
   ],
   "source": [
    "plot_performance_history(hybrid_qnet_coach.performanceHistory, \"AlphaZero-HybridQNet\")"
   ]
  }
 ],
 "metadata": {
  "kernelspec": {
   "display_name": "Python 3",
   "language": "python",
   "name": "python3"
  },
  "language_info": {
   "codemirror_mode": {
    "name": "ipython",
    "version": 3
   },
   "file_extension": ".py",
   "mimetype": "text/x-python",
   "name": "python",
   "nbconvert_exporter": "python",
   "pygments_lexer": "ipython3",
   "version": "3.10.12"
  }
 },
 "nbformat": 4,
 "nbformat_minor": 2
}
