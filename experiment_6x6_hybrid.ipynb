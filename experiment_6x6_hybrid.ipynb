{
 "cells": [
  {
   "cell_type": "code",
   "execution_count": 1,
   "metadata": {},
   "outputs": [],
   "source": [
    "import random\n",
    "import copy\n",
    "import numpy as np\n",
    "import pyspiel\n",
    "from open_spiel.python.algorithms import mcts, random_agent, minimax\n",
    "from othello_game import OthelloGame, OthelloState\n",
    "from MCTS import MCTS\n",
    "from Arena import Arena\n",
    "from Coach import Coach\n",
    "from BasicModel import BasicModel\n",
    "from NNet import NNetWrapper\n",
    "from QNet import QNetWrapper\n",
    "from HybridQNet import HybridQNetWrapper\n",
    "import matplotlib.pyplot as plt"
   ]
  },
  {
   "cell_type": "code",
   "execution_count": 2,
   "metadata": {},
   "outputs": [],
   "source": [
    "def plot_performance_history(history, name):\n",
    "    x = [i for i, _ in history]\n",
    "    random_wins = [results[\"random\"][0] for _, results in history]\n",
    "    random_draws = [results[\"random\"][2] for _, results in history]\n",
    "    random_losses = [results[\"random\"][1] for _, results in history]\n",
    "    mcts_wins = [results[\"mcts\"][0] for _, results in history]\n",
    "    mcts_draws = [results[\"mcts\"][2] for _, results in history]\n",
    "    mcts_losses = [results[\"mcts\"][1] for _, results in history]\n",
    "\n",
    "    fig, axs = plt.subplots(1, 2, figsize=(8, 3))\n",
    "\n",
    "    axs[0].bar(x, random_wins, color='g', width=2, label='random wins')\n",
    "    axs[0].bar(x, random_draws, color='b', width=2, bottom=random_wins, label='random draws')\n",
    "    axs[0].bar(x, random_losses, color='r', width=2, bottom=np.array(random_wins)+np.array(random_draws), label='random losses')\n",
    "\n",
    "    axs[0].set_xticks(x)\n",
    "\n",
    "    axs[0].set_xlabel('Iteration')\n",
    "    axs[0].set_ylabel('Number of games')\n",
    "    axs[0].set_title(f\"{name} vs Random Agent\")\n",
    "\n",
    "    axs[1].bar(x, mcts_wins, color='g', width=2, label='mcts wins')\n",
    "    axs[1].bar(x, mcts_draws, color='b', width=2, bottom=mcts_wins, label='mcts draws')\n",
    "    axs[1].bar(x, mcts_losses, color='r', width=2, bottom=np.array(mcts_wins)+np.array(mcts_draws), label='mcts losses')\n",
    "\n",
    "    axs[1].set_xticks(x)\n",
    "\n",
    "    axs[1].set_xlabel('Iteration')\n",
    "    axs[1].set_ylabel('Number of games')\n",
    "    axs[1].set_title(f\"{name} vs MCTS Agent\")"
   ]
  },
  {
   "cell_type": "code",
   "execution_count": 3,
   "metadata": {},
   "outputs": [
    {
     "name": "stdout",
     "output_type": "stream",
     "text": [
      "Using CPU with lightning.qubit\n",
      "hybrid_qnet params: 799\n"
     ]
    }
   ],
   "source": [
    "game = pyspiel.load_game(\"othello_nxn\", {\"n\": 6})\n",
    "hybrid_qnet = HybridQNetWrapper(game, lr=0.0025, use_gpu=False)\n",
    "print(f\"hybrid_qnet params: {hybrid_qnet.total_params}\")"
   ]
  },
  {
   "cell_type": "code",
   "execution_count": 4,
   "metadata": {},
   "outputs": [
    {
     "name": "stdout",
     "output_type": "stream",
     "text": [
      "Iter 0\n",
      "Testing...\n"
     ]
    },
    {
     "name": "stderr",
     "output_type": "stream",
     "text": [
      "Arena.playGames (1): 100%|██████████| 25/25 [01:48<00:00,  4.33s/it]\n",
      "Arena.playGames (2): 100%|██████████| 25/25 [01:34<00:00,  3.77s/it]\n",
      "Arena.playGames (1): 100%|██████████| 25/25 [02:22<00:00,  5.69s/it]\n",
      "Arena.playGames (2): 100%|██████████| 25/25 [02:26<00:00,  5.86s/it]\n"
     ]
    },
    {
     "name": "stdout",
     "output_type": "stream",
     "text": [
      "{'random': (25, 21, 4), 'mcts': (4, 44, 2)}\n",
      "Iter 1\n"
     ]
    },
    {
     "name": "stderr",
     "output_type": "stream",
     "text": [
      "Self Play: 100%|██████████| 5/5 [00:38<00:00,  7.62s/it]\n"
     ]
    },
    {
     "name": "stdout",
     "output_type": "stream",
     "text": [
      "Epoch 0\n"
     ]
    },
    {
     "name": "stderr",
     "output_type": "stream",
     "text": [
      "Training Net: 100%|██████████| 3/3 [00:00<00:00, 25.04it/s, Loss_v=8.80e-01]\n"
     ]
    },
    {
     "name": "stdout",
     "output_type": "stream",
     "text": [
      "Epoch 1\n"
     ]
    },
    {
     "name": "stderr",
     "output_type": "stream",
     "text": [
      "Training Net: 100%|██████████| 3/3 [00:00<00:00, 26.70it/s, Loss_v=8.55e-01]\n"
     ]
    },
    {
     "name": "stdout",
     "output_type": "stream",
     "text": [
      "Epoch 2\n"
     ]
    },
    {
     "name": "stderr",
     "output_type": "stream",
     "text": [
      "Training Net: 100%|██████████| 3/3 [00:00<00:00, 25.30it/s, Loss_v=8.30e-01]\n"
     ]
    },
    {
     "name": "stdout",
     "output_type": "stream",
     "text": [
      "Epoch 3\n"
     ]
    },
    {
     "name": "stderr",
     "output_type": "stream",
     "text": [
      "Training Net: 100%|██████████| 3/3 [00:00<00:00, 25.71it/s, Loss_v=8.50e-01]\n"
     ]
    },
    {
     "name": "stdout",
     "output_type": "stream",
     "text": [
      "Epoch 4\n"
     ]
    },
    {
     "name": "stderr",
     "output_type": "stream",
     "text": [
      "Training Net: 100%|██████████| 3/3 [00:00<00:00, 27.13it/s, Loss_v=8.35e-01]\n"
     ]
    },
    {
     "name": "stdout",
     "output_type": "stream",
     "text": [
      "Epoch 5\n"
     ]
    },
    {
     "name": "stderr",
     "output_type": "stream",
     "text": [
      "Training Net: 100%|██████████| 3/3 [00:00<00:00, 24.70it/s, Loss_v=7.99e-01]\n"
     ]
    },
    {
     "name": "stdout",
     "output_type": "stream",
     "text": [
      "Epoch 6\n"
     ]
    },
    {
     "name": "stderr",
     "output_type": "stream",
     "text": [
      "Training Net: 100%|██████████| 3/3 [00:00<00:00, 26.52it/s, Loss_v=8.18e-01]\n"
     ]
    },
    {
     "name": "stdout",
     "output_type": "stream",
     "text": [
      "Epoch 7\n"
     ]
    },
    {
     "name": "stderr",
     "output_type": "stream",
     "text": [
      "Training Net: 100%|██████████| 3/3 [00:00<00:00, 27.33it/s, Loss_v=7.81e-01]\n"
     ]
    },
    {
     "name": "stdout",
     "output_type": "stream",
     "text": [
      "Epoch 8\n"
     ]
    },
    {
     "name": "stderr",
     "output_type": "stream",
     "text": [
      "Training Net: 100%|██████████| 3/3 [00:00<00:00, 26.56it/s, Loss_v=8.03e-01]\n"
     ]
    },
    {
     "name": "stdout",
     "output_type": "stream",
     "text": [
      "Epoch 9\n"
     ]
    },
    {
     "name": "stderr",
     "output_type": "stream",
     "text": [
      "Training Net: 100%|██████████| 3/3 [00:00<00:00, 26.45it/s, Loss_v=7.66e-01]\n"
     ]
    },
    {
     "name": "stdout",
     "output_type": "stream",
     "text": [
      "Iter 2\n"
     ]
    },
    {
     "name": "stderr",
     "output_type": "stream",
     "text": [
      "Self Play: 100%|██████████| 5/5 [00:45<00:00,  9.05s/it]\n"
     ]
    },
    {
     "name": "stdout",
     "output_type": "stream",
     "text": [
      "Epoch 0\n"
     ]
    },
    {
     "name": "stderr",
     "output_type": "stream",
     "text": [
      "Training Net: 100%|██████████| 6/6 [00:00<00:00, 25.19it/s, Loss_v=1.02e+00]\n"
     ]
    },
    {
     "name": "stdout",
     "output_type": "stream",
     "text": [
      "Epoch 1\n"
     ]
    },
    {
     "name": "stderr",
     "output_type": "stream",
     "text": [
      "Training Net: 100%|██████████| 6/6 [00:00<00:00, 26.39it/s, Loss_v=9.67e-01]\n"
     ]
    },
    {
     "name": "stdout",
     "output_type": "stream",
     "text": [
      "Epoch 2\n"
     ]
    },
    {
     "name": "stderr",
     "output_type": "stream",
     "text": [
      "Training Net: 100%|██████████| 6/6 [00:00<00:00, 26.23it/s, Loss_v=9.18e-01]\n"
     ]
    },
    {
     "name": "stdout",
     "output_type": "stream",
     "text": [
      "Epoch 3\n"
     ]
    },
    {
     "name": "stderr",
     "output_type": "stream",
     "text": [
      "Training Net: 100%|██████████| 6/6 [00:00<00:00, 24.88it/s, Loss_v=9.01e-01]\n"
     ]
    },
    {
     "name": "stdout",
     "output_type": "stream",
     "text": [
      "Epoch 4\n"
     ]
    },
    {
     "name": "stderr",
     "output_type": "stream",
     "text": [
      "Training Net: 100%|██████████| 6/6 [00:00<00:00, 25.44it/s, Loss_v=8.81e-01]\n"
     ]
    },
    {
     "name": "stdout",
     "output_type": "stream",
     "text": [
      "Epoch 5\n"
     ]
    },
    {
     "name": "stderr",
     "output_type": "stream",
     "text": [
      "Training Net: 100%|██████████| 6/6 [00:00<00:00, 26.81it/s, Loss_v=8.48e-01]\n"
     ]
    },
    {
     "name": "stdout",
     "output_type": "stream",
     "text": [
      "Epoch 6\n"
     ]
    },
    {
     "name": "stderr",
     "output_type": "stream",
     "text": [
      "Training Net: 100%|██████████| 6/6 [00:00<00:00, 24.54it/s, Loss_v=8.29e-01]\n"
     ]
    },
    {
     "name": "stdout",
     "output_type": "stream",
     "text": [
      "Epoch 7\n"
     ]
    },
    {
     "name": "stderr",
     "output_type": "stream",
     "text": [
      "Training Net: 100%|██████████| 6/6 [00:00<00:00, 26.02it/s, Loss_v=8.01e-01]\n"
     ]
    },
    {
     "name": "stdout",
     "output_type": "stream",
     "text": [
      "Epoch 8\n"
     ]
    },
    {
     "name": "stderr",
     "output_type": "stream",
     "text": [
      "Training Net: 100%|██████████| 6/6 [00:00<00:00, 25.84it/s, Loss_v=7.62e-01]\n"
     ]
    },
    {
     "name": "stdout",
     "output_type": "stream",
     "text": [
      "Epoch 9\n"
     ]
    },
    {
     "name": "stderr",
     "output_type": "stream",
     "text": [
      "Training Net: 100%|██████████| 6/6 [00:00<00:00, 25.71it/s, Loss_v=7.39e-01]\n"
     ]
    },
    {
     "name": "stdout",
     "output_type": "stream",
     "text": [
      "Iter 3\n"
     ]
    },
    {
     "name": "stderr",
     "output_type": "stream",
     "text": [
      "Self Play: 100%|██████████| 5/5 [00:45<00:00,  9.00s/it]\n"
     ]
    },
    {
     "name": "stdout",
     "output_type": "stream",
     "text": [
      "Epoch 0\n"
     ]
    },
    {
     "name": "stderr",
     "output_type": "stream",
     "text": [
      "Training Net: 100%|██████████| 10/10 [00:00<00:00, 25.84it/s, Loss_v=7.35e-01]\n"
     ]
    },
    {
     "name": "stdout",
     "output_type": "stream",
     "text": [
      "Epoch 1\n"
     ]
    },
    {
     "name": "stderr",
     "output_type": "stream",
     "text": [
      "Training Net: 100%|██████████| 10/10 [00:00<00:00, 23.89it/s, Loss_v=6.66e-01]\n"
     ]
    },
    {
     "name": "stdout",
     "output_type": "stream",
     "text": [
      "Epoch 2\n"
     ]
    },
    {
     "name": "stderr",
     "output_type": "stream",
     "text": [
      "Training Net: 100%|██████████| 10/10 [00:00<00:00, 25.10it/s, Loss_v=6.22e-01]\n"
     ]
    },
    {
     "name": "stdout",
     "output_type": "stream",
     "text": [
      "Epoch 3\n"
     ]
    },
    {
     "name": "stderr",
     "output_type": "stream",
     "text": [
      "Training Net: 100%|██████████| 10/10 [00:00<00:00, 25.96it/s, Loss_v=5.90e-01]\n"
     ]
    },
    {
     "name": "stdout",
     "output_type": "stream",
     "text": [
      "Epoch 4\n"
     ]
    },
    {
     "name": "stderr",
     "output_type": "stream",
     "text": [
      "Training Net: 100%|██████████| 10/10 [00:00<00:00, 22.77it/s, Loss_v=5.41e-01]\n"
     ]
    },
    {
     "name": "stdout",
     "output_type": "stream",
     "text": [
      "Epoch 5\n"
     ]
    },
    {
     "name": "stderr",
     "output_type": "stream",
     "text": [
      "Training Net: 100%|██████████| 10/10 [00:00<00:00, 25.17it/s, Loss_v=5.43e-01]\n"
     ]
    },
    {
     "name": "stdout",
     "output_type": "stream",
     "text": [
      "Epoch 6\n"
     ]
    },
    {
     "name": "stderr",
     "output_type": "stream",
     "text": [
      "Training Net: 100%|██████████| 10/10 [00:00<00:00, 25.06it/s, Loss_v=5.32e-01]\n"
     ]
    },
    {
     "name": "stdout",
     "output_type": "stream",
     "text": [
      "Epoch 7\n"
     ]
    },
    {
     "name": "stderr",
     "output_type": "stream",
     "text": [
      "Training Net: 100%|██████████| 10/10 [00:00<00:00, 27.50it/s, Loss_v=4.93e-01]\n"
     ]
    },
    {
     "name": "stdout",
     "output_type": "stream",
     "text": [
      "Epoch 8\n"
     ]
    },
    {
     "name": "stderr",
     "output_type": "stream",
     "text": [
      "Training Net: 100%|██████████| 10/10 [00:00<00:00, 25.98it/s, Loss_v=4.78e-01]\n"
     ]
    },
    {
     "name": "stdout",
     "output_type": "stream",
     "text": [
      "Epoch 9\n"
     ]
    },
    {
     "name": "stderr",
     "output_type": "stream",
     "text": [
      "Training Net: 100%|██████████| 10/10 [00:00<00:00, 27.12it/s, Loss_v=4.70e-01]\n"
     ]
    },
    {
     "name": "stdout",
     "output_type": "stream",
     "text": [
      "Iter 4\n"
     ]
    },
    {
     "name": "stderr",
     "output_type": "stream",
     "text": [
      "Self Play: 100%|██████████| 5/5 [00:42<00:00,  8.41s/it]\n"
     ]
    },
    {
     "name": "stdout",
     "output_type": "stream",
     "text": [
      "Epoch 0\n"
     ]
    },
    {
     "name": "stderr",
     "output_type": "stream",
     "text": [
      "Training Net: 100%|██████████| 13/13 [00:00<00:00, 25.91it/s, Loss_v=5.34e-01]\n"
     ]
    },
    {
     "name": "stdout",
     "output_type": "stream",
     "text": [
      "Epoch 1\n"
     ]
    },
    {
     "name": "stderr",
     "output_type": "stream",
     "text": [
      "Training Net: 100%|██████████| 13/13 [00:00<00:00, 26.17it/s, Loss_v=5.05e-01]\n"
     ]
    },
    {
     "name": "stdout",
     "output_type": "stream",
     "text": [
      "Epoch 2\n"
     ]
    },
    {
     "name": "stderr",
     "output_type": "stream",
     "text": [
      "Training Net: 100%|██████████| 13/13 [00:00<00:00, 25.87it/s, Loss_v=4.65e-01]\n"
     ]
    },
    {
     "name": "stdout",
     "output_type": "stream",
     "text": [
      "Epoch 3\n"
     ]
    },
    {
     "name": "stderr",
     "output_type": "stream",
     "text": [
      "Training Net: 100%|██████████| 13/13 [00:00<00:00, 26.80it/s, Loss_v=4.73e-01]\n"
     ]
    },
    {
     "name": "stdout",
     "output_type": "stream",
     "text": [
      "Epoch 4\n"
     ]
    },
    {
     "name": "stderr",
     "output_type": "stream",
     "text": [
      "Training Net: 100%|██████████| 13/13 [00:00<00:00, 25.30it/s, Loss_v=4.50e-01]\n"
     ]
    },
    {
     "name": "stdout",
     "output_type": "stream",
     "text": [
      "Epoch 5\n"
     ]
    },
    {
     "name": "stderr",
     "output_type": "stream",
     "text": [
      "Training Net: 100%|██████████| 13/13 [00:00<00:00, 26.76it/s, Loss_v=4.41e-01]\n"
     ]
    },
    {
     "name": "stdout",
     "output_type": "stream",
     "text": [
      "Epoch 6\n"
     ]
    },
    {
     "name": "stderr",
     "output_type": "stream",
     "text": [
      "Training Net: 100%|██████████| 13/13 [00:00<00:00, 27.19it/s, Loss_v=4.45e-01]\n"
     ]
    },
    {
     "name": "stdout",
     "output_type": "stream",
     "text": [
      "Epoch 7\n"
     ]
    },
    {
     "name": "stderr",
     "output_type": "stream",
     "text": [
      "Training Net: 100%|██████████| 13/13 [00:00<00:00, 22.44it/s, Loss_v=4.18e-01]\n"
     ]
    },
    {
     "name": "stdout",
     "output_type": "stream",
     "text": [
      "Epoch 8\n"
     ]
    },
    {
     "name": "stderr",
     "output_type": "stream",
     "text": [
      "Training Net: 100%|██████████| 13/13 [00:00<00:00, 26.50it/s, Loss_v=4.19e-01]\n"
     ]
    },
    {
     "name": "stdout",
     "output_type": "stream",
     "text": [
      "Epoch 9\n"
     ]
    },
    {
     "name": "stderr",
     "output_type": "stream",
     "text": [
      "Training Net: 100%|██████████| 13/13 [00:00<00:00, 25.64it/s, Loss_v=4.05e-01]\n"
     ]
    },
    {
     "name": "stdout",
     "output_type": "stream",
     "text": [
      "Testing...\n"
     ]
    },
    {
     "name": "stderr",
     "output_type": "stream",
     "text": [
      "Arena.playGames (1): 100%|██████████| 25/25 [01:48<00:00,  4.33s/it]\n",
      "Arena.playGames (2): 100%|██████████| 25/25 [01:44<00:00,  4.19s/it]\n",
      "Arena.playGames (1): 100%|██████████| 25/25 [02:24<00:00,  5.80s/it]\n",
      "Arena.playGames (2): 100%|██████████| 25/25 [02:22<00:00,  5.70s/it]\n"
     ]
    },
    {
     "name": "stdout",
     "output_type": "stream",
     "text": [
      "{'random': (42, 6, 2), 'mcts': (19, 28, 3)}\n",
      "Iter 5\n"
     ]
    },
    {
     "name": "stderr",
     "output_type": "stream",
     "text": [
      "Self Play: 100%|██████████| 5/5 [00:43<00:00,  8.70s/it]\n"
     ]
    },
    {
     "name": "stdout",
     "output_type": "stream",
     "text": [
      "Epoch 0\n"
     ]
    },
    {
     "name": "stderr",
     "output_type": "stream",
     "text": [
      "Training Net: 100%|██████████| 16/16 [00:00<00:00, 25.28it/s, Loss_v=5.17e-01]\n"
     ]
    },
    {
     "name": "stdout",
     "output_type": "stream",
     "text": [
      "Epoch 1\n"
     ]
    },
    {
     "name": "stderr",
     "output_type": "stream",
     "text": [
      "Training Net: 100%|██████████| 16/16 [00:00<00:00, 25.93it/s, Loss_v=4.84e-01]\n"
     ]
    },
    {
     "name": "stdout",
     "output_type": "stream",
     "text": [
      "Epoch 2\n"
     ]
    },
    {
     "name": "stderr",
     "output_type": "stream",
     "text": [
      "Training Net: 100%|██████████| 16/16 [00:00<00:00, 27.00it/s, Loss_v=4.61e-01]\n"
     ]
    },
    {
     "name": "stdout",
     "output_type": "stream",
     "text": [
      "Epoch 3\n"
     ]
    },
    {
     "name": "stderr",
     "output_type": "stream",
     "text": [
      "Training Net: 100%|██████████| 16/16 [00:00<00:00, 27.60it/s, Loss_v=4.39e-01]\n"
     ]
    },
    {
     "name": "stdout",
     "output_type": "stream",
     "text": [
      "Epoch 4\n"
     ]
    },
    {
     "name": "stderr",
     "output_type": "stream",
     "text": [
      "Training Net: 100%|██████████| 16/16 [00:00<00:00, 26.51it/s, Loss_v=4.44e-01]\n"
     ]
    },
    {
     "name": "stdout",
     "output_type": "stream",
     "text": [
      "Epoch 5\n"
     ]
    },
    {
     "name": "stderr",
     "output_type": "stream",
     "text": [
      "Training Net: 100%|██████████| 16/16 [00:00<00:00, 26.31it/s, Loss_v=4.29e-01]\n"
     ]
    },
    {
     "name": "stdout",
     "output_type": "stream",
     "text": [
      "Epoch 6\n"
     ]
    },
    {
     "name": "stderr",
     "output_type": "stream",
     "text": [
      "Training Net: 100%|██████████| 16/16 [00:00<00:00, 23.79it/s, Loss_v=4.06e-01]\n"
     ]
    },
    {
     "name": "stdout",
     "output_type": "stream",
     "text": [
      "Epoch 7\n"
     ]
    },
    {
     "name": "stderr",
     "output_type": "stream",
     "text": [
      "Training Net: 100%|██████████| 16/16 [00:00<00:00, 27.69it/s, Loss_v=3.95e-01]\n"
     ]
    },
    {
     "name": "stdout",
     "output_type": "stream",
     "text": [
      "Epoch 8\n"
     ]
    },
    {
     "name": "stderr",
     "output_type": "stream",
     "text": [
      "Training Net: 100%|██████████| 16/16 [00:00<00:00, 27.69it/s, Loss_v=4.06e-01]\n"
     ]
    },
    {
     "name": "stdout",
     "output_type": "stream",
     "text": [
      "Epoch 9\n"
     ]
    },
    {
     "name": "stderr",
     "output_type": "stream",
     "text": [
      "Training Net: 100%|██████████| 16/16 [00:00<00:00, 26.91it/s, Loss_v=4.04e-01]\n"
     ]
    },
    {
     "name": "stdout",
     "output_type": "stream",
     "text": [
      "Iter 6\n"
     ]
    },
    {
     "name": "stderr",
     "output_type": "stream",
     "text": [
      "Self Play: 100%|██████████| 5/5 [00:45<00:00,  9.08s/it]\n"
     ]
    },
    {
     "name": "stdout",
     "output_type": "stream",
     "text": [
      "Epoch 0\n"
     ]
    },
    {
     "name": "stderr",
     "output_type": "stream",
     "text": [
      "Training Net: 100%|██████████| 20/20 [00:00<00:00, 26.33it/s, Loss_v=4.82e-01]\n"
     ]
    },
    {
     "name": "stdout",
     "output_type": "stream",
     "text": [
      "Epoch 1\n"
     ]
    },
    {
     "name": "stderr",
     "output_type": "stream",
     "text": [
      "Training Net: 100%|██████████| 20/20 [00:00<00:00, 27.03it/s, Loss_v=4.62e-01]\n"
     ]
    },
    {
     "name": "stdout",
     "output_type": "stream",
     "text": [
      "Epoch 2\n"
     ]
    },
    {
     "name": "stderr",
     "output_type": "stream",
     "text": [
      "Training Net: 100%|██████████| 20/20 [00:00<00:00, 26.78it/s, Loss_v=4.68e-01]\n"
     ]
    },
    {
     "name": "stdout",
     "output_type": "stream",
     "text": [
      "Epoch 3\n"
     ]
    },
    {
     "name": "stderr",
     "output_type": "stream",
     "text": [
      "Training Net: 100%|██████████| 20/20 [00:00<00:00, 27.11it/s, Loss_v=4.27e-01]\n"
     ]
    },
    {
     "name": "stdout",
     "output_type": "stream",
     "text": [
      "Epoch 4\n"
     ]
    },
    {
     "name": "stderr",
     "output_type": "stream",
     "text": [
      "Training Net: 100%|██████████| 20/20 [00:00<00:00, 27.48it/s, Loss_v=4.31e-01]\n"
     ]
    },
    {
     "name": "stdout",
     "output_type": "stream",
     "text": [
      "Epoch 5\n"
     ]
    },
    {
     "name": "stderr",
     "output_type": "stream",
     "text": [
      "Training Net: 100%|██████████| 20/20 [00:00<00:00, 27.01it/s, Loss_v=4.18e-01]\n"
     ]
    },
    {
     "name": "stdout",
     "output_type": "stream",
     "text": [
      "Epoch 6\n"
     ]
    },
    {
     "name": "stderr",
     "output_type": "stream",
     "text": [
      "Training Net: 100%|██████████| 20/20 [00:00<00:00, 27.53it/s, Loss_v=4.21e-01]\n"
     ]
    },
    {
     "name": "stdout",
     "output_type": "stream",
     "text": [
      "Epoch 7\n"
     ]
    },
    {
     "name": "stderr",
     "output_type": "stream",
     "text": [
      "Training Net: 100%|██████████| 20/20 [00:00<00:00, 27.80it/s, Loss_v=4.02e-01]\n"
     ]
    },
    {
     "name": "stdout",
     "output_type": "stream",
     "text": [
      "Epoch 8\n"
     ]
    },
    {
     "name": "stderr",
     "output_type": "stream",
     "text": [
      "Training Net: 100%|██████████| 20/20 [00:00<00:00, 26.69it/s, Loss_v=4.07e-01]\n"
     ]
    },
    {
     "name": "stdout",
     "output_type": "stream",
     "text": [
      "Epoch 9\n"
     ]
    },
    {
     "name": "stderr",
     "output_type": "stream",
     "text": [
      "Training Net: 100%|██████████| 20/20 [00:00<00:00, 26.80it/s, Loss_v=4.05e-01]\n"
     ]
    },
    {
     "name": "stdout",
     "output_type": "stream",
     "text": [
      "Iter 7\n"
     ]
    },
    {
     "name": "stderr",
     "output_type": "stream",
     "text": [
      "Self Play: 100%|██████████| 5/5 [00:38<00:00,  7.69s/it]\n"
     ]
    },
    {
     "name": "stdout",
     "output_type": "stream",
     "text": [
      "Epoch 0\n"
     ]
    },
    {
     "name": "stderr",
     "output_type": "stream",
     "text": [
      "Training Net: 100%|██████████| 23/23 [00:00<00:00, 27.24it/s, Loss_v=4.94e-01]\n"
     ]
    },
    {
     "name": "stdout",
     "output_type": "stream",
     "text": [
      "Epoch 1\n"
     ]
    },
    {
     "name": "stderr",
     "output_type": "stream",
     "text": [
      "Training Net: 100%|██████████| 23/23 [00:00<00:00, 25.77it/s, Loss_v=4.79e-01]\n"
     ]
    },
    {
     "name": "stdout",
     "output_type": "stream",
     "text": [
      "Epoch 2\n"
     ]
    },
    {
     "name": "stderr",
     "output_type": "stream",
     "text": [
      "Training Net: 100%|██████████| 23/23 [00:00<00:00, 28.01it/s, Loss_v=4.76e-01]\n"
     ]
    },
    {
     "name": "stdout",
     "output_type": "stream",
     "text": [
      "Epoch 3\n"
     ]
    },
    {
     "name": "stderr",
     "output_type": "stream",
     "text": [
      "Training Net: 100%|██████████| 23/23 [00:00<00:00, 27.62it/s, Loss_v=4.53e-01]\n"
     ]
    },
    {
     "name": "stdout",
     "output_type": "stream",
     "text": [
      "Epoch 4\n"
     ]
    },
    {
     "name": "stderr",
     "output_type": "stream",
     "text": [
      "Training Net: 100%|██████████| 23/23 [00:00<00:00, 27.49it/s, Loss_v=4.38e-01]\n"
     ]
    },
    {
     "name": "stdout",
     "output_type": "stream",
     "text": [
      "Epoch 5\n"
     ]
    },
    {
     "name": "stderr",
     "output_type": "stream",
     "text": [
      "Training Net: 100%|██████████| 23/23 [00:00<00:00, 26.81it/s, Loss_v=4.45e-01]\n"
     ]
    },
    {
     "name": "stdout",
     "output_type": "stream",
     "text": [
      "Epoch 6\n"
     ]
    },
    {
     "name": "stderr",
     "output_type": "stream",
     "text": [
      "Training Net: 100%|██████████| 23/23 [00:00<00:00, 27.03it/s, Loss_v=4.51e-01]\n"
     ]
    },
    {
     "name": "stdout",
     "output_type": "stream",
     "text": [
      "Epoch 7\n"
     ]
    },
    {
     "name": "stderr",
     "output_type": "stream",
     "text": [
      "Training Net: 100%|██████████| 23/23 [00:00<00:00, 27.08it/s, Loss_v=4.40e-01]\n"
     ]
    },
    {
     "name": "stdout",
     "output_type": "stream",
     "text": [
      "Epoch 8\n"
     ]
    },
    {
     "name": "stderr",
     "output_type": "stream",
     "text": [
      "Training Net: 100%|██████████| 23/23 [00:00<00:00, 26.90it/s, Loss_v=4.31e-01]\n"
     ]
    },
    {
     "name": "stdout",
     "output_type": "stream",
     "text": [
      "Epoch 9\n"
     ]
    },
    {
     "name": "stderr",
     "output_type": "stream",
     "text": [
      "Training Net: 100%|██████████| 23/23 [00:00<00:00, 26.97it/s, Loss_v=4.22e-01]\n"
     ]
    },
    {
     "name": "stdout",
     "output_type": "stream",
     "text": [
      "Iter 8\n"
     ]
    },
    {
     "name": "stderr",
     "output_type": "stream",
     "text": [
      "Self Play: 100%|██████████| 5/5 [00:44<00:00,  8.86s/it]\n"
     ]
    },
    {
     "name": "stdout",
     "output_type": "stream",
     "text": [
      "Epoch 0\n"
     ]
    },
    {
     "name": "stderr",
     "output_type": "stream",
     "text": [
      "Training Net: 100%|██████████| 27/27 [00:01<00:00, 24.90it/s, Loss_v=5.00e-01]\n"
     ]
    },
    {
     "name": "stdout",
     "output_type": "stream",
     "text": [
      "Epoch 1\n"
     ]
    },
    {
     "name": "stderr",
     "output_type": "stream",
     "text": [
      "Training Net: 100%|██████████| 27/27 [00:01<00:00, 25.42it/s, Loss_v=4.68e-01]\n"
     ]
    },
    {
     "name": "stdout",
     "output_type": "stream",
     "text": [
      "Epoch 2\n"
     ]
    },
    {
     "name": "stderr",
     "output_type": "stream",
     "text": [
      "Training Net: 100%|██████████| 27/27 [00:01<00:00, 26.42it/s, Loss_v=4.49e-01]\n"
     ]
    },
    {
     "name": "stdout",
     "output_type": "stream",
     "text": [
      "Epoch 3\n"
     ]
    },
    {
     "name": "stderr",
     "output_type": "stream",
     "text": [
      "Training Net: 100%|██████████| 27/27 [00:00<00:00, 27.17it/s, Loss_v=4.48e-01]\n"
     ]
    },
    {
     "name": "stdout",
     "output_type": "stream",
     "text": [
      "Epoch 4\n"
     ]
    },
    {
     "name": "stderr",
     "output_type": "stream",
     "text": [
      "Training Net: 100%|██████████| 27/27 [00:01<00:00, 26.88it/s, Loss_v=4.49e-01]\n"
     ]
    },
    {
     "name": "stdout",
     "output_type": "stream",
     "text": [
      "Epoch 5\n"
     ]
    },
    {
     "name": "stderr",
     "output_type": "stream",
     "text": [
      "Training Net: 100%|██████████| 27/27 [00:01<00:00, 26.44it/s, Loss_v=4.30e-01]\n"
     ]
    },
    {
     "name": "stdout",
     "output_type": "stream",
     "text": [
      "Epoch 6\n"
     ]
    },
    {
     "name": "stderr",
     "output_type": "stream",
     "text": [
      "Training Net: 100%|██████████| 27/27 [00:00<00:00, 27.19it/s, Loss_v=4.32e-01]\n"
     ]
    },
    {
     "name": "stdout",
     "output_type": "stream",
     "text": [
      "Epoch 7\n"
     ]
    },
    {
     "name": "stderr",
     "output_type": "stream",
     "text": [
      "Training Net: 100%|██████████| 27/27 [00:00<00:00, 27.18it/s, Loss_v=4.38e-01]\n"
     ]
    },
    {
     "name": "stdout",
     "output_type": "stream",
     "text": [
      "Epoch 8\n"
     ]
    },
    {
     "name": "stderr",
     "output_type": "stream",
     "text": [
      "Training Net: 100%|██████████| 27/27 [00:00<00:00, 27.29it/s, Loss_v=4.36e-01]\n"
     ]
    },
    {
     "name": "stdout",
     "output_type": "stream",
     "text": [
      "Epoch 9\n"
     ]
    },
    {
     "name": "stderr",
     "output_type": "stream",
     "text": [
      "Training Net: 100%|██████████| 27/27 [00:01<00:00, 26.35it/s, Loss_v=4.22e-01]\n"
     ]
    },
    {
     "name": "stdout",
     "output_type": "stream",
     "text": [
      "Testing...\n"
     ]
    },
    {
     "name": "stderr",
     "output_type": "stream",
     "text": [
      "Arena.playGames (1): 100%|██████████| 25/25 [01:41<00:00,  4.06s/it]\n",
      "Arena.playGames (2): 100%|██████████| 25/25 [01:35<00:00,  3.83s/it]\n",
      "Arena.playGames (1): 100%|██████████| 25/25 [02:19<00:00,  5.59s/it]\n",
      "Arena.playGames (2): 100%|██████████| 25/25 [02:23<00:00,  5.75s/it]\n"
     ]
    },
    {
     "name": "stdout",
     "output_type": "stream",
     "text": [
      "{'random': (43, 6, 1), 'mcts': (14, 34, 2)}\n",
      "Iter 9\n"
     ]
    },
    {
     "name": "stderr",
     "output_type": "stream",
     "text": [
      "Self Play: 100%|██████████| 5/5 [00:43<00:00,  8.63s/it]\n"
     ]
    },
    {
     "name": "stdout",
     "output_type": "stream",
     "text": [
      "Epoch 0\n"
     ]
    },
    {
     "name": "stderr",
     "output_type": "stream",
     "text": [
      "Training Net: 100%|██████████| 31/31 [00:01<00:00, 27.33it/s, Loss_v=4.98e-01]\n"
     ]
    },
    {
     "name": "stdout",
     "output_type": "stream",
     "text": [
      "Epoch 1\n"
     ]
    },
    {
     "name": "stderr",
     "output_type": "stream",
     "text": [
      "Training Net: 100%|██████████| 31/31 [00:01<00:00, 27.51it/s, Loss_v=4.77e-01]\n"
     ]
    },
    {
     "name": "stdout",
     "output_type": "stream",
     "text": [
      "Epoch 2\n"
     ]
    },
    {
     "name": "stderr",
     "output_type": "stream",
     "text": [
      "Training Net: 100%|██████████| 31/31 [00:01<00:00, 26.47it/s, Loss_v=4.59e-01]\n"
     ]
    },
    {
     "name": "stdout",
     "output_type": "stream",
     "text": [
      "Epoch 3\n"
     ]
    },
    {
     "name": "stderr",
     "output_type": "stream",
     "text": [
      "Training Net: 100%|██████████| 31/31 [00:01<00:00, 25.41it/s, Loss_v=4.57e-01]\n"
     ]
    },
    {
     "name": "stdout",
     "output_type": "stream",
     "text": [
      "Epoch 4\n"
     ]
    },
    {
     "name": "stderr",
     "output_type": "stream",
     "text": [
      "Training Net: 100%|██████████| 31/31 [00:01<00:00, 25.55it/s, Loss_v=4.54e-01]\n"
     ]
    },
    {
     "name": "stdout",
     "output_type": "stream",
     "text": [
      "Epoch 5\n"
     ]
    },
    {
     "name": "stderr",
     "output_type": "stream",
     "text": [
      "Training Net: 100%|██████████| 31/31 [00:01<00:00, 27.30it/s, Loss_v=4.53e-01]\n"
     ]
    },
    {
     "name": "stdout",
     "output_type": "stream",
     "text": [
      "Epoch 6\n"
     ]
    },
    {
     "name": "stderr",
     "output_type": "stream",
     "text": [
      "Training Net: 100%|██████████| 31/31 [00:01<00:00, 26.28it/s, Loss_v=4.52e-01]\n"
     ]
    },
    {
     "name": "stdout",
     "output_type": "stream",
     "text": [
      "Epoch 7\n"
     ]
    },
    {
     "name": "stderr",
     "output_type": "stream",
     "text": [
      "Training Net: 100%|██████████| 31/31 [00:01<00:00, 24.92it/s, Loss_v=4.33e-01]\n"
     ]
    },
    {
     "name": "stdout",
     "output_type": "stream",
     "text": [
      "Epoch 8\n"
     ]
    },
    {
     "name": "stderr",
     "output_type": "stream",
     "text": [
      "Training Net: 100%|██████████| 31/31 [00:01<00:00, 25.82it/s, Loss_v=4.28e-01]\n"
     ]
    },
    {
     "name": "stdout",
     "output_type": "stream",
     "text": [
      "Epoch 9\n"
     ]
    },
    {
     "name": "stderr",
     "output_type": "stream",
     "text": [
      "Training Net: 100%|██████████| 31/31 [00:01<00:00, 25.86it/s, Loss_v=4.25e-01]\n"
     ]
    },
    {
     "name": "stdout",
     "output_type": "stream",
     "text": [
      "Iter 10\n"
     ]
    },
    {
     "name": "stderr",
     "output_type": "stream",
     "text": [
      "Self Play: 100%|██████████| 5/5 [00:43<00:00,  8.68s/it]\n"
     ]
    },
    {
     "name": "stdout",
     "output_type": "stream",
     "text": [
      "Epoch 0\n"
     ]
    },
    {
     "name": "stderr",
     "output_type": "stream",
     "text": [
      "Training Net: 100%|██████████| 32/32 [00:01<00:00, 25.44it/s, Loss_v=4.54e-01]\n"
     ]
    },
    {
     "name": "stdout",
     "output_type": "stream",
     "text": [
      "Epoch 1\n"
     ]
    },
    {
     "name": "stderr",
     "output_type": "stream",
     "text": [
      "Training Net: 100%|██████████| 32/32 [00:01<00:00, 27.55it/s, Loss_v=4.36e-01]\n"
     ]
    },
    {
     "name": "stdout",
     "output_type": "stream",
     "text": [
      "Epoch 2\n"
     ]
    },
    {
     "name": "stderr",
     "output_type": "stream",
     "text": [
      "Training Net: 100%|██████████| 32/32 [00:01<00:00, 25.92it/s, Loss_v=4.35e-01]\n"
     ]
    },
    {
     "name": "stdout",
     "output_type": "stream",
     "text": [
      "Epoch 3\n"
     ]
    },
    {
     "name": "stderr",
     "output_type": "stream",
     "text": [
      "Training Net: 100%|██████████| 32/32 [00:01<00:00, 26.20it/s, Loss_v=4.23e-01]\n"
     ]
    },
    {
     "name": "stdout",
     "output_type": "stream",
     "text": [
      "Epoch 4\n"
     ]
    },
    {
     "name": "stderr",
     "output_type": "stream",
     "text": [
      "Training Net: 100%|██████████| 32/32 [00:01<00:00, 25.85it/s, Loss_v=4.11e-01]\n"
     ]
    },
    {
     "name": "stdout",
     "output_type": "stream",
     "text": [
      "Epoch 5\n"
     ]
    },
    {
     "name": "stderr",
     "output_type": "stream",
     "text": [
      "Training Net: 100%|██████████| 32/32 [00:01<00:00, 26.60it/s, Loss_v=4.17e-01]\n"
     ]
    },
    {
     "name": "stdout",
     "output_type": "stream",
     "text": [
      "Epoch 6\n"
     ]
    },
    {
     "name": "stderr",
     "output_type": "stream",
     "text": [
      "Training Net: 100%|██████████| 32/32 [00:01<00:00, 26.74it/s, Loss_v=4.15e-01]\n"
     ]
    },
    {
     "name": "stdout",
     "output_type": "stream",
     "text": [
      "Epoch 7\n"
     ]
    },
    {
     "name": "stderr",
     "output_type": "stream",
     "text": [
      "Training Net: 100%|██████████| 32/32 [00:01<00:00, 25.37it/s, Loss_v=4.09e-01]\n"
     ]
    },
    {
     "name": "stdout",
     "output_type": "stream",
     "text": [
      "Epoch 8\n"
     ]
    },
    {
     "name": "stderr",
     "output_type": "stream",
     "text": [
      "Training Net: 100%|██████████| 32/32 [00:01<00:00, 27.01it/s, Loss_v=4.10e-01]\n"
     ]
    },
    {
     "name": "stdout",
     "output_type": "stream",
     "text": [
      "Epoch 9\n"
     ]
    },
    {
     "name": "stderr",
     "output_type": "stream",
     "text": [
      "Training Net: 100%|██████████| 32/32 [00:01<00:00, 26.54it/s, Loss_v=4.00e-01]\n"
     ]
    },
    {
     "name": "stdout",
     "output_type": "stream",
     "text": [
      "Iter 11\n"
     ]
    },
    {
     "name": "stderr",
     "output_type": "stream",
     "text": [
      "Self Play: 100%|██████████| 5/5 [00:45<00:00,  9.07s/it]\n"
     ]
    },
    {
     "name": "stdout",
     "output_type": "stream",
     "text": [
      "Epoch 0\n"
     ]
    },
    {
     "name": "stderr",
     "output_type": "stream",
     "text": [
      "Training Net: 100%|██████████| 32/32 [00:01<00:00, 21.53it/s, Loss_v=4.46e-01]\n"
     ]
    },
    {
     "name": "stdout",
     "output_type": "stream",
     "text": [
      "Epoch 1\n"
     ]
    },
    {
     "name": "stderr",
     "output_type": "stream",
     "text": [
      "Training Net: 100%|██████████| 32/32 [00:01<00:00, 25.32it/s, Loss_v=4.29e-01]\n"
     ]
    },
    {
     "name": "stdout",
     "output_type": "stream",
     "text": [
      "Epoch 2\n"
     ]
    },
    {
     "name": "stderr",
     "output_type": "stream",
     "text": [
      "Training Net: 100%|██████████| 32/32 [00:01<00:00, 25.35it/s, Loss_v=4.29e-01]\n"
     ]
    },
    {
     "name": "stdout",
     "output_type": "stream",
     "text": [
      "Epoch 3\n"
     ]
    },
    {
     "name": "stderr",
     "output_type": "stream",
     "text": [
      "Training Net: 100%|██████████| 32/32 [00:01<00:00, 25.68it/s, Loss_v=4.12e-01]\n"
     ]
    },
    {
     "name": "stdout",
     "output_type": "stream",
     "text": [
      "Epoch 4\n"
     ]
    },
    {
     "name": "stderr",
     "output_type": "stream",
     "text": [
      "Training Net: 100%|██████████| 32/32 [00:01<00:00, 26.48it/s, Loss_v=4.03e-01]\n"
     ]
    },
    {
     "name": "stdout",
     "output_type": "stream",
     "text": [
      "Epoch 5\n"
     ]
    },
    {
     "name": "stderr",
     "output_type": "stream",
     "text": [
      "Training Net: 100%|██████████| 32/32 [00:01<00:00, 26.32it/s, Loss_v=4.11e-01]\n"
     ]
    },
    {
     "name": "stdout",
     "output_type": "stream",
     "text": [
      "Epoch 6\n"
     ]
    },
    {
     "name": "stderr",
     "output_type": "stream",
     "text": [
      "Training Net: 100%|██████████| 32/32 [00:01<00:00, 26.96it/s, Loss_v=4.06e-01]\n"
     ]
    },
    {
     "name": "stdout",
     "output_type": "stream",
     "text": [
      "Epoch 7\n"
     ]
    },
    {
     "name": "stderr",
     "output_type": "stream",
     "text": [
      "Training Net: 100%|██████████| 32/32 [00:01<00:00, 27.64it/s, Loss_v=3.94e-01]\n"
     ]
    },
    {
     "name": "stdout",
     "output_type": "stream",
     "text": [
      "Epoch 8\n"
     ]
    },
    {
     "name": "stderr",
     "output_type": "stream",
     "text": [
      "Training Net: 100%|██████████| 32/32 [00:01<00:00, 25.27it/s, Loss_v=3.89e-01]\n"
     ]
    },
    {
     "name": "stdout",
     "output_type": "stream",
     "text": [
      "Epoch 9\n"
     ]
    },
    {
     "name": "stderr",
     "output_type": "stream",
     "text": [
      "Training Net: 100%|██████████| 32/32 [00:01<00:00, 25.54it/s, Loss_v=3.91e-01]\n"
     ]
    },
    {
     "name": "stdout",
     "output_type": "stream",
     "text": [
      "Iter 12\n"
     ]
    },
    {
     "name": "stderr",
     "output_type": "stream",
     "text": [
      "Self Play: 100%|██████████| 5/5 [00:42<00:00,  8.59s/it]\n"
     ]
    },
    {
     "name": "stdout",
     "output_type": "stream",
     "text": [
      "Epoch 0\n"
     ]
    },
    {
     "name": "stderr",
     "output_type": "stream",
     "text": [
      "Training Net: 100%|██████████| 32/32 [00:01<00:00, 26.09it/s, Loss_v=4.81e-01]\n"
     ]
    },
    {
     "name": "stdout",
     "output_type": "stream",
     "text": [
      "Epoch 1\n"
     ]
    },
    {
     "name": "stderr",
     "output_type": "stream",
     "text": [
      "Training Net: 100%|██████████| 32/32 [00:01<00:00, 26.60it/s, Loss_v=4.64e-01]\n"
     ]
    },
    {
     "name": "stdout",
     "output_type": "stream",
     "text": [
      "Epoch 2\n"
     ]
    },
    {
     "name": "stderr",
     "output_type": "stream",
     "text": [
      "Training Net: 100%|██████████| 32/32 [00:01<00:00, 24.48it/s, Loss_v=4.40e-01]\n"
     ]
    },
    {
     "name": "stdout",
     "output_type": "stream",
     "text": [
      "Epoch 3\n"
     ]
    },
    {
     "name": "stderr",
     "output_type": "stream",
     "text": [
      "Training Net: 100%|██████████| 32/32 [00:01<00:00, 24.17it/s, Loss_v=4.32e-01]\n"
     ]
    },
    {
     "name": "stdout",
     "output_type": "stream",
     "text": [
      "Epoch 4\n"
     ]
    },
    {
     "name": "stderr",
     "output_type": "stream",
     "text": [
      "Training Net: 100%|██████████| 32/32 [00:01<00:00, 24.13it/s, Loss_v=4.39e-01]\n"
     ]
    },
    {
     "name": "stdout",
     "output_type": "stream",
     "text": [
      "Epoch 5\n"
     ]
    },
    {
     "name": "stderr",
     "output_type": "stream",
     "text": [
      "Training Net: 100%|██████████| 32/32 [00:01<00:00, 21.60it/s, Loss_v=4.27e-01]\n"
     ]
    },
    {
     "name": "stdout",
     "output_type": "stream",
     "text": [
      "Epoch 6\n"
     ]
    },
    {
     "name": "stderr",
     "output_type": "stream",
     "text": [
      "Training Net: 100%|██████████| 32/32 [00:01<00:00, 26.21it/s, Loss_v=4.21e-01]\n"
     ]
    },
    {
     "name": "stdout",
     "output_type": "stream",
     "text": [
      "Epoch 7\n"
     ]
    },
    {
     "name": "stderr",
     "output_type": "stream",
     "text": [
      "Training Net: 100%|██████████| 32/32 [00:01<00:00, 24.62it/s, Loss_v=4.26e-01]\n"
     ]
    },
    {
     "name": "stdout",
     "output_type": "stream",
     "text": [
      "Epoch 8\n"
     ]
    },
    {
     "name": "stderr",
     "output_type": "stream",
     "text": [
      "Training Net: 100%|██████████| 32/32 [00:01<00:00, 23.65it/s, Loss_v=4.05e-01]\n"
     ]
    },
    {
     "name": "stdout",
     "output_type": "stream",
     "text": [
      "Epoch 9\n"
     ]
    },
    {
     "name": "stderr",
     "output_type": "stream",
     "text": [
      "Training Net: 100%|██████████| 32/32 [00:01<00:00, 22.76it/s, Loss_v=4.12e-01]\n"
     ]
    },
    {
     "name": "stdout",
     "output_type": "stream",
     "text": [
      "Testing...\n"
     ]
    },
    {
     "name": "stderr",
     "output_type": "stream",
     "text": [
      "Arena.playGames (1): 100%|██████████| 25/25 [01:43<00:00,  4.13s/it]\n",
      "Arena.playGames (2): 100%|██████████| 25/25 [01:38<00:00,  3.95s/it]\n",
      "Arena.playGames (1): 100%|██████████| 25/25 [02:25<00:00,  5.82s/it]\n",
      "Arena.playGames (2): 100%|██████████| 25/25 [02:15<00:00,  5.43s/it]\n"
     ]
    },
    {
     "name": "stdout",
     "output_type": "stream",
     "text": [
      "{'random': (43, 5, 2), 'mcts': (20, 30, 0)}\n",
      "Iter 13\n"
     ]
    },
    {
     "name": "stderr",
     "output_type": "stream",
     "text": [
      "Self Play: 100%|██████████| 5/5 [00:39<00:00,  7.95s/it]\n"
     ]
    },
    {
     "name": "stdout",
     "output_type": "stream",
     "text": [
      "Epoch 0\n"
     ]
    },
    {
     "name": "stderr",
     "output_type": "stream",
     "text": [
      "Training Net: 100%|██████████| 32/32 [00:01<00:00, 23.71it/s, Loss_v=4.38e-01]\n"
     ]
    },
    {
     "name": "stdout",
     "output_type": "stream",
     "text": [
      "Epoch 1\n"
     ]
    },
    {
     "name": "stderr",
     "output_type": "stream",
     "text": [
      "Training Net: 100%|██████████| 32/32 [00:01<00:00, 24.65it/s, Loss_v=4.42e-01]\n"
     ]
    },
    {
     "name": "stdout",
     "output_type": "stream",
     "text": [
      "Epoch 2\n"
     ]
    },
    {
     "name": "stderr",
     "output_type": "stream",
     "text": [
      "Training Net: 100%|██████████| 32/32 [00:01<00:00, 25.85it/s, Loss_v=4.30e-01]\n"
     ]
    },
    {
     "name": "stdout",
     "output_type": "stream",
     "text": [
      "Epoch 3\n"
     ]
    },
    {
     "name": "stderr",
     "output_type": "stream",
     "text": [
      "Training Net: 100%|██████████| 32/32 [00:01<00:00, 25.91it/s, Loss_v=4.15e-01]\n"
     ]
    },
    {
     "name": "stdout",
     "output_type": "stream",
     "text": [
      "Epoch 4\n"
     ]
    },
    {
     "name": "stderr",
     "output_type": "stream",
     "text": [
      "Training Net: 100%|██████████| 32/32 [00:01<00:00, 25.75it/s, Loss_v=4.13e-01]\n"
     ]
    },
    {
     "name": "stdout",
     "output_type": "stream",
     "text": [
      "Epoch 5\n"
     ]
    },
    {
     "name": "stderr",
     "output_type": "stream",
     "text": [
      "Training Net: 100%|██████████| 32/32 [00:01<00:00, 25.70it/s, Loss_v=4.03e-01]\n"
     ]
    },
    {
     "name": "stdout",
     "output_type": "stream",
     "text": [
      "Epoch 6\n"
     ]
    },
    {
     "name": "stderr",
     "output_type": "stream",
     "text": [
      "Training Net: 100%|██████████| 32/32 [00:01<00:00, 24.06it/s, Loss_v=4.05e-01]\n"
     ]
    },
    {
     "name": "stdout",
     "output_type": "stream",
     "text": [
      "Epoch 7\n"
     ]
    },
    {
     "name": "stderr",
     "output_type": "stream",
     "text": [
      "Training Net: 100%|██████████| 32/32 [00:01<00:00, 25.89it/s, Loss_v=4.01e-01]\n"
     ]
    },
    {
     "name": "stdout",
     "output_type": "stream",
     "text": [
      "Epoch 8\n"
     ]
    },
    {
     "name": "stderr",
     "output_type": "stream",
     "text": [
      "Training Net: 100%|██████████| 32/32 [00:01<00:00, 24.55it/s, Loss_v=4.02e-01]\n"
     ]
    },
    {
     "name": "stdout",
     "output_type": "stream",
     "text": [
      "Epoch 9\n"
     ]
    },
    {
     "name": "stderr",
     "output_type": "stream",
     "text": [
      "Training Net: 100%|██████████| 32/32 [00:01<00:00, 25.25it/s, Loss_v=4.03e-01]\n"
     ]
    },
    {
     "name": "stdout",
     "output_type": "stream",
     "text": [
      "Iter 14\n"
     ]
    },
    {
     "name": "stderr",
     "output_type": "stream",
     "text": [
      "Self Play: 100%|██████████| 5/5 [00:44<00:00,  8.93s/it]\n"
     ]
    },
    {
     "name": "stdout",
     "output_type": "stream",
     "text": [
      "Epoch 0\n"
     ]
    },
    {
     "name": "stderr",
     "output_type": "stream",
     "text": [
      "Training Net: 100%|██████████| 32/32 [00:01<00:00, 24.78it/s, Loss_v=4.86e-01]\n"
     ]
    },
    {
     "name": "stdout",
     "output_type": "stream",
     "text": [
      "Epoch 1\n"
     ]
    },
    {
     "name": "stderr",
     "output_type": "stream",
     "text": [
      "Training Net: 100%|██████████| 32/32 [00:01<00:00, 25.65it/s, Loss_v=4.56e-01]\n"
     ]
    },
    {
     "name": "stdout",
     "output_type": "stream",
     "text": [
      "Epoch 2\n"
     ]
    },
    {
     "name": "stderr",
     "output_type": "stream",
     "text": [
      "Training Net: 100%|██████████| 32/32 [00:01<00:00, 24.98it/s, Loss_v=4.63e-01]\n"
     ]
    },
    {
     "name": "stdout",
     "output_type": "stream",
     "text": [
      "Epoch 3\n"
     ]
    },
    {
     "name": "stderr",
     "output_type": "stream",
     "text": [
      "Training Net: 100%|██████████| 32/32 [00:01<00:00, 24.46it/s, Loss_v=4.45e-01]\n"
     ]
    },
    {
     "name": "stdout",
     "output_type": "stream",
     "text": [
      "Epoch 4\n"
     ]
    },
    {
     "name": "stderr",
     "output_type": "stream",
     "text": [
      "Training Net: 100%|██████████| 32/32 [00:01<00:00, 26.24it/s, Loss_v=4.45e-01]\n"
     ]
    },
    {
     "name": "stdout",
     "output_type": "stream",
     "text": [
      "Epoch 5\n"
     ]
    },
    {
     "name": "stderr",
     "output_type": "stream",
     "text": [
      "Training Net: 100%|██████████| 32/32 [00:01<00:00, 24.73it/s, Loss_v=4.27e-01]\n"
     ]
    },
    {
     "name": "stdout",
     "output_type": "stream",
     "text": [
      "Epoch 6\n"
     ]
    },
    {
     "name": "stderr",
     "output_type": "stream",
     "text": [
      "Training Net: 100%|██████████| 32/32 [00:01<00:00, 25.43it/s, Loss_v=4.39e-01]\n"
     ]
    },
    {
     "name": "stdout",
     "output_type": "stream",
     "text": [
      "Epoch 7\n"
     ]
    },
    {
     "name": "stderr",
     "output_type": "stream",
     "text": [
      "Training Net: 100%|██████████| 32/32 [00:01<00:00, 25.66it/s, Loss_v=4.41e-01]\n"
     ]
    },
    {
     "name": "stdout",
     "output_type": "stream",
     "text": [
      "Epoch 8\n"
     ]
    },
    {
     "name": "stderr",
     "output_type": "stream",
     "text": [
      "Training Net: 100%|██████████| 32/32 [00:01<00:00, 25.61it/s, Loss_v=4.24e-01]\n"
     ]
    },
    {
     "name": "stdout",
     "output_type": "stream",
     "text": [
      "Epoch 9\n"
     ]
    },
    {
     "name": "stderr",
     "output_type": "stream",
     "text": [
      "Training Net: 100%|██████████| 32/32 [00:01<00:00, 26.62it/s, Loss_v=4.17e-01]\n"
     ]
    },
    {
     "name": "stdout",
     "output_type": "stream",
     "text": [
      "Iter 15\n"
     ]
    },
    {
     "name": "stderr",
     "output_type": "stream",
     "text": [
      "Self Play: 100%|██████████| 5/5 [00:44<00:00,  8.97s/it]\n"
     ]
    },
    {
     "name": "stdout",
     "output_type": "stream",
     "text": [
      "Epoch 0\n"
     ]
    },
    {
     "name": "stderr",
     "output_type": "stream",
     "text": [
      "Training Net: 100%|██████████| 32/32 [00:01<00:00, 24.71it/s, Loss_v=4.68e-01]\n"
     ]
    },
    {
     "name": "stdout",
     "output_type": "stream",
     "text": [
      "Epoch 1\n"
     ]
    },
    {
     "name": "stderr",
     "output_type": "stream",
     "text": [
      "Training Net: 100%|██████████| 32/32 [00:01<00:00, 26.12it/s, Loss_v=4.10e-01]\n"
     ]
    },
    {
     "name": "stdout",
     "output_type": "stream",
     "text": [
      "Epoch 2\n"
     ]
    },
    {
     "name": "stderr",
     "output_type": "stream",
     "text": [
      "Training Net: 100%|██████████| 32/32 [00:01<00:00, 24.54it/s, Loss_v=4.09e-01]\n"
     ]
    },
    {
     "name": "stdout",
     "output_type": "stream",
     "text": [
      "Epoch 3\n"
     ]
    },
    {
     "name": "stderr",
     "output_type": "stream",
     "text": [
      "Training Net: 100%|██████████| 32/32 [00:01<00:00, 24.84it/s, Loss_v=4.21e-01]\n"
     ]
    },
    {
     "name": "stdout",
     "output_type": "stream",
     "text": [
      "Epoch 4\n"
     ]
    },
    {
     "name": "stderr",
     "output_type": "stream",
     "text": [
      "Training Net: 100%|██████████| 32/32 [00:01<00:00, 23.77it/s, Loss_v=4.04e-01]\n"
     ]
    },
    {
     "name": "stdout",
     "output_type": "stream",
     "text": [
      "Epoch 5\n"
     ]
    },
    {
     "name": "stderr",
     "output_type": "stream",
     "text": [
      "Training Net: 100%|██████████| 32/32 [00:01<00:00, 23.89it/s, Loss_v=4.01e-01]\n"
     ]
    },
    {
     "name": "stdout",
     "output_type": "stream",
     "text": [
      "Epoch 6\n"
     ]
    },
    {
     "name": "stderr",
     "output_type": "stream",
     "text": [
      "Training Net: 100%|██████████| 32/32 [00:01<00:00, 22.30it/s, Loss_v=3.94e-01]\n"
     ]
    },
    {
     "name": "stdout",
     "output_type": "stream",
     "text": [
      "Epoch 7\n"
     ]
    },
    {
     "name": "stderr",
     "output_type": "stream",
     "text": [
      "Training Net: 100%|██████████| 32/32 [00:01<00:00, 25.27it/s, Loss_v=3.92e-01]\n"
     ]
    },
    {
     "name": "stdout",
     "output_type": "stream",
     "text": [
      "Epoch 8\n"
     ]
    },
    {
     "name": "stderr",
     "output_type": "stream",
     "text": [
      "Training Net: 100%|██████████| 32/32 [00:01<00:00, 22.21it/s, Loss_v=3.99e-01]\n"
     ]
    },
    {
     "name": "stdout",
     "output_type": "stream",
     "text": [
      "Epoch 9\n"
     ]
    },
    {
     "name": "stderr",
     "output_type": "stream",
     "text": [
      "Training Net: 100%|██████████| 32/32 [00:01<00:00, 24.74it/s, Loss_v=4.07e-01]\n"
     ]
    },
    {
     "name": "stdout",
     "output_type": "stream",
     "text": [
      "Iter 16\n"
     ]
    },
    {
     "name": "stderr",
     "output_type": "stream",
     "text": [
      "Self Play: 100%|██████████| 5/5 [00:39<00:00,  7.98s/it]\n"
     ]
    },
    {
     "name": "stdout",
     "output_type": "stream",
     "text": [
      "Epoch 0\n"
     ]
    },
    {
     "name": "stderr",
     "output_type": "stream",
     "text": [
      "Training Net: 100%|██████████| 32/32 [00:01<00:00, 24.69it/s, Loss_v=4.53e-01]\n"
     ]
    },
    {
     "name": "stdout",
     "output_type": "stream",
     "text": [
      "Epoch 1\n"
     ]
    },
    {
     "name": "stderr",
     "output_type": "stream",
     "text": [
      "Training Net: 100%|██████████| 32/32 [00:01<00:00, 23.87it/s, Loss_v=4.46e-01]\n"
     ]
    },
    {
     "name": "stdout",
     "output_type": "stream",
     "text": [
      "Epoch 2\n"
     ]
    },
    {
     "name": "stderr",
     "output_type": "stream",
     "text": [
      "Training Net: 100%|██████████| 32/32 [00:01<00:00, 25.12it/s, Loss_v=4.27e-01]\n"
     ]
    },
    {
     "name": "stdout",
     "output_type": "stream",
     "text": [
      "Epoch 3\n"
     ]
    },
    {
     "name": "stderr",
     "output_type": "stream",
     "text": [
      "Training Net: 100%|██████████| 32/32 [00:01<00:00, 23.77it/s, Loss_v=4.34e-01]\n"
     ]
    },
    {
     "name": "stdout",
     "output_type": "stream",
     "text": [
      "Epoch 4\n"
     ]
    },
    {
     "name": "stderr",
     "output_type": "stream",
     "text": [
      "Training Net: 100%|██████████| 32/32 [00:01<00:00, 23.82it/s, Loss_v=4.13e-01]\n"
     ]
    },
    {
     "name": "stdout",
     "output_type": "stream",
     "text": [
      "Epoch 5\n"
     ]
    },
    {
     "name": "stderr",
     "output_type": "stream",
     "text": [
      "Training Net: 100%|██████████| 32/32 [00:01<00:00, 25.39it/s, Loss_v=4.07e-01]\n"
     ]
    },
    {
     "name": "stdout",
     "output_type": "stream",
     "text": [
      "Epoch 6\n"
     ]
    },
    {
     "name": "stderr",
     "output_type": "stream",
     "text": [
      "Training Net: 100%|██████████| 32/32 [00:01<00:00, 25.61it/s, Loss_v=4.09e-01]\n"
     ]
    },
    {
     "name": "stdout",
     "output_type": "stream",
     "text": [
      "Epoch 7\n"
     ]
    },
    {
     "name": "stderr",
     "output_type": "stream",
     "text": [
      "Training Net: 100%|██████████| 32/32 [00:01<00:00, 25.69it/s, Loss_v=4.04e-01]\n"
     ]
    },
    {
     "name": "stdout",
     "output_type": "stream",
     "text": [
      "Epoch 8\n"
     ]
    },
    {
     "name": "stderr",
     "output_type": "stream",
     "text": [
      "Training Net: 100%|██████████| 32/32 [00:01<00:00, 22.39it/s, Loss_v=4.14e-01]\n"
     ]
    },
    {
     "name": "stdout",
     "output_type": "stream",
     "text": [
      "Epoch 9\n"
     ]
    },
    {
     "name": "stderr",
     "output_type": "stream",
     "text": [
      "Training Net: 100%|██████████| 32/32 [00:01<00:00, 25.98it/s, Loss_v=3.96e-01]\n"
     ]
    },
    {
     "name": "stdout",
     "output_type": "stream",
     "text": [
      "Testing...\n"
     ]
    },
    {
     "name": "stderr",
     "output_type": "stream",
     "text": [
      "Arena.playGames (1): 100%|██████████| 25/25 [01:38<00:00,  3.92s/it]\n",
      "Arena.playGames (2): 100%|██████████| 25/25 [01:41<00:00,  4.07s/it]\n",
      "Arena.playGames (1): 100%|██████████| 25/25 [02:25<00:00,  5.83s/it]\n",
      "Arena.playGames (2): 100%|██████████| 25/25 [02:22<00:00,  5.69s/it]\n"
     ]
    },
    {
     "name": "stdout",
     "output_type": "stream",
     "text": [
      "{'random': (45, 5, 0), 'mcts': (17, 33, 0)}\n",
      "Iter 17\n"
     ]
    },
    {
     "name": "stderr",
     "output_type": "stream",
     "text": [
      "Self Play: 100%|██████████| 5/5 [00:42<00:00,  8.52s/it]\n"
     ]
    },
    {
     "name": "stdout",
     "output_type": "stream",
     "text": [
      "Epoch 0\n"
     ]
    },
    {
     "name": "stderr",
     "output_type": "stream",
     "text": [
      "Training Net: 100%|██████████| 32/32 [00:01<00:00, 23.57it/s, Loss_v=4.23e-01]\n"
     ]
    },
    {
     "name": "stdout",
     "output_type": "stream",
     "text": [
      "Epoch 1\n"
     ]
    },
    {
     "name": "stderr",
     "output_type": "stream",
     "text": [
      "Training Net: 100%|██████████| 32/32 [00:01<00:00, 24.48it/s, Loss_v=4.25e-01]\n"
     ]
    },
    {
     "name": "stdout",
     "output_type": "stream",
     "text": [
      "Epoch 2\n"
     ]
    },
    {
     "name": "stderr",
     "output_type": "stream",
     "text": [
      "Training Net: 100%|██████████| 32/32 [00:01<00:00, 26.50it/s, Loss_v=4.00e-01]\n"
     ]
    },
    {
     "name": "stdout",
     "output_type": "stream",
     "text": [
      "Epoch 3\n"
     ]
    },
    {
     "name": "stderr",
     "output_type": "stream",
     "text": [
      "Training Net: 100%|██████████| 32/32 [00:01<00:00, 24.23it/s, Loss_v=4.00e-01]\n"
     ]
    },
    {
     "name": "stdout",
     "output_type": "stream",
     "text": [
      "Epoch 4\n"
     ]
    },
    {
     "name": "stderr",
     "output_type": "stream",
     "text": [
      "Training Net: 100%|██████████| 32/32 [00:01<00:00, 25.68it/s, Loss_v=3.91e-01]\n"
     ]
    },
    {
     "name": "stdout",
     "output_type": "stream",
     "text": [
      "Epoch 5\n"
     ]
    },
    {
     "name": "stderr",
     "output_type": "stream",
     "text": [
      "Training Net: 100%|██████████| 32/32 [00:01<00:00, 24.14it/s, Loss_v=3.81e-01]\n"
     ]
    },
    {
     "name": "stdout",
     "output_type": "stream",
     "text": [
      "Epoch 6\n"
     ]
    },
    {
     "name": "stderr",
     "output_type": "stream",
     "text": [
      "Training Net: 100%|██████████| 32/32 [00:01<00:00, 23.33it/s, Loss_v=3.79e-01]\n"
     ]
    },
    {
     "name": "stdout",
     "output_type": "stream",
     "text": [
      "Epoch 7\n"
     ]
    },
    {
     "name": "stderr",
     "output_type": "stream",
     "text": [
      "Training Net: 100%|██████████| 32/32 [00:01<00:00, 26.54it/s, Loss_v=3.73e-01]\n"
     ]
    },
    {
     "name": "stdout",
     "output_type": "stream",
     "text": [
      "Epoch 8\n"
     ]
    },
    {
     "name": "stderr",
     "output_type": "stream",
     "text": [
      "Training Net: 100%|██████████| 32/32 [00:01<00:00, 25.50it/s, Loss_v=3.77e-01]\n"
     ]
    },
    {
     "name": "stdout",
     "output_type": "stream",
     "text": [
      "Epoch 9\n"
     ]
    },
    {
     "name": "stderr",
     "output_type": "stream",
     "text": [
      "Training Net: 100%|██████████| 32/32 [00:01<00:00, 22.32it/s, Loss_v=3.80e-01]\n"
     ]
    },
    {
     "name": "stdout",
     "output_type": "stream",
     "text": [
      "Iter 18\n"
     ]
    },
    {
     "name": "stderr",
     "output_type": "stream",
     "text": [
      "Self Play: 100%|██████████| 5/5 [00:42<00:00,  8.49s/it]\n"
     ]
    },
    {
     "name": "stdout",
     "output_type": "stream",
     "text": [
      "Epoch 0\n"
     ]
    },
    {
     "name": "stderr",
     "output_type": "stream",
     "text": [
      "Training Net: 100%|██████████| 32/32 [00:01<00:00, 26.00it/s, Loss_v=4.49e-01]\n"
     ]
    },
    {
     "name": "stdout",
     "output_type": "stream",
     "text": [
      "Epoch 1\n"
     ]
    },
    {
     "name": "stderr",
     "output_type": "stream",
     "text": [
      "Training Net: 100%|██████████| 32/32 [00:01<00:00, 25.05it/s, Loss_v=4.44e-01]\n"
     ]
    },
    {
     "name": "stdout",
     "output_type": "stream",
     "text": [
      "Epoch 2\n"
     ]
    },
    {
     "name": "stderr",
     "output_type": "stream",
     "text": [
      "Training Net: 100%|██████████| 32/32 [00:01<00:00, 26.13it/s, Loss_v=4.27e-01]\n"
     ]
    },
    {
     "name": "stdout",
     "output_type": "stream",
     "text": [
      "Epoch 3\n"
     ]
    },
    {
     "name": "stderr",
     "output_type": "stream",
     "text": [
      "Training Net: 100%|██████████| 32/32 [00:01<00:00, 25.22it/s, Loss_v=4.20e-01]\n"
     ]
    },
    {
     "name": "stdout",
     "output_type": "stream",
     "text": [
      "Epoch 4\n"
     ]
    },
    {
     "name": "stderr",
     "output_type": "stream",
     "text": [
      "Training Net: 100%|██████████| 32/32 [00:01<00:00, 25.89it/s, Loss_v=4.23e-01]\n"
     ]
    },
    {
     "name": "stdout",
     "output_type": "stream",
     "text": [
      "Epoch 5\n"
     ]
    },
    {
     "name": "stderr",
     "output_type": "stream",
     "text": [
      "Training Net: 100%|██████████| 32/32 [00:01<00:00, 24.97it/s, Loss_v=4.03e-01]\n"
     ]
    },
    {
     "name": "stdout",
     "output_type": "stream",
     "text": [
      "Epoch 6\n"
     ]
    },
    {
     "name": "stderr",
     "output_type": "stream",
     "text": [
      "Training Net: 100%|██████████| 32/32 [00:01<00:00, 27.47it/s, Loss_v=4.02e-01]\n"
     ]
    },
    {
     "name": "stdout",
     "output_type": "stream",
     "text": [
      "Epoch 7\n"
     ]
    },
    {
     "name": "stderr",
     "output_type": "stream",
     "text": [
      "Training Net: 100%|██████████| 32/32 [00:01<00:00, 26.01it/s, Loss_v=3.97e-01]\n"
     ]
    },
    {
     "name": "stdout",
     "output_type": "stream",
     "text": [
      "Epoch 8\n"
     ]
    },
    {
     "name": "stderr",
     "output_type": "stream",
     "text": [
      "Training Net: 100%|██████████| 32/32 [00:01<00:00, 24.46it/s, Loss_v=3.99e-01]\n"
     ]
    },
    {
     "name": "stdout",
     "output_type": "stream",
     "text": [
      "Epoch 9\n"
     ]
    },
    {
     "name": "stderr",
     "output_type": "stream",
     "text": [
      "Training Net: 100%|██████████| 32/32 [00:01<00:00, 26.23it/s, Loss_v=3.84e-01]\n"
     ]
    },
    {
     "name": "stdout",
     "output_type": "stream",
     "text": [
      "Iter 19\n"
     ]
    },
    {
     "name": "stderr",
     "output_type": "stream",
     "text": [
      "Self Play: 100%|██████████| 5/5 [00:44<00:00,  8.87s/it]\n"
     ]
    },
    {
     "name": "stdout",
     "output_type": "stream",
     "text": [
      "Epoch 0\n"
     ]
    },
    {
     "name": "stderr",
     "output_type": "stream",
     "text": [
      "Training Net: 100%|██████████| 32/32 [00:01<00:00, 25.47it/s, Loss_v=4.49e-01]\n"
     ]
    },
    {
     "name": "stdout",
     "output_type": "stream",
     "text": [
      "Epoch 1\n"
     ]
    },
    {
     "name": "stderr",
     "output_type": "stream",
     "text": [
      "Training Net: 100%|██████████| 32/32 [00:01<00:00, 26.13it/s, Loss_v=4.30e-01]\n"
     ]
    },
    {
     "name": "stdout",
     "output_type": "stream",
     "text": [
      "Epoch 2\n"
     ]
    },
    {
     "name": "stderr",
     "output_type": "stream",
     "text": [
      "Training Net: 100%|██████████| 32/32 [00:01<00:00, 22.65it/s, Loss_v=4.17e-01]\n"
     ]
    },
    {
     "name": "stdout",
     "output_type": "stream",
     "text": [
      "Epoch 3\n"
     ]
    },
    {
     "name": "stderr",
     "output_type": "stream",
     "text": [
      "Training Net: 100%|██████████| 32/32 [00:01<00:00, 26.79it/s, Loss_v=3.99e-01]\n"
     ]
    },
    {
     "name": "stdout",
     "output_type": "stream",
     "text": [
      "Epoch 4\n"
     ]
    },
    {
     "name": "stderr",
     "output_type": "stream",
     "text": [
      "Training Net: 100%|██████████| 32/32 [00:01<00:00, 25.53it/s, Loss_v=4.11e-01]\n"
     ]
    },
    {
     "name": "stdout",
     "output_type": "stream",
     "text": [
      "Epoch 5\n"
     ]
    },
    {
     "name": "stderr",
     "output_type": "stream",
     "text": [
      "Training Net: 100%|██████████| 32/32 [00:01<00:00, 25.40it/s, Loss_v=4.09e-01]\n"
     ]
    },
    {
     "name": "stdout",
     "output_type": "stream",
     "text": [
      "Epoch 6\n"
     ]
    },
    {
     "name": "stderr",
     "output_type": "stream",
     "text": [
      "Training Net: 100%|██████████| 32/32 [00:01<00:00, 25.35it/s, Loss_v=3.90e-01]\n"
     ]
    },
    {
     "name": "stdout",
     "output_type": "stream",
     "text": [
      "Epoch 7\n"
     ]
    },
    {
     "name": "stderr",
     "output_type": "stream",
     "text": [
      "Training Net: 100%|██████████| 32/32 [00:01<00:00, 23.03it/s, Loss_v=3.92e-01]\n"
     ]
    },
    {
     "name": "stdout",
     "output_type": "stream",
     "text": [
      "Epoch 8\n"
     ]
    },
    {
     "name": "stderr",
     "output_type": "stream",
     "text": [
      "Training Net: 100%|██████████| 32/32 [00:01<00:00, 24.08it/s, Loss_v=3.81e-01]\n"
     ]
    },
    {
     "name": "stdout",
     "output_type": "stream",
     "text": [
      "Epoch 9\n"
     ]
    },
    {
     "name": "stderr",
     "output_type": "stream",
     "text": [
      "Training Net: 100%|██████████| 32/32 [00:01<00:00, 26.12it/s, Loss_v=3.87e-01]\n"
     ]
    },
    {
     "name": "stdout",
     "output_type": "stream",
     "text": [
      "Iter 20\n"
     ]
    },
    {
     "name": "stderr",
     "output_type": "stream",
     "text": [
      "Self Play: 100%|██████████| 5/5 [00:41<00:00,  8.39s/it]\n"
     ]
    },
    {
     "name": "stdout",
     "output_type": "stream",
     "text": [
      "Epoch 0\n"
     ]
    },
    {
     "name": "stderr",
     "output_type": "stream",
     "text": [
      "Training Net: 100%|██████████| 32/32 [00:01<00:00, 23.61it/s, Loss_v=4.18e-01]\n"
     ]
    },
    {
     "name": "stdout",
     "output_type": "stream",
     "text": [
      "Epoch 1\n"
     ]
    },
    {
     "name": "stderr",
     "output_type": "stream",
     "text": [
      "Training Net: 100%|██████████| 32/32 [00:01<00:00, 20.32it/s, Loss_v=4.02e-01]\n"
     ]
    },
    {
     "name": "stdout",
     "output_type": "stream",
     "text": [
      "Epoch 2\n"
     ]
    },
    {
     "name": "stderr",
     "output_type": "stream",
     "text": [
      "Training Net: 100%|██████████| 32/32 [00:01<00:00, 20.68it/s, Loss_v=3.96e-01]\n"
     ]
    },
    {
     "name": "stdout",
     "output_type": "stream",
     "text": [
      "Epoch 3\n"
     ]
    },
    {
     "name": "stderr",
     "output_type": "stream",
     "text": [
      "Training Net: 100%|██████████| 32/32 [00:01<00:00, 19.60it/s, Loss_v=3.84e-01]\n"
     ]
    },
    {
     "name": "stdout",
     "output_type": "stream",
     "text": [
      "Epoch 4\n"
     ]
    },
    {
     "name": "stderr",
     "output_type": "stream",
     "text": [
      "Training Net: 100%|██████████| 32/32 [00:01<00:00, 25.52it/s, Loss_v=3.97e-01]\n"
     ]
    },
    {
     "name": "stdout",
     "output_type": "stream",
     "text": [
      "Epoch 5\n"
     ]
    },
    {
     "name": "stderr",
     "output_type": "stream",
     "text": [
      "Training Net: 100%|██████████| 32/32 [00:01<00:00, 23.89it/s, Loss_v=3.90e-01]\n"
     ]
    },
    {
     "name": "stdout",
     "output_type": "stream",
     "text": [
      "Epoch 6\n"
     ]
    },
    {
     "name": "stderr",
     "output_type": "stream",
     "text": [
      "Training Net: 100%|██████████| 32/32 [00:01<00:00, 23.39it/s, Loss_v=3.85e-01]\n"
     ]
    },
    {
     "name": "stdout",
     "output_type": "stream",
     "text": [
      "Epoch 7\n"
     ]
    },
    {
     "name": "stderr",
     "output_type": "stream",
     "text": [
      "Training Net: 100%|██████████| 32/32 [00:01<00:00, 25.11it/s, Loss_v=3.63e-01]\n"
     ]
    },
    {
     "name": "stdout",
     "output_type": "stream",
     "text": [
      "Epoch 8\n"
     ]
    },
    {
     "name": "stderr",
     "output_type": "stream",
     "text": [
      "Training Net: 100%|██████████| 32/32 [00:01<00:00, 25.35it/s, Loss_v=3.85e-01]\n"
     ]
    },
    {
     "name": "stdout",
     "output_type": "stream",
     "text": [
      "Epoch 9\n"
     ]
    },
    {
     "name": "stderr",
     "output_type": "stream",
     "text": [
      "Training Net: 100%|██████████| 32/32 [00:01<00:00, 25.37it/s, Loss_v=3.68e-01]\n"
     ]
    },
    {
     "name": "stdout",
     "output_type": "stream",
     "text": [
      "Testing...\n"
     ]
    },
    {
     "name": "stderr",
     "output_type": "stream",
     "text": [
      "Arena.playGames (1): 100%|██████████| 25/25 [01:45<00:00,  4.23s/it]\n",
      "Arena.playGames (2): 100%|██████████| 25/25 [01:38<00:00,  3.93s/it]\n",
      "Arena.playGames (1): 100%|██████████| 25/25 [02:29<00:00,  5.96s/it]\n",
      "Arena.playGames (2): 100%|██████████| 25/25 [02:22<00:00,  5.70s/it]"
     ]
    },
    {
     "name": "stdout",
     "output_type": "stream",
     "text": [
      "{'random': (45, 5, 0), 'mcts': (18, 31, 1)}\n"
     ]
    },
    {
     "name": "stderr",
     "output_type": "stream",
     "text": [
      "\n"
     ]
    }
   ],
   "source": [
    "hybrid_qnet_coach = Coach(game, hybrid_qnet, numMCTSSims=25, max_history_len=8192, compare_games=50)\n",
    "hybrid_qnet_coach.learn()"
   ]
  },
  {
   "cell_type": "code",
   "execution_count": 5,
   "metadata": {},
   "outputs": [
    {
     "data": {
      "image/png": "[encoded data removed]",
      "text/plain": [
       "<Figure size 800x300 with 2 Axes>"
      ]
     },
     "metadata": {},
     "output_type": "display_data"
    }
   ],
   "source": [
    "plot_performance_history(hybrid_qnet_coach.performanceHistory, \"AlphaZero-HybridQNet\")"
   ]
  }
 ],
 "metadata": {
  "kernelspec": {
   "display_name": "Python 3",
   "language": "python",
   "name": "python3"
  },
  "language_info": {
   "codemirror_mode": {
    "name": "ipython",
    "version": 3
   },
   "file_extension": ".py",
   "mimetype": "text/x-python",
   "name": "python",
   "nbconvert_exporter": "python",
   "pygments_lexer": "ipython3",
   "version": "3.10.12"
  }
 },
 "nbformat": 4,
 "nbformat_minor": 2
}
