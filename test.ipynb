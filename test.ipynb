{
 "cells": [
  {
   "cell_type": "code",
   "execution_count": 5,
   "metadata": {},
   "outputs": [],
   "source": [
    "import random\n",
    "import copy\n",
    "import numpy as np\n",
    "import pyspiel\n",
    "from open_spiel.python.algorithms import mcts\n",
    "from othello_game import OthelloGame, OthelloState\n",
    "from MCTS import MCTS\n",
    "from NNet import NNet"
   ]
  },
  {
   "cell_type": "code",
   "execution_count": 71,
   "metadata": {},
   "outputs": [
    {
     "name": "stdout",
     "output_type": "stream",
     "text": [
      "[1.0, -1.0]\n"
     ]
    }
   ],
   "source": [
    "game = pyspiel.load_game(\"othello_nxn\")\n",
    "state = game.new_initial_state()\n",
    "initial_state = copy.deepcopy(state)\n",
    "\n",
    "nnet = NNet()\n",
    "mcts = MCTS(game, nnet, numMCTSSims=500)\n",
    "\n",
    "# mcts.getActionProb(state)\n",
    "\n",
    "while not state.is_terminal():\n",
    "    if state.current_player() == 0:\n",
    "        probs = mcts.getActionProb(state)\n",
    "        state.apply_action(np.argmax(probs))\n",
    "        # state.apply_action(np.argmin(probs))\n",
    "        # print(\"Es\")\n",
    "        # for key, value in mcts.Es.items():\n",
    "        #     if value != 0:\n",
    "        #         print(key)\n",
    "        #         print(value)\n",
    "        # print(\"Qsa\")\n",
    "        # for key, value in mcts.Qsa.items():\n",
    "        #     print(key[0])\n",
    "        #     print(key[1])\n",
    "        #     print(value)\n",
    "        # break\n",
    "    else:\n",
    "        action = random.choice(state.legal_actions())\n",
    "        state.apply_action(action)\n",
    "\n",
    "print(state.returns())\n",
    "# print(np.array(state.observation_tensor(0)).reshape((2, 4, 4)))"
   ]
  },
  {
   "cell_type": "code",
   "execution_count": 60,
   "metadata": {},
   "outputs": [
    {
     "name": "stdout",
     "output_type": "stream",
     "text": [
      ". . . . . .\n",
      ". . . . . .\n",
      ". . O X . .\n",
      ". . X X . .\n",
      ". . . X . .\n",
      ". . . . . .\n",
      "27\n",
      "0.04188034188034187\n",
      ". . . . . .\n",
      ". . . . . .\n",
      ". . O X . .\n",
      ". . X O . .\n",
      ". . . X O .\n",
      ". . . . . .\n",
      "28\n",
      "-0.047222222222222214\n",
      ". . . . . .\n",
      ". . . . . .\n",
      ". . O X . .\n",
      ". . X O . .\n",
      ". . . X X X\n",
      ". . . . . .\n",
      "29\n",
      "0.06313131313131314\n",
      ". . . . . .\n",
      ". . . . . .\n",
      ". . O X . .\n",
      ". . X O . .\n",
      ". . . X O X\n",
      ". . . . . O\n",
      "35\n",
      "-0.0\n"
     ]
    }
   ],
   "source": [
    "# s = \"\"\". . . .\n",
    "# . O X .\n",
    "# . X O .\n",
    "# . . . .\"\"\"\n",
    "\n",
    "s = str(initial_state)\n",
    "\n",
    "children = mcts.tree[s]\n",
    "\n",
    "while len(children) > 0:\n",
    "    next_state, action = random.choice(list(children))\n",
    "    print(next_state)\n",
    "    print(action)\n",
    "    print(mcts.Qsa[(s, action)])\n",
    "    if next_state in mcts.tree:\n",
    "        children = mcts.tree[next_state]\n",
    "    else:\n",
    "        children = []\n",
    "    s = next_state"
   ]
  },
  {
   "cell_type": "code",
   "execution_count": 3,
   "metadata": {},
   "outputs": [
    {
     "data": {
      "text/plain": [
       "array([[[0., 1., 0., 0.],\n",
       "        [0., 1., 1., 0.],\n",
       "        [0., 1., 0., 0.],\n",
       "        [0., 0., 0., 0.]],\n",
       "\n",
       "       [[0., 0., 0., 0.],\n",
       "        [0., 0., 0., 0.],\n",
       "        [0., 0., 1., 0.],\n",
       "        [0., 0., 0., 0.]]])"
      ]
     },
     "execution_count": 3,
     "metadata": {},
     "output_type": "execute_result"
    }
   ],
   "source": [
    "np.array(state.observation_tensor(0)).reshape(2, 4, 4)"
   ]
  }
 ],
 "metadata": {
  "kernelspec": {
   "display_name": "venv",
   "language": "python",
   "name": "python3"
  },
  "language_info": {
   "codemirror_mode": {
    "name": "ipython",
    "version": 3
   },
   "file_extension": ".py",
   "mimetype": "text/x-python",
   "name": "python",
   "nbconvert_exporter": "python",
   "pygments_lexer": "ipython3",
   "version": "3.12.2"
  }
 },
 "nbformat": 4,
 "nbformat_minor": 2
}
